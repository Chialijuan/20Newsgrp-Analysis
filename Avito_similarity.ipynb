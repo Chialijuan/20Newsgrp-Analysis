{
 "cells": [
  {
   "cell_type": "markdown",
   "metadata": {},
   "source": [
    "Initial test of Avito dataset. Used the following features:\n",
    "1. parentCategoryID_x\n",
    "2. price_diff : Log of the absolute difference in prices between itemID_1 and itemID_2.\n",
    "3. title_desc_xy : Title and description of itemID_1 and itemID_2 concatenated together."
   ]
  },
  {
   "cell_type": "code",
   "execution_count": 123,
   "metadata": {},
   "outputs": [],
   "source": [
    "import pandas as pd\n",
    "import matplotlib.pyplot as plt\n",
    "import sqlite3\n",
    "import math\n",
    "import numpy as np\n",
    "from sklearn.feature_extraction.text import CountVectorizer, TfidfVectorizer\n",
    "from gensim.similarities.docsim import Similarity\n",
    "from sklearn.pipeline import Pipeline, FeatureUnion\n",
    "from sklearn.linear_model import LogisticRegression\n",
    "from sklearn.base import TransformerMixin\n",
    "from sklearn.metrics import accuracy_score\n",
    "from sklearn.model_selection import GridSearchCV, KFold\n",
    "from gensim.models import Word2Vec, Doc2Vec\n",
    "from bs4 import BeautifulSoup\n",
    "import re\n",
    "import nltk.data\n",
    "import string\n",
    "from gensim.models.doc2vec import TaggedDocument\n",
    "from gensim import matutils"
   ]
  },
  {
   "cell_type": "code",
   "execution_count": 12,
   "metadata": {
    "collapsed": true
   },
   "outputs": [],
   "source": [
    "iteminfo_train = pd.read_csv('ItemInfo_train.csv')\n",
    "#iteminfo_test = pd.read_csv('ItemInfo_test.csv')"
   ]
  },
  {
   "cell_type": "code",
   "execution_count": 13,
   "metadata": {
    "collapsed": true
   },
   "outputs": [],
   "source": [
    "itempairs_train = pd.read_csv('ItemPairs_train.csv')\n",
    "#itempairs_test = pd.read_csv('ItemPairs_test.csv')"
   ]
  },
  {
   "cell_type": "code",
   "execution_count": 14,
   "metadata": {
    "collapsed": true
   },
   "outputs": [],
   "source": [
    "location = pd.read_csv('Location.csv')\n",
    "category = pd.read_csv('Category.csv')"
   ]
  },
  {
   "cell_type": "code",
   "execution_count": 15,
   "metadata": {},
   "outputs": [
    {
     "name": "stdout",
     "output_type": "stream",
     "text": [
      "Length of ItemPairs_train.csv 2991396\n",
      "Length of ItemInfo_train.csv 3344613\n",
      "Length of Location.csv 3449\n",
      "Length of Category.csv 51\n"
     ]
    }
   ],
   "source": [
    "print 'Length of ItemPairs_train.csv ' + str(len(itempairs_train))\n",
    "print 'Length of ItemInfo_train.csv ' + str(len(iteminfo_train))\n",
    "print 'Length of Location.csv ' + str(len(location))\n",
    "print 'Length of Category.csv ' + str(len(category))"
   ]
  },
  {
   "cell_type": "code",
   "execution_count": 16,
   "metadata": {
    "scrolled": false
   },
   "outputs": [
    {
     "name": "stdout",
     "output_type": "stream",
     "text": [
      "itempairs_train dataframe\n",
      "   itemID_1  itemID_2  isDuplicate  generationMethod\n",
      "0         1   4112648            1                 1\n",
      "1         3   1991275            1                 1\n",
      "2         4   1223296            0                 1\n",
      "3         7   1058851            1                 1\n",
      "4         8   2161930            1                 1\n",
      "\n",
      "\n",
      "itemInfo_train dataframe\n",
      "   itemID  categoryID                                title  \\\n",
      "0       1          81                    Продам Камаз 6520   \n",
      "1       3          14                            Yamaha r6   \n",
      "2       4          84                       iPhone 3gs 8gb   \n",
      "3       7          84  Xiaomi Mi4 3гб RAM + 16гб ROM белый   \n",
      "4       8          39                       Лыжные ботинки   \n",
      "\n",
      "                                         description  \\\n",
      "0                          Продам Камаз 6520 20 тонн   \n",
      "1                                    Весь в тюнинге.   \n",
      "2  Телефон в хорошем состоянии, трещин и сколов н...   \n",
      "3  Отличный подарок на новый год от \"китайской ap...   \n",
      "4      Лыжные ботинки в хорошем состоянии, 34 размер   \n",
      "\n",
      "                                  images_array  \\\n",
      "0  1064094, 5252822, 6645873, 6960145, 9230265   \n",
      "1         11919573, 14412228, 3204180, 6646877   \n",
      "2                            14384831, 6102021   \n",
      "3                                          NaN   \n",
      "4                            13718854, 4787310   \n",
      "\n",
      "                                           attrsJSON     price  locationID  \\\n",
      "0                        {\"Вид техники\":\"Грузовики\"}  300000.0      648140   \n",
      "1  {\"Вид техники\":\"Мотоциклы\", \"Вид мотоцикла\":\"С...  300000.0      639040   \n",
      "2                          {\"Вид телефона\":\"iPhone\"}    3500.0      640650   \n",
      "3                    {\"Вид телефона\":\"Другие марки\"}   13500.0      662210   \n",
      "4                {\"Вид товара\":\"Зимние виды спорта\"}     500.0      624360   \n",
      "\n",
      "   metroID        lat        lon  \n",
      "0      NaN  64.686946  30.815924  \n",
      "1      NaN  55.678037  37.256548  \n",
      "2      NaN  56.239398  43.460458  \n",
      "3      NaN  55.777170  37.586194  \n",
      "4      NaN  55.777170  37.586194  \n",
      "\n",
      "\n",
      "location dataframe\n",
      "   locationID  regionID\n",
      "0      621551    621550\n",
      "1      621552    621550\n",
      "2      621553    621550\n",
      "3      621554    621550\n",
      "4      621555    621550\n",
      "\n",
      "\n",
      "itemPairs_train counts\n",
      "itemID_1            2991396\n",
      "itemID_2            2991396\n",
      "isDuplicate         2991396\n",
      "generationMethod    2991396\n",
      "dtype: int64\n",
      "\n",
      "\n",
      "location counts\n",
      "locationID    3449\n",
      "regionID      3449\n",
      "dtype: int64\n",
      "\n",
      "\n",
      "iteminfo_train counts\n",
      "itemID          3344613\n",
      "categoryID      3344613\n",
      "title           3344612\n",
      "description     3344508\n",
      "images_array    2946588\n",
      "attrsJSON       3240625\n",
      "price           3022487\n",
      "locationID      3344613\n",
      "metroID         1100795\n",
      "lat             3344613\n",
      "lon             3344613\n",
      "dtype: int64\n"
     ]
    }
   ],
   "source": [
    "print 'itempairs_train dataframe'\n",
    "print itempairs_train.head()\n",
    "print '\\n\\nitemInfo_train dataframe'\n",
    "print iteminfo_train.head()\n",
    "print '\\n\\nlocation dataframe'\n",
    "print location.head()\n",
    "print '\\n\\nitemPairs_train counts'\n",
    "print itempairs_train.count()\n",
    "print '\\n\\nlocation counts'\n",
    "print location.count()\n",
    "print '\\n\\niteminfo_train counts'\n",
    "print iteminfo_train.count()"
   ]
  },
  {
   "cell_type": "code",
   "execution_count": 17,
   "metadata": {
    "collapsed": true
   },
   "outputs": [],
   "source": [
    "iteminfo_train_loc = pd.merge(pd.merge(iteminfo_train, location, how = 'left', on = 'locationID'), category, how = 'left', on = 'categoryID')\n",
    "#iteminfo_test_loc = pd.merge(pd.merge(iteminfo_test, location, how = 'left', on = 'locationID'), category, how = 'left', on = 'categoryID')"
   ]
  },
  {
   "cell_type": "code",
   "execution_count": 18,
   "metadata": {
    "collapsed": true
   },
   "outputs": [],
   "source": [
    "x = pd.merge(pd.merge(itempairs_train, iteminfo_train_loc, how = 'left', left_on = 'itemID_1', right_on = 'itemID'), \n",
    "                    iteminfo_train_loc, how = 'left', left_on = 'itemID_2', right_on = 'itemID')\n",
    "#x_test = pd.merge(pd.merge(itempairs_test, iteminfo_test_loc, how = 'left', left_on = 'itemID_1', right_on = 'itemID'), \n",
    "#                    iteminfo_test_loc, how = 'left', left_on = 'itemID_2', right_on = 'itemID')"
   ]
  },
  {
   "cell_type": "code",
   "execution_count": 19,
   "metadata": {},
   "outputs": [
    {
     "data": {
      "text/plain": [
       "itemID_1              2991396\n",
       "itemID_2              2991396\n",
       "isDuplicate           2991396\n",
       "generationMethod      2991396\n",
       "itemID_x              2991396\n",
       "categoryID_x          2991396\n",
       "title_x               2991395\n",
       "description_x         2991344\n",
       "images_array_x        2713476\n",
       "attrsJSON_x           2885530\n",
       "price_x               2707502\n",
       "locationID_x          2991396\n",
       "metroID_x             1015627\n",
       "lat_x                 2991396\n",
       "lon_x                 2991396\n",
       "regionID_x            2991396\n",
       "parentCategoryID_x    2991396\n",
       "itemID_y              2991396\n",
       "categoryID_y          2991396\n",
       "title_y               2991396\n",
       "description_y         2991335\n",
       "images_array_y        2712759\n",
       "attrsJSON_y           2885530\n",
       "price_y               2707165\n",
       "locationID_y          2991396\n",
       "metroID_y             1015224\n",
       "lat_y                 2991396\n",
       "lon_y                 2991396\n",
       "regionID_y            2991396\n",
       "parentCategoryID_y    2991396\n",
       "dtype: int64"
      ]
     },
     "execution_count": 19,
     "metadata": {},
     "output_type": "execute_result"
    }
   ],
   "source": [
    "x.count()"
   ]
  },
  {
   "cell_type": "markdown",
   "metadata": {},
   "source": [
    "## Price"
   ]
  },
  {
   "cell_type": "markdown",
   "metadata": {},
   "source": [
    "Create a new variable price_diff:\n",
    "$$\\text{price_diff} = \\log( \\lvert \\text{x.price_x} - \\text{x.price_y}\\rvert )$$\n",
    "where NaN values are currently left as zeros."
   ]
  },
  {
   "cell_type": "code",
   "execution_count": 20,
   "metadata": {
    "collapsed": true
   },
   "outputs": [],
   "source": [
    "x['price_diff'] = abs(x.price_x - x.price_y).map(lambda x : 0 if np.isnan(x) else 0 if x == 0 else math.log(x))\n",
    "#x_test['price_diff'] = abs(x_test.price_x - x_test.price_y).map(lambda x : 0 if np.isnan(x) else 0 if x == 0 else math.log(x))"
   ]
  },
  {
   "cell_type": "code",
   "execution_count": 21,
   "metadata": {},
   "outputs": [
    {
     "data": {
      "image/png": "[encoded data removed]",
      "text/plain": [
       "<matplotlib.figure.Figure at 0xde79f400>"
      ]
     },
     "metadata": {},
     "output_type": "display_data"
    }
   ],
   "source": [
    "figure = plt.figure(figsize=(15,6))\n",
    "plt.hist(x.price_diff, bins = 50)\n",
    "plt.show()"
   ]
  },
  {
   "cell_type": "code",
   "execution_count": 22,
   "metadata": {},
   "outputs": [
    {
     "data": {
      "image/png": "[encoded data removed]",
      "text/plain": [
       "<matplotlib.figure.Figure at 0x38e626d8>"
      ]
     },
     "metadata": {},
     "output_type": "display_data"
    }
   ],
   "source": [
    "figure = plt.figure(figsize=(15,6))\n",
    "plt.hist(np.array(x.price_diff)[np.where(x.price_diff != 0)], bins = 50)\n",
    "plt.show()"
   ]
  },
  {
   "cell_type": "markdown",
   "metadata": {},
   "source": [
    "## Images\n",
    "Finding difference in number of images between the two items"
   ]
  },
  {
   "cell_type": "code",
   "execution_count": 23,
   "metadata": {
    "collapsed": true
   },
   "outputs": [],
   "source": [
    "x['images_array_x'] =  x['images_array_x'].apply(lambda s : len(s.split()) if isinstance(s, str) else 0)\n",
    "x['images_array_y'] =  x['images_array_y'].apply(lambda s : len(s.split()) if isinstance(s, str) else 0)\n",
    "x['images_num_diff'] = x[['images_array_x', 'images_array_y']].apply(lambda s: abs(s[0] - s[1]), axis = 1)"
   ]
  },
  {
   "cell_type": "markdown",
   "metadata": {},
   "source": [
    "## Title and Description\n",
    "Combine both columns and transform into document term matrix"
   ]
  },
  {
   "cell_type": "code",
   "execution_count": 24,
   "metadata": {
    "collapsed": true
   },
   "outputs": [],
   "source": [
    "x['title_x'] = x.title_x.map(lambda x : '' if pd.isnull(x) else x)\n",
    "x['title_y'] = x.title_y.map(lambda x : '' if pd.isnull(x) else x)\n",
    "x['description_x'] = x.description_x.map(lambda x : '' if pd.isnull(x) else x)\n",
    "x['description_y'] = x.description_y.map(lambda x : '' if pd.isnull(x) else x)\n",
    "#x_test['title_x'] = x_test.title_x.map(lambda x : '' if pd.isnull(x) else x)\n",
    "#x_test['title_y'] = x_test.title_y.map(lambda x : '' if pd.isnull(x) else x)\n",
    "#x_test['description_x'] = x_test.description_x.map(lambda x : '' if pd.isnull(x) else x)\n",
    "#x_test['description_y'] = x_test.description_\n",
    "\n",
    "x['title_desc_x'] = x.title_x + x.description_x\n",
    "x['title_desc_y'] = x.title_y + x.description_y\n",
    "#x_test['title_desc_x'] = x_test.title_x + x_test.description_x\n",
    "#x_test['title_desc_y'] = x_test.title_y + x_test.description_y\n",
    "\n",
    "x['title_desc_xy'] = x.title_desc_x + x.title_desc_y"
   ]
  },
  {
   "cell_type": "code",
   "execution_count": null,
   "metadata": {
    "collapsed": true
   },
   "outputs": [],
   "source": [
    "del x['itemID_1']\n",
    "del x['itemID_2']\n",
    "del x['itemID_x']\n",
    "del x['itemID_y']\n",
    "del x['categoryID_x']\n",
    "del x['categoryID_y']\n",
    "del x['parentCategoryID_y']\n",
    "del x['images_array_x']\n",
    "del x['images_array_y']\n",
    "del x['attrsJSON_x']\n",
    "del x['attrsJSON_y']\n",
    "del x['price_x']\n",
    "del x['price_y']\n",
    "del x['locationID_x']\n",
    "del x['locationID_y']\n",
    "del x['metroID_x']\n",
    "del x['metroID_y']\n",
    "del x['lat_x']\n",
    "del x['lat_y']\n",
    "del x['lon_x']\n",
    "del x['lon_y']\n",
    "del x['regionID_x']\n",
    "del x['regionID_y']\n",
    "#del x['same_cat']\n",
    "del x['generationMethod']\n",
    "del x['title_x']\n",
    "del x['title_y']\n",
    "del x['description_x']\n",
    "del x['description_y']"
   ]
  },
  {
   "cell_type": "code",
   "execution_count": 25,
   "metadata": {
    "scrolled": true
   },
   "outputs": [
    {
     "data": {
      "text/plain": [
       "itemID_1              2991396\n",
       "itemID_2              2991396\n",
       "isDuplicate           2991396\n",
       "generationMethod      2991396\n",
       "itemID_x              2991396\n",
       "categoryID_x          2991396\n",
       "title_x               2991396\n",
       "description_x         2991396\n",
       "images_array_x        2991396\n",
       "attrsJSON_x           2885530\n",
       "price_x               2707502\n",
       "locationID_x          2991396\n",
       "metroID_x             1015627\n",
       "lat_x                 2991396\n",
       "lon_x                 2991396\n",
       "regionID_x            2991396\n",
       "parentCategoryID_x    2991396\n",
       "itemID_y              2991396\n",
       "categoryID_y          2991396\n",
       "title_y               2991396\n",
       "description_y         2991396\n",
       "images_array_y        2991396\n",
       "attrsJSON_y           2885530\n",
       "price_y               2707165\n",
       "locationID_y          2991396\n",
       "metroID_y             1015224\n",
       "lat_y                 2991396\n",
       "lon_y                 2991396\n",
       "regionID_y            2991396\n",
       "parentCategoryID_y    2991396\n",
       "price_diff            2991396\n",
       "images_num_diff       2991396\n",
       "title_desc_x          2991396\n",
       "title_desc_y          2991396\n",
       "title_desc_xy         2991396\n",
       "dtype: int64"
      ]
     },
     "execution_count": 25,
     "metadata": {},
     "output_type": "execute_result"
    }
   ],
   "source": [
    "x.count()"
   ]
  },
  {
   "cell_type": "markdown",
   "metadata": {},
   "source": [
    "## Average Feature Vectors"
   ]
  },
  {
   "cell_type": "code",
   "execution_count": 28,
   "metadata": {
    "collapsed": true
   },
   "outputs": [],
   "source": [
    "def clean_text(document):    \n",
    "    # Removes punctuations\n",
    "    document = document.translate(None, string.punctuation)\n",
    "    \n",
    "    # Change to lowercase\n",
    "    document = document.lower()\n",
    "    \n",
    "    # Removes newline characters\n",
    "    document = ' '.join(document.split('\\n'))\n",
    "    \n",
    "    # Replace multiple spaces with one space\n",
    "    document = ' '.join(document.split())\n",
    "    #document = nlp(unicode(document))\n",
    "    \n",
    "    return document"
   ]
  },
  {
   "cell_type": "code",
   "execution_count": 71,
   "metadata": {
    "collapsed": true
   },
   "outputs": [],
   "source": [
    "def makeFeatureVec(words, model, num_features):\n",
    "    # Function to average all of the word vectors in a given\n",
    "    # paragraph\n",
    "    #\n",
    "    # Pre-initialize an empty numpy array (for speed)\n",
    "    featureVec = np.zeros((num_features,),dtype=\"float32\")\n",
    "    #\n",
    "    nwords = 0.\n",
    "    # \n",
    "    # Index2word is a list that contains the names of the words in \n",
    "    # the model's vocabulary. Convert it to a set, for speed \n",
    "    index2word_set = set(model.wv.index2word)\n",
    "    #\n",
    "    # Loop over each word in the review and, if it is in the model's\n",
    "    # vocaublary, add its feature vector to the total\n",
    "    for word in words:\n",
    "        word = word.decode('utf-8')\n",
    "        if word in index2word_set: \n",
    "            nwords = nwords + 1.\n",
    "            featureVec = np.add(featureVec, model[word])\n",
    "    # \n",
    "    # Divide the result by the number of words to get the average\n",
    "    featureVec = np.divide(featureVec, nwords)\n",
    "    return featureVec"
   ]
  },
  {
   "cell_type": "code",
   "execution_count": 72,
   "metadata": {},
   "outputs": [],
   "source": [
    "# Word2Vec\n",
    "sentences_desc_x = []\n",
    "sentences_desc_y = []\n",
    "a = x.description_x[0:10]\n",
    "b = x.description_y[0:10]\n",
    "for i in range(len(a)):\n",
    "    sentences_desc_x.append(clean_text(a[i]).decode('utf-8').split())\n",
    "    sentences_desc_y.append(clean_text(b[i]).decode('utf-8').split())\n",
    "model_desc_x = Word2Vec(sentences_desc_x, min_count = 1)\n",
    "model_desc_y = Word2Vec(sentences_desc_y, min_count = 1)"
   ]
  },
  {
   "cell_type": "code",
   "execution_count": 114,
   "metadata": {},
   "outputs": [],
   "source": [
    "# doc2vec\n",
    "sentences_desc_x = []\n",
    "sentences_desc_y = []\n",
    "a = x.description_x[0:10]\n",
    "b = x.description_y[0:10]\n",
    "for i in range(len(a)):\n",
    "    sentences_desc_x.append(TaggedDocument(clean_text(a[i]).decode('utf-8').split(), [i]))\n",
    "    sentences_desc_y.append(TaggedDocument(clean_text(b[i]).decode('utf-8').split(), [i]))"
   ]
  },
  {
   "cell_type": "code",
   "execution_count": 150,
   "metadata": {},
   "outputs": [
    {
     "data": {
      "text/plain": [
       "array([[ 1.        ,  0.17988287],\n",
       "       [ 0.17988287,  1.        ]], dtype=float32)"
      ]
     },
     "execution_count": 150,
     "metadata": {},
     "output_type": "execute_result"
    }
   ],
   "source": [
    "# doc2vec\n",
    "from sklearn.metrics.pairwise import cosine_similarity\n",
    "model = Doc2Vec(sentences_desc_x)\n",
    "i = 1\n",
    "cosine_similarity(np.array([model.infer_vector(clean_text(a[i]).decode('utf-8')), model.infer_vector(clean_text(b[i]).decode('utf-8'))]))\n"
   ]
  },
  {
   "cell_type": "code",
   "execution_count": 143,
   "metadata": {},
   "outputs": [
    {
     "name": "stdout",
     "output_type": "stream",
     "text": [
      "0                            Продам Камаз 6520 20 тонн\n",
      "1                                      Весь в тюнинге.\n",
      "2    Телефон в хорошем состоянии, трещин и сколов н...\n",
      "3    Отличный подарок на новый год от \"китайской ap...\n",
      "4        Лыжные ботинки в хорошем состоянии, 34 размер\n",
      "5    сноубордические ботинки Nitro Team\\nразмер 42,...\n",
      "6    Машина новая пробег реальный. Не битая не краш...\n",
      "7    Машина новая пробег реальный. Не битая не краш...\n",
      "8    Телевизоры кинескопные, диагональ от 37 см. до...\n",
      "9    качественная, производство Казань, хорошее сос...\n",
      "Name: description_x, dtype: object\n",
      "0                            Продам Камаз 6520 20 тонн\n",
      "1                        Весь в тюнинге. Возможен торг\n",
      "2    В отличном состоянии, в комплекте зарядник и к...\n",
      "3    Отличный подарок на новый год от \"китайской ap...\n",
      "4               Ботинки 34 размер, в хорошем состоянии\n",
      "5    ботинки Nitro Team\\nразмер 42,5\\n28см, 10 us\\n...\n",
      "6    Машина как новая. Комплектация максимальная- п...\n",
      "7    Машина в идеальном состояний. Не битая не краш...\n",
      "8    Кинескопный. Отличное состояние. Великолепное ...\n",
      "9    в отличном состоянии, можно мерить с 48 по 52 ...\n",
      "Name: description_y, dtype: object\n"
     ]
    }
   ],
   "source": [
    "print x.description_x[0:10]\n",
    "print x.description_y[0:10]"
   ]
  },
  {
   "cell_type": "code",
   "execution_count": 148,
   "metadata": {
    "scrolled": false
   },
   "outputs": [
    {
     "name": "stdout",
     "output_type": "stream",
     "text": [
      "[[ 1.00000012  0.99995601]\n",
      " [ 0.99995601  1.00000012]]\n",
      "1\n",
      "\n",
      "[[ 0.99999988  0.79194969]\n",
      " [ 0.79194969  1.        ]]\n",
      "1\n",
      "\n",
      "[[ 1.          0.32071996]\n",
      " [ 0.32071996  1.        ]]\n",
      "0\n",
      "\n",
      "[[ 1.00000012  0.98104072]\n",
      " [ 0.98104072  0.99999994]]\n",
      "1\n",
      "\n",
      "[[ 1.          0.72722059]\n",
      " [ 0.72722059  1.00000012]]\n",
      "1\n",
      "\n",
      "[[ 0.99999994  0.96389675]\n",
      " [ 0.96389675  0.99999994]]\n",
      "1\n",
      "\n",
      "[[ 0.99999994  0.16203365]\n",
      " [ 0.16203365  0.99999988]]\n",
      "0\n",
      "\n",
      "[[ 0.99999994  0.21790418]\n",
      " [ 0.21790418  1.        ]]\n",
      "0\n",
      "\n",
      "[[ 1.          0.05282536]\n",
      " [ 0.05282536  1.00000012]]\n",
      "0\n",
      "\n",
      "[[ 0.99999988  0.45334521]\n",
      " [ 0.45334521  1.00000012]]\n",
      "0\n",
      "\n"
     ]
    }
   ],
   "source": [
    "# word2vec\n",
    "for i in range(len(x.description_x[0:10])):\n",
    "    print cosine_similarity(np.array([makeFeatureVec(clean_text(x.description_x[i]).split(), model_desc_x, num_features), makeFeatureVec(clean_text(x.description_y[i]).split(), model_desc_y, num_features)]))\n",
    "    print x.isDuplicate[i]\n",
    "    print\n",
    "    \n"
   ]
  },
  {
   "cell_type": "code",
   "execution_count": 80,
   "metadata": {},
   "outputs": [],
   "source": [
    "# word2vec subtraction\n",
    "num_features = model_desc_x.wv.syn0.shape[1]\n",
    "feature_vecs_desc = []\n",
    "for i in range(len(x.description_x[0:10])):\n",
    "    feature_vecs_desc.append(np.subtract(makeFeatureVec(clean_text(x.description_x[i]).split(), model_desc_x, num_features), makeFeatureVec(clean_text(x.description_y[i]).split(), model_desc_y, num_features)))\n",
    "    #feature_vecs_desc_x.append(makeFeatureVec(clean_text(x.description_x[i]).split(), model_desc_x, num_features))\n",
    "    #feature_vecs_desc_y.append(makeFeatureVec(clean_text(x.description_y[i]).split(), model_desc_y, num_features))\n",
    "    #x.description_x[0:10].map(lambda x : makeFeatureVec(clean_text(x), model, num_features))"
   ]
  },
  {
   "cell_type": "code",
   "execution_count": 92,
   "metadata": {},
   "outputs": [],
   "source": [
    "x_new = pd.concat((x[0:10], pd.DataFrame(feature_vecs_desc)), axis = 1)\n",
    "y_new = x[0:10].isDuplicate"
   ]
  },
  {
   "cell_type": "code",
   "execution_count": 97,
   "metadata": {},
   "outputs": [
    {
     "data": {
      "text/plain": [
       "isDuplicate           10\n",
       "parentCategoryID_x    10\n",
       "price_diff            10\n",
       "images_num_diff       10\n",
       "title_desc_x          10\n",
       "title_desc_y          10\n",
       "title_desc_xy         10\n",
       "0                     10\n",
       "1                     10\n",
       "2                     10\n",
       "3                     10\n",
       "4                     10\n",
       "5                     10\n",
       "6                     10\n",
       "7                     10\n",
       "8                     10\n",
       "9                     10\n",
       "10                    10\n",
       "11                    10\n",
       "12                    10\n",
       "13                    10\n",
       "14                    10\n",
       "15                    10\n",
       "16                    10\n",
       "17                    10\n",
       "18                    10\n",
       "19                    10\n",
       "20                    10\n",
       "21                    10\n",
       "22                    10\n",
       "                      ..\n",
       "70                    10\n",
       "71                    10\n",
       "72                    10\n",
       "73                    10\n",
       "74                    10\n",
       "75                    10\n",
       "76                    10\n",
       "77                    10\n",
       "78                    10\n",
       "79                    10\n",
       "80                    10\n",
       "81                    10\n",
       "82                    10\n",
       "83                    10\n",
       "84                    10\n",
       "85                    10\n",
       "86                    10\n",
       "87                    10\n",
       "88                    10\n",
       "89                    10\n",
       "90                    10\n",
       "91                    10\n",
       "92                    10\n",
       "93                    10\n",
       "94                    10\n",
       "95                    10\n",
       "96                    10\n",
       "97                    10\n",
       "98                    10\n",
       "99                    10\n",
       "Length: 107, dtype: int64"
      ]
     },
     "execution_count": 97,
     "metadata": {},
     "output_type": "execute_result"
    }
   ],
   "source": [
    "del x_new['itemID_2']\n",
    "del x_new['itemID_x']\n",
    "del x_new['itemID_y']\n",
    "del x_new['categoryID_x']\n",
    "del x_new['categoryID_y']\n",
    "del x_new['parentCategoryID_y']\n",
    "del x_new['images_array_x']\n",
    "del x_new['images_array_y']\n",
    "del x_new['attrsJSON_x']\n",
    "del x_new['attrsJSON_y']\n",
    "del x_new['price_x']\n",
    "del x_new['price_y']\n",
    "del x_new['locationID_x']\n",
    "del x_new['locationID_y']\n",
    "del x_new['metroID_x']\n",
    "del x_new['metroID_y']\n",
    "del x_new['lat_x']\n",
    "del x_new['lat_y']\n",
    "del x_new['lon_x']\n",
    "del x_new['lon_y']\n",
    "del x_new['regionID_x']\n",
    "del x_new['regionID_y']\n",
    "#del x['same_cat']\n",
    "del x_new['generationMethod']\n",
    "del x_new['title_x']\n",
    "del x_new['title_y']\n",
    "del x_new['description_x']\n",
    "del x_new['description_y']\n",
    "x_new.count()"
   ]
  },
  {
   "cell_type": "code",
   "execution_count": 98,
   "metadata": {},
   "outputs": [
    {
     "data": {
      "text/plain": [
       "isDuplicate           10\n",
       "parentCategoryID_x    10\n",
       "price_diff            10\n",
       "images_num_diff       10\n",
       "0                     10\n",
       "1                     10\n",
       "2                     10\n",
       "3                     10\n",
       "4                     10\n",
       "5                     10\n",
       "6                     10\n",
       "7                     10\n",
       "8                     10\n",
       "9                     10\n",
       "10                    10\n",
       "11                    10\n",
       "12                    10\n",
       "13                    10\n",
       "14                    10\n",
       "15                    10\n",
       "16                    10\n",
       "17                    10\n",
       "18                    10\n",
       "19                    10\n",
       "20                    10\n",
       "21                    10\n",
       "22                    10\n",
       "23                    10\n",
       "24                    10\n",
       "25                    10\n",
       "                      ..\n",
       "70                    10\n",
       "71                    10\n",
       "72                    10\n",
       "73                    10\n",
       "74                    10\n",
       "75                    10\n",
       "76                    10\n",
       "77                    10\n",
       "78                    10\n",
       "79                    10\n",
       "80                    10\n",
       "81                    10\n",
       "82                    10\n",
       "83                    10\n",
       "84                    10\n",
       "85                    10\n",
       "86                    10\n",
       "87                    10\n",
       "88                    10\n",
       "89                    10\n",
       "90                    10\n",
       "91                    10\n",
       "92                    10\n",
       "93                    10\n",
       "94                    10\n",
       "95                    10\n",
       "96                    10\n",
       "97                    10\n",
       "98                    10\n",
       "99                    10\n",
       "Length: 104, dtype: int64"
      ]
     },
     "execution_count": 98,
     "metadata": {},
     "output_type": "execute_result"
    }
   ],
   "source": [
    "del x_new['title_desc_x']\n",
    "del x_new['title_desc_y']\n",
    "del x_new['title_desc_xy']\n",
    "x_new.count()"
   ]
  },
  {
   "cell_type": "code",
   "execution_count": 99,
   "metadata": {},
   "outputs": [
    {
     "data": {
      "text/html": [
       "<div>\n",
       "<style>\n",
       "    .dataframe thead tr:only-child th {\n",
       "        text-align: right;\n",
       "    }\n",
       "\n",
       "    .dataframe thead th {\n",
       "        text-align: left;\n",
       "    }\n",
       "\n",
       "    .dataframe tbody tr th {\n",
       "        vertical-align: top;\n",
       "    }\n",
       "</style>\n",
       "<table border=\"1\" class=\"dataframe\">\n",
       "  <thead>\n",
       "    <tr style=\"text-align: right;\">\n",
       "      <th></th>\n",
       "      <th>isDuplicate</th>\n",
       "      <th>parentCategoryID_x</th>\n",
       "      <th>price_diff</th>\n",
       "      <th>images_num_diff</th>\n",
       "      <th>0</th>\n",
       "      <th>1</th>\n",
       "      <th>2</th>\n",
       "      <th>3</th>\n",
       "      <th>4</th>\n",
       "      <th>5</th>\n",
       "      <th>...</th>\n",
       "      <th>90</th>\n",
       "      <th>91</th>\n",
       "      <th>92</th>\n",
       "      <th>93</th>\n",
       "      <th>94</th>\n",
       "      <th>95</th>\n",
       "      <th>96</th>\n",
       "      <th>97</th>\n",
       "      <th>98</th>\n",
       "      <th>99</th>\n",
       "    </tr>\n",
       "  </thead>\n",
       "  <tbody>\n",
       "    <tr>\n",
       "      <th>0</th>\n",
       "      <td>1</td>\n",
       "      <td>1</td>\n",
       "      <td>0.000000</td>\n",
       "      <td>1</td>\n",
       "      <td>-0.000009</td>\n",
       "      <td>-0.000006</td>\n",
       "      <td>0.000014</td>\n",
       "      <td>-0.000016</td>\n",
       "      <td>-0.000010</td>\n",
       "      <td>0.000019</td>\n",
       "      <td>...</td>\n",
       "      <td>0.000020</td>\n",
       "      <td>-0.000019</td>\n",
       "      <td>0.000008</td>\n",
       "      <td>0.000010</td>\n",
       "      <td>-0.000034</td>\n",
       "      <td>0.000007</td>\n",
       "      <td>-1.140172e-05</td>\n",
       "      <td>0.000027</td>\n",
       "      <td>0.000024</td>\n",
       "      <td>0.000006</td>\n",
       "    </tr>\n",
       "    <tr>\n",
       "      <th>1</th>\n",
       "      <td>1</td>\n",
       "      <td>1</td>\n",
       "      <td>10.308953</td>\n",
       "      <td>1</td>\n",
       "      <td>0.000114</td>\n",
       "      <td>0.000765</td>\n",
       "      <td>-0.000597</td>\n",
       "      <td>-0.000714</td>\n",
       "      <td>-0.001065</td>\n",
       "      <td>-0.000524</td>\n",
       "      <td>...</td>\n",
       "      <td>-0.000362</td>\n",
       "      <td>-0.000312</td>\n",
       "      <td>-0.001814</td>\n",
       "      <td>0.001225</td>\n",
       "      <td>-0.002049</td>\n",
       "      <td>0.002724</td>\n",
       "      <td>4.035157e-04</td>\n",
       "      <td>0.000112</td>\n",
       "      <td>0.000489</td>\n",
       "      <td>-0.000863</td>\n",
       "    </tr>\n",
       "    <tr>\n",
       "      <th>2</th>\n",
       "      <td>0</td>\n",
       "      <td>6</td>\n",
       "      <td>0.000000</td>\n",
       "      <td>1</td>\n",
       "      <td>-0.001298</td>\n",
       "      <td>0.000708</td>\n",
       "      <td>-0.000822</td>\n",
       "      <td>0.000334</td>\n",
       "      <td>0.000629</td>\n",
       "      <td>0.000210</td>\n",
       "      <td>...</td>\n",
       "      <td>-0.000161</td>\n",
       "      <td>-0.001606</td>\n",
       "      <td>0.000681</td>\n",
       "      <td>0.001357</td>\n",
       "      <td>-0.000955</td>\n",
       "      <td>-0.000480</td>\n",
       "      <td>-5.875535e-04</td>\n",
       "      <td>0.000354</td>\n",
       "      <td>0.000653</td>\n",
       "      <td>-0.001375</td>\n",
       "    </tr>\n",
       "    <tr>\n",
       "      <th>3</th>\n",
       "      <td>1</td>\n",
       "      <td>6</td>\n",
       "      <td>0.000000</td>\n",
       "      <td>1</td>\n",
       "      <td>-0.000033</td>\n",
       "      <td>-0.000087</td>\n",
       "      <td>0.000079</td>\n",
       "      <td>-0.000043</td>\n",
       "      <td>0.000019</td>\n",
       "      <td>-0.000011</td>\n",
       "      <td>...</td>\n",
       "      <td>0.000044</td>\n",
       "      <td>-0.000036</td>\n",
       "      <td>-0.000045</td>\n",
       "      <td>0.000059</td>\n",
       "      <td>-0.000024</td>\n",
       "      <td>-0.000044</td>\n",
       "      <td>-7.976960e-07</td>\n",
       "      <td>0.000085</td>\n",
       "      <td>0.000055</td>\n",
       "      <td>0.000048</td>\n",
       "    </tr>\n",
       "    <tr>\n",
       "      <th>4</th>\n",
       "      <td>1</td>\n",
       "      <td>7</td>\n",
       "      <td>4.605170</td>\n",
       "      <td>0</td>\n",
       "      <td>-0.001105</td>\n",
       "      <td>0.000671</td>\n",
       "      <td>0.000015</td>\n",
       "      <td>0.001255</td>\n",
       "      <td>-0.000437</td>\n",
       "      <td>-0.000181</td>\n",
       "      <td>...</td>\n",
       "      <td>0.000188</td>\n",
       "      <td>0.000296</td>\n",
       "      <td>0.000463</td>\n",
       "      <td>-0.000276</td>\n",
       "      <td>-0.000348</td>\n",
       "      <td>0.000397</td>\n",
       "      <td>1.585739e-04</td>\n",
       "      <td>0.000396</td>\n",
       "      <td>0.001248</td>\n",
       "      <td>-0.000789</td>\n",
       "    </tr>\n",
       "    <tr>\n",
       "      <th>5</th>\n",
       "      <td>1</td>\n",
       "      <td>7</td>\n",
       "      <td>0.000000</td>\n",
       "      <td>0</td>\n",
       "      <td>-0.000011</td>\n",
       "      <td>-0.000423</td>\n",
       "      <td>0.000434</td>\n",
       "      <td>-0.000494</td>\n",
       "      <td>0.000133</td>\n",
       "      <td>-0.000123</td>\n",
       "      <td>...</td>\n",
       "      <td>0.000079</td>\n",
       "      <td>-0.000113</td>\n",
       "      <td>-0.000240</td>\n",
       "      <td>-0.000300</td>\n",
       "      <td>-0.000135</td>\n",
       "      <td>0.000593</td>\n",
       "      <td>3.142895e-04</td>\n",
       "      <td>0.000043</td>\n",
       "      <td>0.000399</td>\n",
       "      <td>-0.000455</td>\n",
       "    </tr>\n",
       "    <tr>\n",
       "      <th>6</th>\n",
       "      <td>0</td>\n",
       "      <td>1</td>\n",
       "      <td>8.517193</td>\n",
       "      <td>1</td>\n",
       "      <td>0.000829</td>\n",
       "      <td>-0.000255</td>\n",
       "      <td>0.000480</td>\n",
       "      <td>0.000146</td>\n",
       "      <td>-0.000931</td>\n",
       "      <td>-0.000061</td>\n",
       "      <td>...</td>\n",
       "      <td>0.000025</td>\n",
       "      <td>-0.001307</td>\n",
       "      <td>-0.000624</td>\n",
       "      <td>0.001665</td>\n",
       "      <td>0.000173</td>\n",
       "      <td>-0.001687</td>\n",
       "      <td>1.508246e-03</td>\n",
       "      <td>0.000034</td>\n",
       "      <td>0.000111</td>\n",
       "      <td>-0.000579</td>\n",
       "    </tr>\n",
       "    <tr>\n",
       "      <th>7</th>\n",
       "      <td>0</td>\n",
       "      <td>1</td>\n",
       "      <td>9.210340</td>\n",
       "      <td>3</td>\n",
       "      <td>-0.000539</td>\n",
       "      <td>-0.000148</td>\n",
       "      <td>0.000448</td>\n",
       "      <td>-0.000750</td>\n",
       "      <td>-0.001297</td>\n",
       "      <td>0.000025</td>\n",
       "      <td>...</td>\n",
       "      <td>0.000138</td>\n",
       "      <td>-0.002327</td>\n",
       "      <td>0.001110</td>\n",
       "      <td>0.000623</td>\n",
       "      <td>0.000220</td>\n",
       "      <td>-0.001716</td>\n",
       "      <td>1.562459e-03</td>\n",
       "      <td>0.001271</td>\n",
       "      <td>0.000647</td>\n",
       "      <td>0.001160</td>\n",
       "    </tr>\n",
       "    <tr>\n",
       "      <th>8</th>\n",
       "      <td>0</td>\n",
       "      <td>6</td>\n",
       "      <td>8.131531</td>\n",
       "      <td>0</td>\n",
       "      <td>-0.000488</td>\n",
       "      <td>-0.000982</td>\n",
       "      <td>0.001645</td>\n",
       "      <td>0.000943</td>\n",
       "      <td>-0.000120</td>\n",
       "      <td>0.000565</td>\n",
       "      <td>...</td>\n",
       "      <td>0.000939</td>\n",
       "      <td>0.002129</td>\n",
       "      <td>0.001036</td>\n",
       "      <td>0.000382</td>\n",
       "      <td>-0.001418</td>\n",
       "      <td>0.000698</td>\n",
       "      <td>-3.128113e-04</td>\n",
       "      <td>0.001596</td>\n",
       "      <td>0.001064</td>\n",
       "      <td>0.001361</td>\n",
       "    </tr>\n",
       "    <tr>\n",
       "      <th>9</th>\n",
       "      <td>0</td>\n",
       "      <td>5</td>\n",
       "      <td>8.779557</td>\n",
       "      <td>0</td>\n",
       "      <td>0.000182</td>\n",
       "      <td>-0.000197</td>\n",
       "      <td>-0.000913</td>\n",
       "      <td>-0.000077</td>\n",
       "      <td>0.000948</td>\n",
       "      <td>0.000117</td>\n",
       "      <td>...</td>\n",
       "      <td>-0.000421</td>\n",
       "      <td>-0.000714</td>\n",
       "      <td>-0.000719</td>\n",
       "      <td>-0.000326</td>\n",
       "      <td>-0.000103</td>\n",
       "      <td>0.001467</td>\n",
       "      <td>-1.132724e-03</td>\n",
       "      <td>0.000334</td>\n",
       "      <td>0.001669</td>\n",
       "      <td>0.000179</td>\n",
       "    </tr>\n",
       "  </tbody>\n",
       "</table>\n",
       "<p>10 rows × 104 columns</p>\n",
       "</div>"
      ],
      "text/plain": [
       "   isDuplicate  parentCategoryID_x  price_diff  images_num_diff         0  \\\n",
       "0            1                   1    0.000000                1 -0.000009   \n",
       "1            1                   1   10.308953                1  0.000114   \n",
       "2            0                   6    0.000000                1 -0.001298   \n",
       "3            1                   6    0.000000                1 -0.000033   \n",
       "4            1                   7    4.605170                0 -0.001105   \n",
       "5            1                   7    0.000000                0 -0.000011   \n",
       "6            0                   1    8.517193                1  0.000829   \n",
       "7            0                   1    9.210340                3 -0.000539   \n",
       "8            0                   6    8.131531                0 -0.000488   \n",
       "9            0                   5    8.779557                0  0.000182   \n",
       "\n",
       "          1         2         3         4         5    ...           90  \\\n",
       "0 -0.000006  0.000014 -0.000016 -0.000010  0.000019    ...     0.000020   \n",
       "1  0.000765 -0.000597 -0.000714 -0.001065 -0.000524    ...    -0.000362   \n",
       "2  0.000708 -0.000822  0.000334  0.000629  0.000210    ...    -0.000161   \n",
       "3 -0.000087  0.000079 -0.000043  0.000019 -0.000011    ...     0.000044   \n",
       "4  0.000671  0.000015  0.001255 -0.000437 -0.000181    ...     0.000188   \n",
       "5 -0.000423  0.000434 -0.000494  0.000133 -0.000123    ...     0.000079   \n",
       "6 -0.000255  0.000480  0.000146 -0.000931 -0.000061    ...     0.000025   \n",
       "7 -0.000148  0.000448 -0.000750 -0.001297  0.000025    ...     0.000138   \n",
       "8 -0.000982  0.001645  0.000943 -0.000120  0.000565    ...     0.000939   \n",
       "9 -0.000197 -0.000913 -0.000077  0.000948  0.000117    ...    -0.000421   \n",
       "\n",
       "         91        92        93        94        95            96        97  \\\n",
       "0 -0.000019  0.000008  0.000010 -0.000034  0.000007 -1.140172e-05  0.000027   \n",
       "1 -0.000312 -0.001814  0.001225 -0.002049  0.002724  4.035157e-04  0.000112   \n",
       "2 -0.001606  0.000681  0.001357 -0.000955 -0.000480 -5.875535e-04  0.000354   \n",
       "3 -0.000036 -0.000045  0.000059 -0.000024 -0.000044 -7.976960e-07  0.000085   \n",
       "4  0.000296  0.000463 -0.000276 -0.000348  0.000397  1.585739e-04  0.000396   \n",
       "5 -0.000113 -0.000240 -0.000300 -0.000135  0.000593  3.142895e-04  0.000043   \n",
       "6 -0.001307 -0.000624  0.001665  0.000173 -0.001687  1.508246e-03  0.000034   \n",
       "7 -0.002327  0.001110  0.000623  0.000220 -0.001716  1.562459e-03  0.001271   \n",
       "8  0.002129  0.001036  0.000382 -0.001418  0.000698 -3.128113e-04  0.001596   \n",
       "9 -0.000714 -0.000719 -0.000326 -0.000103  0.001467 -1.132724e-03  0.000334   \n",
       "\n",
       "         98        99  \n",
       "0  0.000024  0.000006  \n",
       "1  0.000489 -0.000863  \n",
       "2  0.000653 -0.001375  \n",
       "3  0.000055  0.000048  \n",
       "4  0.001248 -0.000789  \n",
       "5  0.000399 -0.000455  \n",
       "6  0.000111 -0.000579  \n",
       "7  0.000647  0.001160  \n",
       "8  0.001064  0.001361  \n",
       "9  0.001669  0.000179  \n",
       "\n",
       "[10 rows x 104 columns]"
      ]
     },
     "execution_count": 99,
     "metadata": {},
     "output_type": "execute_result"
    }
   ],
   "source": [
    "x_new"
   ]
  },
  {
   "cell_type": "code",
   "execution_count": 103,
   "metadata": {},
   "outputs": [
    {
     "name": "stdout",
     "output_type": "stream",
     "text": [
      "[1 0 1 1 1 1 0 0 0 0]\n",
      "0    1\n",
      "1    1\n",
      "2    0\n",
      "3    1\n",
      "4    1\n",
      "5    1\n",
      "6    0\n",
      "7    0\n",
      "8    0\n",
      "9    0\n",
      "Name: isDuplicate, dtype: int64\n"
     ]
    }
   ],
   "source": [
    "log_reg = LogisticRegression()\n",
    "log_reg.fit(x_new.iloc[:, x_new.columns != 'isDuplicate'], x_new.isDuplicate)\n",
    "print log_reg.predict(x_new.iloc[:, x_new.columns != 'isDuplicate'])\n",
    "print x_new.isDuplicate"
   ]
  },
  {
   "cell_type": "code",
   "execution_count": 178,
   "metadata": {
    "collapsed": true
   },
   "outputs": [],
   "source": [
    "class parCatIDTransformer(TransformerMixin):\n",
    "\n",
    "    def transform(self, X, **transform_params):\n",
    "        return pd.DataFrame(X.parentCategoryID_x)\n",
    "\n",
    "    def fit(self, X, y=None, **fit_params):\n",
    "        return self\n",
    "    \n",
    "class priceDiffTransformer(TransformerMixin):\n",
    "\n",
    "    def transform(self, X, **transform_params):\n",
    "        return pd.DataFrame(X.price_diff, columns = ['price_diff'])\n",
    "\n",
    "    def fit(self, X, y=None, **fit_params):\n",
    "        return self\n",
    "    \n",
    "class ContentTransformer(TransformerMixin):\n",
    "\n",
    "    def transform(self, X, **transform_params):\n",
    "        return X.title_desc_xy\n",
    "\n",
    "    def fit(self, X, y=None, **fit_params):\n",
    "        return self\n",
    "    \n",
    "class featureVecTransformer(TransformerMixin):\n",
    "\n",
    "    def transform(self, X, **transform_params):\n",
    "        return pd.DataFrame(X.feature, columns = ['feature'])\n",
    "\n",
    "    def fit(self, X, y=None, **fit_params):\n",
    "        return self"
   ]
  },
  {
   "cell_type": "code",
   "execution_count": 166,
   "metadata": {
    "collapsed": true
   },
   "outputs": [],
   "source": [
    "count_vect = CountVectorizer()\n",
    "log_reg = LogisticRegression()"
   ]
  },
  {
   "cell_type": "code",
   "execution_count": 186,
   "metadata": {
    "collapsed": true
   },
   "outputs": [],
   "source": [
    "pipe_log = Pipeline([\n",
    "    ('features', FeatureUnion([\n",
    "        ('price_diff', priceDiffTransformer()), \n",
    "        ('parentCategoryID_x', parCatIDTransformer()),\n",
    "        ('feature_vec', featureVecTransformer())\n",
    "    ])),\n",
    "    ('log_reg', log_reg)])"
   ]
  },
  {
   "cell_type": "markdown",
   "metadata": {},
   "source": [
    "K-Fold CV to check validation and train accuracy"
   ]
  },
  {
   "cell_type": "code",
   "execution_count": 187,
   "metadata": {
    "scrolled": true
   },
   "outputs": [
    {
     "ename": "ValueError",
     "evalue": "setting an array element with a sequence.",
     "output_type": "error",
     "traceback": [
      "\u001b[1;31m---------------------------------------------------------------------------\u001b[0m",
      "\u001b[1;31mValueError\u001b[0m                                Traceback (most recent call last)",
      "\u001b[1;32m<ipython-input-187-38d3d6a964be>\u001b[0m in \u001b[0;36m<module>\u001b[1;34m()\u001b[0m\n\u001b[1;32m----> 1\u001b[1;33m \u001b[0mpipe_log\u001b[0m\u001b[1;33m.\u001b[0m\u001b[0mfit\u001b[0m\u001b[1;33m(\u001b[0m\u001b[0mnew_x\u001b[0m\u001b[1;33m.\u001b[0m\u001b[0miloc\u001b[0m\u001b[1;33m[\u001b[0m\u001b[1;33m:\u001b[0m\u001b[1;33m,\u001b[0m \u001b[0mnew_x\u001b[0m\u001b[1;33m.\u001b[0m\u001b[0mcolumns\u001b[0m \u001b[1;33m!=\u001b[0m \u001b[1;34m'isDuplicate'\u001b[0m\u001b[1;33m]\u001b[0m\u001b[1;33m,\u001b[0m \u001b[0mnew_x\u001b[0m\u001b[1;33m.\u001b[0m\u001b[0misDuplicate\u001b[0m\u001b[1;33m)\u001b[0m\u001b[1;33m\u001b[0m\u001b[0m\n\u001b[0m",
      "\u001b[1;32mC:\\Users\\admin\\Anaconda2\\lib\\site-packages\\sklearn\\pipeline.pyc\u001b[0m in \u001b[0;36mfit\u001b[1;34m(self, X, y, **fit_params)\u001b[0m\n\u001b[0;32m    268\u001b[0m         \u001b[0mXt\u001b[0m\u001b[1;33m,\u001b[0m \u001b[0mfit_params\u001b[0m \u001b[1;33m=\u001b[0m \u001b[0mself\u001b[0m\u001b[1;33m.\u001b[0m\u001b[0m_fit\u001b[0m\u001b[1;33m(\u001b[0m\u001b[0mX\u001b[0m\u001b[1;33m,\u001b[0m \u001b[0my\u001b[0m\u001b[1;33m,\u001b[0m \u001b[1;33m**\u001b[0m\u001b[0mfit_params\u001b[0m\u001b[1;33m)\u001b[0m\u001b[1;33m\u001b[0m\u001b[0m\n\u001b[0;32m    269\u001b[0m         \u001b[1;32mif\u001b[0m \u001b[0mself\u001b[0m\u001b[1;33m.\u001b[0m\u001b[0m_final_estimator\u001b[0m \u001b[1;32mis\u001b[0m \u001b[1;32mnot\u001b[0m \u001b[0mNone\u001b[0m\u001b[1;33m:\u001b[0m\u001b[1;33m\u001b[0m\u001b[0m\n\u001b[1;32m--> 270\u001b[1;33m             \u001b[0mself\u001b[0m\u001b[1;33m.\u001b[0m\u001b[0m_final_estimator\u001b[0m\u001b[1;33m.\u001b[0m\u001b[0mfit\u001b[0m\u001b[1;33m(\u001b[0m\u001b[0mXt\u001b[0m\u001b[1;33m,\u001b[0m \u001b[0my\u001b[0m\u001b[1;33m,\u001b[0m \u001b[1;33m**\u001b[0m\u001b[0mfit_params\u001b[0m\u001b[1;33m)\u001b[0m\u001b[1;33m\u001b[0m\u001b[0m\n\u001b[0m\u001b[0;32m    271\u001b[0m         \u001b[1;32mreturn\u001b[0m \u001b[0mself\u001b[0m\u001b[1;33m\u001b[0m\u001b[0m\n\u001b[0;32m    272\u001b[0m \u001b[1;33m\u001b[0m\u001b[0m\n",
      "\u001b[1;32mC:\\Users\\admin\\Anaconda2\\lib\\site-packages\\sklearn\\linear_model\\logistic.pyc\u001b[0m in \u001b[0;36mfit\u001b[1;34m(self, X, y, sample_weight)\u001b[0m\n\u001b[0;32m   1171\u001b[0m \u001b[1;33m\u001b[0m\u001b[0m\n\u001b[0;32m   1172\u001b[0m         X, y = check_X_y(X, y, accept_sparse='csr', dtype=np.float64,\n\u001b[1;32m-> 1173\u001b[1;33m                          order=\"C\")\n\u001b[0m\u001b[0;32m   1174\u001b[0m         \u001b[0mcheck_classification_targets\u001b[0m\u001b[1;33m(\u001b[0m\u001b[0my\u001b[0m\u001b[1;33m)\u001b[0m\u001b[1;33m\u001b[0m\u001b[0m\n\u001b[0;32m   1175\u001b[0m         \u001b[0mself\u001b[0m\u001b[1;33m.\u001b[0m\u001b[0mclasses_\u001b[0m \u001b[1;33m=\u001b[0m \u001b[0mnp\u001b[0m\u001b[1;33m.\u001b[0m\u001b[0munique\u001b[0m\u001b[1;33m(\u001b[0m\u001b[0my\u001b[0m\u001b[1;33m)\u001b[0m\u001b[1;33m\u001b[0m\u001b[0m\n",
      "\u001b[1;32mC:\\Users\\admin\\Anaconda2\\lib\\site-packages\\sklearn\\utils\\validation.pyc\u001b[0m in \u001b[0;36mcheck_X_y\u001b[1;34m(X, y, accept_sparse, dtype, order, copy, force_all_finite, ensure_2d, allow_nd, multi_output, ensure_min_samples, ensure_min_features, y_numeric, warn_on_dtype, estimator)\u001b[0m\n\u001b[0;32m    519\u001b[0m     X = check_array(X, accept_sparse, dtype, order, copy, force_all_finite,\n\u001b[0;32m    520\u001b[0m                     \u001b[0mensure_2d\u001b[0m\u001b[1;33m,\u001b[0m \u001b[0mallow_nd\u001b[0m\u001b[1;33m,\u001b[0m \u001b[0mensure_min_samples\u001b[0m\u001b[1;33m,\u001b[0m\u001b[1;33m\u001b[0m\u001b[0m\n\u001b[1;32m--> 521\u001b[1;33m                     ensure_min_features, warn_on_dtype, estimator)\n\u001b[0m\u001b[0;32m    522\u001b[0m     \u001b[1;32mif\u001b[0m \u001b[0mmulti_output\u001b[0m\u001b[1;33m:\u001b[0m\u001b[1;33m\u001b[0m\u001b[0m\n\u001b[0;32m    523\u001b[0m         y = check_array(y, 'csr', force_all_finite=True, ensure_2d=False,\n",
      "\u001b[1;32mC:\\Users\\admin\\Anaconda2\\lib\\site-packages\\sklearn\\utils\\validation.pyc\u001b[0m in \u001b[0;36mcheck_array\u001b[1;34m(array, accept_sparse, dtype, order, copy, force_all_finite, ensure_2d, allow_nd, ensure_min_samples, ensure_min_features, warn_on_dtype, estimator)\u001b[0m\n\u001b[0;32m    380\u001b[0m                                       force_all_finite)\n\u001b[0;32m    381\u001b[0m     \u001b[1;32melse\u001b[0m\u001b[1;33m:\u001b[0m\u001b[1;33m\u001b[0m\u001b[0m\n\u001b[1;32m--> 382\u001b[1;33m         \u001b[0marray\u001b[0m \u001b[1;33m=\u001b[0m \u001b[0mnp\u001b[0m\u001b[1;33m.\u001b[0m\u001b[0marray\u001b[0m\u001b[1;33m(\u001b[0m\u001b[0marray\u001b[0m\u001b[1;33m,\u001b[0m \u001b[0mdtype\u001b[0m\u001b[1;33m=\u001b[0m\u001b[0mdtype\u001b[0m\u001b[1;33m,\u001b[0m \u001b[0morder\u001b[0m\u001b[1;33m=\u001b[0m\u001b[0morder\u001b[0m\u001b[1;33m,\u001b[0m \u001b[0mcopy\u001b[0m\u001b[1;33m=\u001b[0m\u001b[0mcopy\u001b[0m\u001b[1;33m)\u001b[0m\u001b[1;33m\u001b[0m\u001b[0m\n\u001b[0m\u001b[0;32m    383\u001b[0m \u001b[1;33m\u001b[0m\u001b[0m\n\u001b[0;32m    384\u001b[0m         \u001b[1;32mif\u001b[0m \u001b[0mensure_2d\u001b[0m\u001b[1;33m:\u001b[0m\u001b[1;33m\u001b[0m\u001b[0m\n",
      "\u001b[1;31mValueError\u001b[0m: setting an array element with a sequence."
     ]
    }
   ],
   "source": [
    "pipe_log.fit(new_x.iloc[:, new_x.columns != 'isDuplicate'], new_x.isDuplicate)"
   ]
  },
  {
   "cell_type": "code",
   "execution_count": 172,
   "metadata": {},
   "outputs": [
    {
     "ename": "AttributeError",
     "evalue": "'DataFrame' object has no attribute 'feature'",
     "output_type": "error",
     "traceback": [
      "\u001b[1;31m---------------------------------------------------------------------------\u001b[0m",
      "\u001b[1;31mAttributeError\u001b[0m                            Traceback (most recent call last)",
      "\u001b[1;32m<ipython-input-172-426d420923ca>\u001b[0m in \u001b[0;36m<module>\u001b[1;34m()\u001b[0m\n\u001b[0;32m      4\u001b[0m \u001b[1;32mfor\u001b[0m \u001b[0mtrain_index\u001b[0m\u001b[1;33m,\u001b[0m \u001b[0mtest_index\u001b[0m \u001b[1;32min\u001b[0m \u001b[0mkf\u001b[0m\u001b[1;33m.\u001b[0m\u001b[0msplit\u001b[0m\u001b[1;33m(\u001b[0m\u001b[0mx\u001b[0m\u001b[1;33m)\u001b[0m\u001b[1;33m:\u001b[0m\u001b[1;33m\u001b[0m\u001b[0m\n\u001b[0;32m      5\u001b[0m     \u001b[0mx_train\u001b[0m\u001b[1;33m,\u001b[0m \u001b[0mx_test\u001b[0m \u001b[1;33m=\u001b[0m \u001b[0mx\u001b[0m\u001b[1;33m.\u001b[0m\u001b[0mloc\u001b[0m\u001b[1;33m[\u001b[0m\u001b[0mtrain_index\u001b[0m\u001b[1;33m,\u001b[0m \u001b[1;33m:\u001b[0m\u001b[1;33m]\u001b[0m\u001b[1;33m,\u001b[0m \u001b[0mx\u001b[0m\u001b[1;33m.\u001b[0m\u001b[0mloc\u001b[0m\u001b[1;33m[\u001b[0m\u001b[0mtest_index\u001b[0m\u001b[1;33m,\u001b[0m \u001b[1;33m:\u001b[0m\u001b[1;33m]\u001b[0m\u001b[1;33m\u001b[0m\u001b[0m\n\u001b[1;32m----> 6\u001b[1;33m     \u001b[0mpipe_log\u001b[0m\u001b[1;33m.\u001b[0m\u001b[0mfit\u001b[0m\u001b[1;33m(\u001b[0m\u001b[0mx_train\u001b[0m\u001b[1;33m.\u001b[0m\u001b[0miloc\u001b[0m\u001b[1;33m[\u001b[0m\u001b[1;33m:\u001b[0m\u001b[1;33m,\u001b[0m \u001b[0mx_train\u001b[0m\u001b[1;33m.\u001b[0m\u001b[0mcolumns\u001b[0m \u001b[1;33m!=\u001b[0m \u001b[1;34m'isDuplicate'\u001b[0m\u001b[1;33m]\u001b[0m\u001b[1;33m,\u001b[0m \u001b[0mx_train\u001b[0m\u001b[1;33m.\u001b[0m\u001b[0misDuplicate\u001b[0m\u001b[1;33m)\u001b[0m\u001b[1;33m\u001b[0m\u001b[0m\n\u001b[0m\u001b[0;32m      7\u001b[0m     \u001b[0mpred_train\u001b[0m \u001b[1;33m=\u001b[0m \u001b[0mpipe_log\u001b[0m\u001b[1;33m.\u001b[0m\u001b[0mpredict\u001b[0m\u001b[1;33m(\u001b[0m\u001b[0mx_train\u001b[0m\u001b[1;33m)\u001b[0m\u001b[1;33m\u001b[0m\u001b[0m\n\u001b[0;32m      8\u001b[0m     \u001b[0mpred_test\u001b[0m \u001b[1;33m=\u001b[0m \u001b[0mpipe_log\u001b[0m\u001b[1;33m.\u001b[0m\u001b[0mpredict\u001b[0m\u001b[1;33m(\u001b[0m\u001b[0mx_test\u001b[0m\u001b[1;33m)\u001b[0m\u001b[1;33m\u001b[0m\u001b[0m\n",
      "\u001b[1;32mC:\\Users\\admin\\Anaconda2\\lib\\site-packages\\sklearn\\pipeline.pyc\u001b[0m in \u001b[0;36mfit\u001b[1;34m(self, X, y, **fit_params)\u001b[0m\n\u001b[0;32m    266\u001b[0m             \u001b[0mThis\u001b[0m \u001b[0mestimator\u001b[0m\u001b[1;33m\u001b[0m\u001b[0m\n\u001b[0;32m    267\u001b[0m         \"\"\"\n\u001b[1;32m--> 268\u001b[1;33m         \u001b[0mXt\u001b[0m\u001b[1;33m,\u001b[0m \u001b[0mfit_params\u001b[0m \u001b[1;33m=\u001b[0m \u001b[0mself\u001b[0m\u001b[1;33m.\u001b[0m\u001b[0m_fit\u001b[0m\u001b[1;33m(\u001b[0m\u001b[0mX\u001b[0m\u001b[1;33m,\u001b[0m \u001b[0my\u001b[0m\u001b[1;33m,\u001b[0m \u001b[1;33m**\u001b[0m\u001b[0mfit_params\u001b[0m\u001b[1;33m)\u001b[0m\u001b[1;33m\u001b[0m\u001b[0m\n\u001b[0m\u001b[0;32m    269\u001b[0m         \u001b[1;32mif\u001b[0m \u001b[0mself\u001b[0m\u001b[1;33m.\u001b[0m\u001b[0m_final_estimator\u001b[0m \u001b[1;32mis\u001b[0m \u001b[1;32mnot\u001b[0m \u001b[0mNone\u001b[0m\u001b[1;33m:\u001b[0m\u001b[1;33m\u001b[0m\u001b[0m\n\u001b[0;32m    270\u001b[0m             \u001b[0mself\u001b[0m\u001b[1;33m.\u001b[0m\u001b[0m_final_estimator\u001b[0m\u001b[1;33m.\u001b[0m\u001b[0mfit\u001b[0m\u001b[1;33m(\u001b[0m\u001b[0mXt\u001b[0m\u001b[1;33m,\u001b[0m \u001b[0my\u001b[0m\u001b[1;33m,\u001b[0m \u001b[1;33m**\u001b[0m\u001b[0mfit_params\u001b[0m\u001b[1;33m)\u001b[0m\u001b[1;33m\u001b[0m\u001b[0m\n",
      "\u001b[1;32mC:\\Users\\admin\\Anaconda2\\lib\\site-packages\\sklearn\\pipeline.pyc\u001b[0m in \u001b[0;36m_fit\u001b[1;34m(self, X, y, **fit_params)\u001b[0m\n\u001b[0;32m    232\u001b[0m                 \u001b[1;32mpass\u001b[0m\u001b[1;33m\u001b[0m\u001b[0m\n\u001b[0;32m    233\u001b[0m             \u001b[1;32melif\u001b[0m \u001b[0mhasattr\u001b[0m\u001b[1;33m(\u001b[0m\u001b[0mtransform\u001b[0m\u001b[1;33m,\u001b[0m \u001b[1;34m\"fit_transform\"\u001b[0m\u001b[1;33m)\u001b[0m\u001b[1;33m:\u001b[0m\u001b[1;33m\u001b[0m\u001b[0m\n\u001b[1;32m--> 234\u001b[1;33m                 \u001b[0mXt\u001b[0m \u001b[1;33m=\u001b[0m \u001b[0mtransform\u001b[0m\u001b[1;33m.\u001b[0m\u001b[0mfit_transform\u001b[0m\u001b[1;33m(\u001b[0m\u001b[0mXt\u001b[0m\u001b[1;33m,\u001b[0m \u001b[0my\u001b[0m\u001b[1;33m,\u001b[0m \u001b[1;33m**\u001b[0m\u001b[0mfit_params_steps\u001b[0m\u001b[1;33m[\u001b[0m\u001b[0mname\u001b[0m\u001b[1;33m]\u001b[0m\u001b[1;33m)\u001b[0m\u001b[1;33m\u001b[0m\u001b[0m\n\u001b[0m\u001b[0;32m    235\u001b[0m             \u001b[1;32melse\u001b[0m\u001b[1;33m:\u001b[0m\u001b[1;33m\u001b[0m\u001b[0m\n\u001b[0;32m    236\u001b[0m                 \u001b[0mXt\u001b[0m \u001b[1;33m=\u001b[0m \u001b[0mtransform\u001b[0m\u001b[1;33m.\u001b[0m\u001b[0mfit\u001b[0m\u001b[1;33m(\u001b[0m\u001b[0mXt\u001b[0m\u001b[1;33m,\u001b[0m \u001b[0my\u001b[0m\u001b[1;33m,\u001b[0m \u001b[1;33m**\u001b[0m\u001b[0mfit_params_steps\u001b[0m\u001b[1;33m[\u001b[0m\u001b[0mname\u001b[0m\u001b[1;33m]\u001b[0m\u001b[1;33m)\u001b[0m\u001b[0;31m \u001b[0m\u001b[0;31m\\\u001b[0m\u001b[1;33m\u001b[0m\u001b[0m\n",
      "\u001b[1;32mC:\\Users\\admin\\Anaconda2\\lib\\site-packages\\sklearn\\pipeline.pyc\u001b[0m in \u001b[0;36mfit_transform\u001b[1;34m(self, X, y, **fit_params)\u001b[0m\n\u001b[0;32m    732\u001b[0m             delayed(_fit_transform_one)(trans, name, weight, X, y,\n\u001b[0;32m    733\u001b[0m                                         **fit_params)\n\u001b[1;32m--> 734\u001b[1;33m             for name, trans, weight in self._iter())\n\u001b[0m\u001b[0;32m    735\u001b[0m \u001b[1;33m\u001b[0m\u001b[0m\n\u001b[0;32m    736\u001b[0m         \u001b[1;32mif\u001b[0m \u001b[1;32mnot\u001b[0m \u001b[0mresult\u001b[0m\u001b[1;33m:\u001b[0m\u001b[1;33m\u001b[0m\u001b[0m\n",
      "\u001b[1;32mC:\\Users\\admin\\Anaconda2\\lib\\site-packages\\sklearn\\externals\\joblib\\parallel.pyc\u001b[0m in \u001b[0;36m__call__\u001b[1;34m(self, iterable)\u001b[0m\n\u001b[0;32m    756\u001b[0m             \u001b[1;31m# was dispatched. In particular this covers the edge\u001b[0m\u001b[1;33m\u001b[0m\u001b[1;33m\u001b[0m\u001b[0m\n\u001b[0;32m    757\u001b[0m             \u001b[1;31m# case of Parallel used with an exhausted iterator.\u001b[0m\u001b[1;33m\u001b[0m\u001b[1;33m\u001b[0m\u001b[0m\n\u001b[1;32m--> 758\u001b[1;33m             \u001b[1;32mwhile\u001b[0m \u001b[0mself\u001b[0m\u001b[1;33m.\u001b[0m\u001b[0mdispatch_one_batch\u001b[0m\u001b[1;33m(\u001b[0m\u001b[0miterator\u001b[0m\u001b[1;33m)\u001b[0m\u001b[1;33m:\u001b[0m\u001b[1;33m\u001b[0m\u001b[0m\n\u001b[0m\u001b[0;32m    759\u001b[0m                 \u001b[0mself\u001b[0m\u001b[1;33m.\u001b[0m\u001b[0m_iterating\u001b[0m \u001b[1;33m=\u001b[0m \u001b[0mTrue\u001b[0m\u001b[1;33m\u001b[0m\u001b[0m\n\u001b[0;32m    760\u001b[0m             \u001b[1;32melse\u001b[0m\u001b[1;33m:\u001b[0m\u001b[1;33m\u001b[0m\u001b[0m\n",
      "\u001b[1;32mC:\\Users\\admin\\Anaconda2\\lib\\site-packages\\sklearn\\externals\\joblib\\parallel.pyc\u001b[0m in \u001b[0;36mdispatch_one_batch\u001b[1;34m(self, iterator)\u001b[0m\n\u001b[0;32m    606\u001b[0m                 \u001b[1;32mreturn\u001b[0m \u001b[0mFalse\u001b[0m\u001b[1;33m\u001b[0m\u001b[0m\n\u001b[0;32m    607\u001b[0m             \u001b[1;32melse\u001b[0m\u001b[1;33m:\u001b[0m\u001b[1;33m\u001b[0m\u001b[0m\n\u001b[1;32m--> 608\u001b[1;33m                 \u001b[0mself\u001b[0m\u001b[1;33m.\u001b[0m\u001b[0m_dispatch\u001b[0m\u001b[1;33m(\u001b[0m\u001b[0mtasks\u001b[0m\u001b[1;33m)\u001b[0m\u001b[1;33m\u001b[0m\u001b[0m\n\u001b[0m\u001b[0;32m    609\u001b[0m                 \u001b[1;32mreturn\u001b[0m \u001b[0mTrue\u001b[0m\u001b[1;33m\u001b[0m\u001b[0m\n\u001b[0;32m    610\u001b[0m \u001b[1;33m\u001b[0m\u001b[0m\n",
      "\u001b[1;32mC:\\Users\\admin\\Anaconda2\\lib\\site-packages\\sklearn\\externals\\joblib\\parallel.pyc\u001b[0m in \u001b[0;36m_dispatch\u001b[1;34m(self, batch)\u001b[0m\n\u001b[0;32m    569\u001b[0m         \u001b[0mdispatch_timestamp\u001b[0m \u001b[1;33m=\u001b[0m \u001b[0mtime\u001b[0m\u001b[1;33m.\u001b[0m\u001b[0mtime\u001b[0m\u001b[1;33m(\u001b[0m\u001b[1;33m)\u001b[0m\u001b[1;33m\u001b[0m\u001b[0m\n\u001b[0;32m    570\u001b[0m         \u001b[0mcb\u001b[0m \u001b[1;33m=\u001b[0m \u001b[0mBatchCompletionCallBack\u001b[0m\u001b[1;33m(\u001b[0m\u001b[0mdispatch_timestamp\u001b[0m\u001b[1;33m,\u001b[0m \u001b[0mlen\u001b[0m\u001b[1;33m(\u001b[0m\u001b[0mbatch\u001b[0m\u001b[1;33m)\u001b[0m\u001b[1;33m,\u001b[0m \u001b[0mself\u001b[0m\u001b[1;33m)\u001b[0m\u001b[1;33m\u001b[0m\u001b[0m\n\u001b[1;32m--> 571\u001b[1;33m         \u001b[0mjob\u001b[0m \u001b[1;33m=\u001b[0m \u001b[0mself\u001b[0m\u001b[1;33m.\u001b[0m\u001b[0m_backend\u001b[0m\u001b[1;33m.\u001b[0m\u001b[0mapply_async\u001b[0m\u001b[1;33m(\u001b[0m\u001b[0mbatch\u001b[0m\u001b[1;33m,\u001b[0m \u001b[0mcallback\u001b[0m\u001b[1;33m=\u001b[0m\u001b[0mcb\u001b[0m\u001b[1;33m)\u001b[0m\u001b[1;33m\u001b[0m\u001b[0m\n\u001b[0m\u001b[0;32m    572\u001b[0m         \u001b[0mself\u001b[0m\u001b[1;33m.\u001b[0m\u001b[0m_jobs\u001b[0m\u001b[1;33m.\u001b[0m\u001b[0mappend\u001b[0m\u001b[1;33m(\u001b[0m\u001b[0mjob\u001b[0m\u001b[1;33m)\u001b[0m\u001b[1;33m\u001b[0m\u001b[0m\n\u001b[0;32m    573\u001b[0m \u001b[1;33m\u001b[0m\u001b[0m\n",
      "\u001b[1;32mC:\\Users\\admin\\Anaconda2\\lib\\site-packages\\sklearn\\externals\\joblib\\_parallel_backends.pyc\u001b[0m in \u001b[0;36mapply_async\u001b[1;34m(self, func, callback)\u001b[0m\n\u001b[0;32m    107\u001b[0m     \u001b[1;32mdef\u001b[0m \u001b[0mapply_async\u001b[0m\u001b[1;33m(\u001b[0m\u001b[0mself\u001b[0m\u001b[1;33m,\u001b[0m \u001b[0mfunc\u001b[0m\u001b[1;33m,\u001b[0m \u001b[0mcallback\u001b[0m\u001b[1;33m=\u001b[0m\u001b[0mNone\u001b[0m\u001b[1;33m)\u001b[0m\u001b[1;33m:\u001b[0m\u001b[1;33m\u001b[0m\u001b[0m\n\u001b[0;32m    108\u001b[0m         \u001b[1;34m\"\"\"Schedule a func to be run\"\"\"\u001b[0m\u001b[1;33m\u001b[0m\u001b[0m\n\u001b[1;32m--> 109\u001b[1;33m         \u001b[0mresult\u001b[0m \u001b[1;33m=\u001b[0m \u001b[0mImmediateResult\u001b[0m\u001b[1;33m(\u001b[0m\u001b[0mfunc\u001b[0m\u001b[1;33m)\u001b[0m\u001b[1;33m\u001b[0m\u001b[0m\n\u001b[0m\u001b[0;32m    110\u001b[0m         \u001b[1;32mif\u001b[0m \u001b[0mcallback\u001b[0m\u001b[1;33m:\u001b[0m\u001b[1;33m\u001b[0m\u001b[0m\n\u001b[0;32m    111\u001b[0m             \u001b[0mcallback\u001b[0m\u001b[1;33m(\u001b[0m\u001b[0mresult\u001b[0m\u001b[1;33m)\u001b[0m\u001b[1;33m\u001b[0m\u001b[0m\n",
      "\u001b[1;32mC:\\Users\\admin\\Anaconda2\\lib\\site-packages\\sklearn\\externals\\joblib\\_parallel_backends.pyc\u001b[0m in \u001b[0;36m__init__\u001b[1;34m(self, batch)\u001b[0m\n\u001b[0;32m    324\u001b[0m         \u001b[1;31m# Don't delay the application, to avoid keeping the input\u001b[0m\u001b[1;33m\u001b[0m\u001b[1;33m\u001b[0m\u001b[0m\n\u001b[0;32m    325\u001b[0m         \u001b[1;31m# arguments in memory\u001b[0m\u001b[1;33m\u001b[0m\u001b[1;33m\u001b[0m\u001b[0m\n\u001b[1;32m--> 326\u001b[1;33m         \u001b[0mself\u001b[0m\u001b[1;33m.\u001b[0m\u001b[0mresults\u001b[0m \u001b[1;33m=\u001b[0m \u001b[0mbatch\u001b[0m\u001b[1;33m(\u001b[0m\u001b[1;33m)\u001b[0m\u001b[1;33m\u001b[0m\u001b[0m\n\u001b[0m\u001b[0;32m    327\u001b[0m \u001b[1;33m\u001b[0m\u001b[0m\n\u001b[0;32m    328\u001b[0m     \u001b[1;32mdef\u001b[0m \u001b[0mget\u001b[0m\u001b[1;33m(\u001b[0m\u001b[0mself\u001b[0m\u001b[1;33m)\u001b[0m\u001b[1;33m:\u001b[0m\u001b[1;33m\u001b[0m\u001b[0m\n",
      "\u001b[1;32mC:\\Users\\admin\\Anaconda2\\lib\\site-packages\\sklearn\\externals\\joblib\\parallel.pyc\u001b[0m in \u001b[0;36m__call__\u001b[1;34m(self)\u001b[0m\n\u001b[0;32m    129\u001b[0m \u001b[1;33m\u001b[0m\u001b[0m\n\u001b[0;32m    130\u001b[0m     \u001b[1;32mdef\u001b[0m \u001b[0m__call__\u001b[0m\u001b[1;33m(\u001b[0m\u001b[0mself\u001b[0m\u001b[1;33m)\u001b[0m\u001b[1;33m:\u001b[0m\u001b[1;33m\u001b[0m\u001b[0m\n\u001b[1;32m--> 131\u001b[1;33m         \u001b[1;32mreturn\u001b[0m \u001b[1;33m[\u001b[0m\u001b[0mfunc\u001b[0m\u001b[1;33m(\u001b[0m\u001b[1;33m*\u001b[0m\u001b[0margs\u001b[0m\u001b[1;33m,\u001b[0m \u001b[1;33m**\u001b[0m\u001b[0mkwargs\u001b[0m\u001b[1;33m)\u001b[0m \u001b[1;32mfor\u001b[0m \u001b[0mfunc\u001b[0m\u001b[1;33m,\u001b[0m \u001b[0margs\u001b[0m\u001b[1;33m,\u001b[0m \u001b[0mkwargs\u001b[0m \u001b[1;32min\u001b[0m \u001b[0mself\u001b[0m\u001b[1;33m.\u001b[0m\u001b[0mitems\u001b[0m\u001b[1;33m]\u001b[0m\u001b[1;33m\u001b[0m\u001b[0m\n\u001b[0m\u001b[0;32m    132\u001b[0m \u001b[1;33m\u001b[0m\u001b[0m\n\u001b[0;32m    133\u001b[0m     \u001b[1;32mdef\u001b[0m \u001b[0m__len__\u001b[0m\u001b[1;33m(\u001b[0m\u001b[0mself\u001b[0m\u001b[1;33m)\u001b[0m\u001b[1;33m:\u001b[0m\u001b[1;33m\u001b[0m\u001b[0m\n",
      "\u001b[1;32mC:\\Users\\admin\\Anaconda2\\lib\\site-packages\\sklearn\\pipeline.pyc\u001b[0m in \u001b[0;36m_fit_transform_one\u001b[1;34m(transformer, name, weight, X, y, **fit_params)\u001b[0m\n\u001b[0;32m    575\u001b[0m                        **fit_params):\n\u001b[0;32m    576\u001b[0m     \u001b[1;32mif\u001b[0m \u001b[0mhasattr\u001b[0m\u001b[1;33m(\u001b[0m\u001b[0mtransformer\u001b[0m\u001b[1;33m,\u001b[0m \u001b[1;34m'fit_transform'\u001b[0m\u001b[1;33m)\u001b[0m\u001b[1;33m:\u001b[0m\u001b[1;33m\u001b[0m\u001b[0m\n\u001b[1;32m--> 577\u001b[1;33m         \u001b[0mres\u001b[0m \u001b[1;33m=\u001b[0m \u001b[0mtransformer\u001b[0m\u001b[1;33m.\u001b[0m\u001b[0mfit_transform\u001b[0m\u001b[1;33m(\u001b[0m\u001b[0mX\u001b[0m\u001b[1;33m,\u001b[0m \u001b[0my\u001b[0m\u001b[1;33m,\u001b[0m \u001b[1;33m**\u001b[0m\u001b[0mfit_params\u001b[0m\u001b[1;33m)\u001b[0m\u001b[1;33m\u001b[0m\u001b[0m\n\u001b[0m\u001b[0;32m    578\u001b[0m     \u001b[1;32melse\u001b[0m\u001b[1;33m:\u001b[0m\u001b[1;33m\u001b[0m\u001b[0m\n\u001b[0;32m    579\u001b[0m         \u001b[0mres\u001b[0m \u001b[1;33m=\u001b[0m \u001b[0mtransformer\u001b[0m\u001b[1;33m.\u001b[0m\u001b[0mfit\u001b[0m\u001b[1;33m(\u001b[0m\u001b[0mX\u001b[0m\u001b[1;33m,\u001b[0m \u001b[0my\u001b[0m\u001b[1;33m,\u001b[0m \u001b[1;33m**\u001b[0m\u001b[0mfit_params\u001b[0m\u001b[1;33m)\u001b[0m\u001b[1;33m.\u001b[0m\u001b[0mtransform\u001b[0m\u001b[1;33m(\u001b[0m\u001b[0mX\u001b[0m\u001b[1;33m)\u001b[0m\u001b[1;33m\u001b[0m\u001b[0m\n",
      "\u001b[1;32mC:\\Users\\admin\\Anaconda2\\lib\\site-packages\\sklearn\\base.pyc\u001b[0m in \u001b[0;36mfit_transform\u001b[1;34m(self, X, y, **fit_params)\u001b[0m\n\u001b[0;32m    495\u001b[0m         \u001b[1;32melse\u001b[0m\u001b[1;33m:\u001b[0m\u001b[1;33m\u001b[0m\u001b[0m\n\u001b[0;32m    496\u001b[0m             \u001b[1;31m# fit method of arity 2 (supervised transformation)\u001b[0m\u001b[1;33m\u001b[0m\u001b[1;33m\u001b[0m\u001b[0m\n\u001b[1;32m--> 497\u001b[1;33m             \u001b[1;32mreturn\u001b[0m \u001b[0mself\u001b[0m\u001b[1;33m.\u001b[0m\u001b[0mfit\u001b[0m\u001b[1;33m(\u001b[0m\u001b[0mX\u001b[0m\u001b[1;33m,\u001b[0m \u001b[0my\u001b[0m\u001b[1;33m,\u001b[0m \u001b[1;33m**\u001b[0m\u001b[0mfit_params\u001b[0m\u001b[1;33m)\u001b[0m\u001b[1;33m.\u001b[0m\u001b[0mtransform\u001b[0m\u001b[1;33m(\u001b[0m\u001b[0mX\u001b[0m\u001b[1;33m)\u001b[0m\u001b[1;33m\u001b[0m\u001b[0m\n\u001b[0m\u001b[0;32m    498\u001b[0m \u001b[1;33m\u001b[0m\u001b[0m\n\u001b[0;32m    499\u001b[0m \u001b[1;33m\u001b[0m\u001b[0m\n",
      "\u001b[1;32m<ipython-input-164-f094851c3e0a>\u001b[0m in \u001b[0;36mtransform\u001b[1;34m(self, X, **transform_params)\u001b[0m\n\u001b[0;32m     26\u001b[0m \u001b[1;33m\u001b[0m\u001b[0m\n\u001b[0;32m     27\u001b[0m     \u001b[1;32mdef\u001b[0m \u001b[0mtransform\u001b[0m\u001b[1;33m(\u001b[0m\u001b[0mself\u001b[0m\u001b[1;33m,\u001b[0m \u001b[0mX\u001b[0m\u001b[1;33m,\u001b[0m \u001b[1;33m**\u001b[0m\u001b[0mtransform_params\u001b[0m\u001b[1;33m)\u001b[0m\u001b[1;33m:\u001b[0m\u001b[1;33m\u001b[0m\u001b[0m\n\u001b[1;32m---> 28\u001b[1;33m         \u001b[1;32mreturn\u001b[0m \u001b[0mX\u001b[0m\u001b[1;33m.\u001b[0m\u001b[0mfeature\u001b[0m\u001b[1;33m\u001b[0m\u001b[0m\n\u001b[0m\u001b[0;32m     29\u001b[0m \u001b[1;33m\u001b[0m\u001b[0m\n\u001b[0;32m     30\u001b[0m     \u001b[1;32mdef\u001b[0m \u001b[0mfit\u001b[0m\u001b[1;33m(\u001b[0m\u001b[0mself\u001b[0m\u001b[1;33m,\u001b[0m \u001b[0mX\u001b[0m\u001b[1;33m,\u001b[0m \u001b[0my\u001b[0m\u001b[1;33m=\u001b[0m\u001b[0mNone\u001b[0m\u001b[1;33m,\u001b[0m \u001b[1;33m**\u001b[0m\u001b[0mfit_params\u001b[0m\u001b[1;33m)\u001b[0m\u001b[1;33m:\u001b[0m\u001b[1;33m\u001b[0m\u001b[0m\n",
      "\u001b[1;32mC:\\Users\\admin\\Anaconda2\\lib\\site-packages\\pandas\\core\\generic.pyc\u001b[0m in \u001b[0;36m__getattr__\u001b[1;34m(self, name)\u001b[0m\n\u001b[0;32m   2968\u001b[0m             \u001b[1;32mif\u001b[0m \u001b[0mname\u001b[0m \u001b[1;32min\u001b[0m \u001b[0mself\u001b[0m\u001b[1;33m.\u001b[0m\u001b[0m_info_axis\u001b[0m\u001b[1;33m:\u001b[0m\u001b[1;33m\u001b[0m\u001b[0m\n\u001b[0;32m   2969\u001b[0m                 \u001b[1;32mreturn\u001b[0m \u001b[0mself\u001b[0m\u001b[1;33m[\u001b[0m\u001b[0mname\u001b[0m\u001b[1;33m]\u001b[0m\u001b[1;33m\u001b[0m\u001b[0m\n\u001b[1;32m-> 2970\u001b[1;33m             \u001b[1;32mreturn\u001b[0m \u001b[0mobject\u001b[0m\u001b[1;33m.\u001b[0m\u001b[0m__getattribute__\u001b[0m\u001b[1;33m(\u001b[0m\u001b[0mself\u001b[0m\u001b[1;33m,\u001b[0m \u001b[0mname\u001b[0m\u001b[1;33m)\u001b[0m\u001b[1;33m\u001b[0m\u001b[0m\n\u001b[0m\u001b[0;32m   2971\u001b[0m \u001b[1;33m\u001b[0m\u001b[0m\n\u001b[0;32m   2972\u001b[0m     \u001b[1;32mdef\u001b[0m \u001b[0m__setattr__\u001b[0m\u001b[1;33m(\u001b[0m\u001b[0mself\u001b[0m\u001b[1;33m,\u001b[0m \u001b[0mname\u001b[0m\u001b[1;33m,\u001b[0m \u001b[0mvalue\u001b[0m\u001b[1;33m)\u001b[0m\u001b[1;33m:\u001b[0m\u001b[1;33m\u001b[0m\u001b[0m\n",
      "\u001b[1;31mAttributeError\u001b[0m: 'DataFrame' object has no attribute 'feature'"
     ]
    }
   ],
   "source": [
    "kf = KFold(n_splits = 5, random_state = 1)\n",
    "train_score = []\n",
    "test_score = []\n",
    "for train_index, test_index in kf.split(x):\n",
    "    x_train, x_test = x.loc[train_index, :], x.loc[test_index, :]\n",
    "    pipe_log.fit(x_train.iloc[:, x_train.columns != 'isDuplicate'], x_train.isDuplicate)\n",
    "    pred_train = pipe_log.predict(x_train)\n",
    "    pred_test = pipe_log.predict(x_test)\n",
    "    train_score.append(pred_train)\n",
    "    test_score.append(pred_test)\n",
    "    print \"Test Accuracy:\", accuracy_score(x_test.isDuplicate, pred_test)\n",
    "    print \"Train Accuracy:\", accuracy_score(x_train.isDuplicate, pred_train)"
   ]
  },
  {
   "cell_type": "code",
   "execution_count": 173,
   "metadata": {},
   "outputs": [
    {
     "ename": "ValueError",
     "evalue": "all the input arrays must have same number of dimensions",
     "output_type": "error",
     "traceback": [
      "\u001b[1;31m---------------------------------------------------------------------------\u001b[0m",
      "\u001b[1;31mValueError\u001b[0m                                Traceback (most recent call last)",
      "\u001b[1;32m<ipython-input-173-38d3d6a964be>\u001b[0m in \u001b[0;36m<module>\u001b[1;34m()\u001b[0m\n\u001b[1;32m----> 1\u001b[1;33m \u001b[0mpipe_log\u001b[0m\u001b[1;33m.\u001b[0m\u001b[0mfit\u001b[0m\u001b[1;33m(\u001b[0m\u001b[0mnew_x\u001b[0m\u001b[1;33m.\u001b[0m\u001b[0miloc\u001b[0m\u001b[1;33m[\u001b[0m\u001b[1;33m:\u001b[0m\u001b[1;33m,\u001b[0m \u001b[0mnew_x\u001b[0m\u001b[1;33m.\u001b[0m\u001b[0mcolumns\u001b[0m \u001b[1;33m!=\u001b[0m \u001b[1;34m'isDuplicate'\u001b[0m\u001b[1;33m]\u001b[0m\u001b[1;33m,\u001b[0m \u001b[0mnew_x\u001b[0m\u001b[1;33m.\u001b[0m\u001b[0misDuplicate\u001b[0m\u001b[1;33m)\u001b[0m\u001b[1;33m\u001b[0m\u001b[0m\n\u001b[0m",
      "\u001b[1;32mC:\\Users\\admin\\Anaconda2\\lib\\site-packages\\sklearn\\pipeline.pyc\u001b[0m in \u001b[0;36mfit\u001b[1;34m(self, X, y, **fit_params)\u001b[0m\n\u001b[0;32m    266\u001b[0m             \u001b[0mThis\u001b[0m \u001b[0mestimator\u001b[0m\u001b[1;33m\u001b[0m\u001b[0m\n\u001b[0;32m    267\u001b[0m         \"\"\"\n\u001b[1;32m--> 268\u001b[1;33m         \u001b[0mXt\u001b[0m\u001b[1;33m,\u001b[0m \u001b[0mfit_params\u001b[0m \u001b[1;33m=\u001b[0m \u001b[0mself\u001b[0m\u001b[1;33m.\u001b[0m\u001b[0m_fit\u001b[0m\u001b[1;33m(\u001b[0m\u001b[0mX\u001b[0m\u001b[1;33m,\u001b[0m \u001b[0my\u001b[0m\u001b[1;33m,\u001b[0m \u001b[1;33m**\u001b[0m\u001b[0mfit_params\u001b[0m\u001b[1;33m)\u001b[0m\u001b[1;33m\u001b[0m\u001b[0m\n\u001b[0m\u001b[0;32m    269\u001b[0m         \u001b[1;32mif\u001b[0m \u001b[0mself\u001b[0m\u001b[1;33m.\u001b[0m\u001b[0m_final_estimator\u001b[0m \u001b[1;32mis\u001b[0m \u001b[1;32mnot\u001b[0m \u001b[0mNone\u001b[0m\u001b[1;33m:\u001b[0m\u001b[1;33m\u001b[0m\u001b[0m\n\u001b[0;32m    270\u001b[0m             \u001b[0mself\u001b[0m\u001b[1;33m.\u001b[0m\u001b[0m_final_estimator\u001b[0m\u001b[1;33m.\u001b[0m\u001b[0mfit\u001b[0m\u001b[1;33m(\u001b[0m\u001b[0mXt\u001b[0m\u001b[1;33m,\u001b[0m \u001b[0my\u001b[0m\u001b[1;33m,\u001b[0m \u001b[1;33m**\u001b[0m\u001b[0mfit_params\u001b[0m\u001b[1;33m)\u001b[0m\u001b[1;33m\u001b[0m\u001b[0m\n",
      "\u001b[1;32mC:\\Users\\admin\\Anaconda2\\lib\\site-packages\\sklearn\\pipeline.pyc\u001b[0m in \u001b[0;36m_fit\u001b[1;34m(self, X, y, **fit_params)\u001b[0m\n\u001b[0;32m    232\u001b[0m                 \u001b[1;32mpass\u001b[0m\u001b[1;33m\u001b[0m\u001b[0m\n\u001b[0;32m    233\u001b[0m             \u001b[1;32melif\u001b[0m \u001b[0mhasattr\u001b[0m\u001b[1;33m(\u001b[0m\u001b[0mtransform\u001b[0m\u001b[1;33m,\u001b[0m \u001b[1;34m\"fit_transform\"\u001b[0m\u001b[1;33m)\u001b[0m\u001b[1;33m:\u001b[0m\u001b[1;33m\u001b[0m\u001b[0m\n\u001b[1;32m--> 234\u001b[1;33m                 \u001b[0mXt\u001b[0m \u001b[1;33m=\u001b[0m \u001b[0mtransform\u001b[0m\u001b[1;33m.\u001b[0m\u001b[0mfit_transform\u001b[0m\u001b[1;33m(\u001b[0m\u001b[0mXt\u001b[0m\u001b[1;33m,\u001b[0m \u001b[0my\u001b[0m\u001b[1;33m,\u001b[0m \u001b[1;33m**\u001b[0m\u001b[0mfit_params_steps\u001b[0m\u001b[1;33m[\u001b[0m\u001b[0mname\u001b[0m\u001b[1;33m]\u001b[0m\u001b[1;33m)\u001b[0m\u001b[1;33m\u001b[0m\u001b[0m\n\u001b[0m\u001b[0;32m    235\u001b[0m             \u001b[1;32melse\u001b[0m\u001b[1;33m:\u001b[0m\u001b[1;33m\u001b[0m\u001b[0m\n\u001b[0;32m    236\u001b[0m                 \u001b[0mXt\u001b[0m \u001b[1;33m=\u001b[0m \u001b[0mtransform\u001b[0m\u001b[1;33m.\u001b[0m\u001b[0mfit\u001b[0m\u001b[1;33m(\u001b[0m\u001b[0mXt\u001b[0m\u001b[1;33m,\u001b[0m \u001b[0my\u001b[0m\u001b[1;33m,\u001b[0m \u001b[1;33m**\u001b[0m\u001b[0mfit_params_steps\u001b[0m\u001b[1;33m[\u001b[0m\u001b[0mname\u001b[0m\u001b[1;33m]\u001b[0m\u001b[1;33m)\u001b[0m\u001b[0;31m \u001b[0m\u001b[0;31m\\\u001b[0m\u001b[1;33m\u001b[0m\u001b[0m\n",
      "\u001b[1;32mC:\\Users\\admin\\Anaconda2\\lib\\site-packages\\sklearn\\pipeline.pyc\u001b[0m in \u001b[0;36mfit_transform\u001b[1;34m(self, X, y, **fit_params)\u001b[0m\n\u001b[0;32m    742\u001b[0m             \u001b[0mXs\u001b[0m \u001b[1;33m=\u001b[0m \u001b[0msparse\u001b[0m\u001b[1;33m.\u001b[0m\u001b[0mhstack\u001b[0m\u001b[1;33m(\u001b[0m\u001b[0mXs\u001b[0m\u001b[1;33m)\u001b[0m\u001b[1;33m.\u001b[0m\u001b[0mtocsr\u001b[0m\u001b[1;33m(\u001b[0m\u001b[1;33m)\u001b[0m\u001b[1;33m\u001b[0m\u001b[0m\n\u001b[0;32m    743\u001b[0m         \u001b[1;32melse\u001b[0m\u001b[1;33m:\u001b[0m\u001b[1;33m\u001b[0m\u001b[0m\n\u001b[1;32m--> 744\u001b[1;33m             \u001b[0mXs\u001b[0m \u001b[1;33m=\u001b[0m \u001b[0mnp\u001b[0m\u001b[1;33m.\u001b[0m\u001b[0mhstack\u001b[0m\u001b[1;33m(\u001b[0m\u001b[0mXs\u001b[0m\u001b[1;33m)\u001b[0m\u001b[1;33m\u001b[0m\u001b[0m\n\u001b[0m\u001b[0;32m    745\u001b[0m         \u001b[1;32mreturn\u001b[0m \u001b[0mXs\u001b[0m\u001b[1;33m\u001b[0m\u001b[0m\n\u001b[0;32m    746\u001b[0m \u001b[1;33m\u001b[0m\u001b[0m\n",
      "\u001b[1;32mC:\\Users\\admin\\Anaconda2\\lib\\site-packages\\numpy\\core\\shape_base.pyc\u001b[0m in \u001b[0;36mhstack\u001b[1;34m(tup)\u001b[0m\n\u001b[0;32m    291\u001b[0m         \u001b[1;32mreturn\u001b[0m \u001b[0m_nx\u001b[0m\u001b[1;33m.\u001b[0m\u001b[0mconcatenate\u001b[0m\u001b[1;33m(\u001b[0m\u001b[0marrs\u001b[0m\u001b[1;33m,\u001b[0m \u001b[1;36m0\u001b[0m\u001b[1;33m)\u001b[0m\u001b[1;33m\u001b[0m\u001b[0m\n\u001b[0;32m    292\u001b[0m     \u001b[1;32melse\u001b[0m\u001b[1;33m:\u001b[0m\u001b[1;33m\u001b[0m\u001b[0m\n\u001b[1;32m--> 293\u001b[1;33m         \u001b[1;32mreturn\u001b[0m \u001b[0m_nx\u001b[0m\u001b[1;33m.\u001b[0m\u001b[0mconcatenate\u001b[0m\u001b[1;33m(\u001b[0m\u001b[0marrs\u001b[0m\u001b[1;33m,\u001b[0m \u001b[1;36m1\u001b[0m\u001b[1;33m)\u001b[0m\u001b[1;33m\u001b[0m\u001b[0m\n\u001b[0m\u001b[0;32m    294\u001b[0m \u001b[1;33m\u001b[0m\u001b[0m\n\u001b[0;32m    295\u001b[0m \u001b[1;33m\u001b[0m\u001b[0m\n",
      "\u001b[1;31mValueError\u001b[0m: all the input arrays must have same number of dimensions"
     ]
    }
   ],
   "source": [
    "pipe_log.fit(new_x.iloc[:, new_x.columns != 'isDuplicate'], new_x.isDuplicate)"
   ]
  },
  {
   "cell_type": "code",
   "execution_count": 170,
   "metadata": {},
   "outputs": [
    {
     "data": {
      "text/plain": [
       "0    1\n",
       "1    1\n",
       "2    0\n",
       "3    1\n",
       "4    1\n",
       "5    1\n",
       "6    0\n",
       "7    0\n",
       "8    0\n",
       "9    0\n",
       "Name: isDuplicate, dtype: int64"
      ]
     },
     "execution_count": 170,
     "metadata": {},
     "output_type": "execute_result"
    }
   ],
   "source": [
    "new_x.isDuplicate"
   ]
  },
  {
   "cell_type": "code",
   "execution_count": null,
   "metadata": {
    "collapsed": true
   },
   "outputs": [],
   "source": []
  }
 ],
 "metadata": {
  "kernelspec": {
   "display_name": "Python 2",
   "language": "python",
   "name": "python2"
  },
  "language_info": {
   "codemirror_mode": {
    "name": "ipython",
    "version": 2
   },
   "file_extension": ".py",
   "mimetype": "text/x-python",
   "name": "python",
   "nbconvert_exporter": "python",
   "pygments_lexer": "ipython2",
   "version": "2.7.13"
  }
 },
 "nbformat": 4,
 "nbformat_minor": 2
}
