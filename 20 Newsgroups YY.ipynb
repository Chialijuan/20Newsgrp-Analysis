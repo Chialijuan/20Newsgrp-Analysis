{
 "cells": [
  {
   "cell_type": "markdown",
   "metadata": {},
   "source": [
    "## 20 Newsgroups"
   ]
  },
  {
   "cell_type": "code",
   "execution_count": 117,
   "metadata": {},
   "outputs": [],
   "source": [
    "%matplotlib inline\n",
    "import matplotlib.pyplot as plt\n",
    "import seaborn\n",
    "import numpy as np\n",
    "from sklearn import datasets, model_selection\n",
    "import tarfile\n",
    "import re\n",
    "import os\n",
    "import pandas as pd\n",
    "from nltk.stem.porter import PorterStemmer\n",
    "from nltk.stem import WordNetLemmatizer\n",
    "from nltk import word_tokenize\n",
    "import string\n",
    "import spacy\n",
    "from string import digits\n",
    "from sklearn.feature_extraction.stop_words import ENGLISH_STOP_WORDS as stopwords \n",
    "from sklearn.feature_extraction.text import CountVectorizer, TfidfVectorizer\n",
    "from sklearn.svm import LinearSVC\n",
    "from sklearn.metrics import accuracy_score \n",
    "from sklearn.pipeline import Pipeline\n",
    "from spacy.en import English\n",
    "from sklearn.naive_bayes import MultinomialNB\n",
    "from sklearn.svm import SVC"
   ]
  },
  {
   "cell_type": "markdown",
   "metadata": {},
   "source": [
    "Getting category names, i.e. folder names of 20 newsgroups folder"
   ]
  },
  {
   "cell_type": "code",
   "execution_count": 2,
   "metadata": {},
   "outputs": [
    {
     "name": "stdout",
     "output_type": "stream",
     "text": [
      "['alt.atheism' 'comp.graphics' 'comp.os.ms-windows.misc'\n",
      " 'comp.sys.ibm.pc.hardware' 'comp.sys.mac.hardware' 'comp.windows.x'\n",
      " 'misc.forsale' 'rec.autos' 'rec.motorcycles' 'rec.sport.baseball'\n",
      " 'rec.sport.hockey' 'sci.crypt' 'sci.electronics' 'sci.med' 'sci.space'\n",
      " 'soc.religion.christian' 'talk.politics.guns' 'talk.politics.mideast'\n",
      " 'talk.politics.misc' 'talk.religion.misc']\n"
     ]
    }
   ],
   "source": [
    "path = \"20_newsgroups\"\n",
    "for root, dirs, files in os.walk(path, topdown=False):\n",
    "    newsgroups = np.array(dirs)\n",
    "print newsgroups"
   ]
  },
  {
   "cell_type": "markdown",
   "metadata": {},
   "source": [
    "Reading files from first folder. Just use a for loop to read in from more folders."
   ]
  },
  {
   "cell_type": "code",
   "execution_count": 3,
   "metadata": {
    "collapsed": true
   },
   "outputs": [],
   "source": [
    "x_train = []\n",
    "y_train = []\n",
    "x_test = []\n",
    "y_test = []\n",
    "for i in range(len(newsgroups)):\n",
    "    x = []\n",
    "    y=[]\n",
    "    path = \"20_newsgroups\" + \"/\" + newsgroups[i]\n",
    "    for root, dirs, files in os.walk(path):\n",
    "        for name in files:\n",
    "            f = open(path + \"/\" + name)\n",
    "            x.append(f.read())\n",
    "            y.append(newsgroups[i])\n",
    "    X_train, X_test, Y_train, Y_test = model_selection.train_test_split(x, y, test_size = 0.3, random_state = 1)\n",
    "    x_train.extend(X_train)\n",
    "    x_test.extend(X_test)\n",
    "    y_train.extend(Y_train)\n",
    "    y_test.extend(Y_test)\n",
    "#print x[1]"
   ]
  },
  {
   "cell_type": "code",
   "execution_count": 4,
   "metadata": {},
   "outputs": [
    {
     "name": "stdout",
     "output_type": "stream",
     "text": [
      "13997\n",
      "6000\n",
      "13997\n",
      "6000\n"
     ]
    }
   ],
   "source": [
    "print len(x_train)\n",
    "print len(x_test)\n",
    "print len(y_train)\n",
    "print len(y_test)"
   ]
  },
  {
   "cell_type": "code",
   "execution_count": 5,
   "metadata": {},
   "outputs": [
    {
     "name": "stdout",
     "output_type": "stream",
     "text": [
      "Counts for each category \n",
      "comp.os.ms-windows.misc     700\n",
      "comp.windows.x              700\n",
      "rec.motorcycles             700\n",
      "sci.med                     700\n",
      "talk.politics.mideast       700\n",
      "rec.sport.baseball          700\n",
      "comp.graphics               700\n",
      "comp.sys.ibm.pc.hardware    700\n",
      "rec.autos                   700\n",
      "misc.forsale                700\n",
      "sci.electronics             700\n",
      "sci.space                   700\n",
      "talk.politics.guns          700\n",
      "talk.politics.misc          700\n",
      "rec.sport.hockey            700\n",
      "comp.sys.mac.hardware       700\n",
      "sci.crypt                   700\n",
      "talk.religion.misc          700\n",
      "alt.atheism                 700\n",
      "soc.religion.christian      697\n",
      "Name: y_train, dtype: int64.\n",
      "Counts for each category \n",
      "talk.politics.guns          300\n",
      "sci.space                   300\n",
      "rec.motorcycles             300\n",
      "sci.med                     300\n",
      "talk.politics.misc          300\n",
      "talk.politics.mideast       300\n",
      "rec.sport.hockey            300\n",
      "comp.sys.mac.hardware       300\n",
      "rec.sport.baseball          300\n",
      "comp.graphics               300\n",
      "sci.crypt                   300\n",
      "talk.religion.misc          300\n",
      "comp.sys.ibm.pc.hardware    300\n",
      "alt.atheism                 300\n",
      "comp.windows.x              300\n",
      "rec.autos                   300\n",
      "misc.forsale                300\n",
      "comp.os.ms-windows.misc     300\n",
      "sci.electronics             300\n",
      "soc.religion.christian      300\n",
      "Name: y_test, dtype: int64.\n"
     ]
    }
   ],
   "source": [
    "print 'Counts for each category \\n%s.' % pd.DataFrame(y_train, columns = ['y_train']).y_train.value_counts()\n",
    "\n",
    "print 'Counts for each category \\n%s.' % pd.DataFrame(y_test, columns = ['y_test']).y_test.value_counts()"
   ]
  },
  {
   "cell_type": "markdown",
   "metadata": {},
   "source": [
    "Obtain metadatas From, Subject, Date, Organization, Sender from the headers of each file. Obtain Content from the body of each file and place in the original dataframe."
   ]
  },
  {
   "cell_type": "code",
   "execution_count": 6,
   "metadata": {
    "collapsed": true
   },
   "outputs": [],
   "source": [
    "# Creating the dataframe and assigning columns\n",
    "def create_dataframe(x): \n",
    "    original = pd.DataFrame()\n",
    "    original = original.assign(Path = '')\n",
    "    original = original.assign(From = '')\n",
    "    original = original.assign(Subject = '')\n",
    "    original = original.assign(Date = '')\n",
    "    original = original.assign(Organization = '')\n",
    "    original = original.assign(Sender = '')\n",
    "    original = original.assign(Content = '')\n",
    "    original = original.assign(Lines = '')\n",
    "    original = original.assign(Nntp_posting_host = '')\n",
    "    original = original.assign(Message_id = '')\n",
    "    original = original.assign(Reply_to = '')\n",
    "    original = original.assign(References = '')\n",
    "    #print original.dtypes\n",
    "\n",
    "    # Placing the metadatas and content in the respective cells of the dataframe\n",
    "    for i in range(len(x)):\n",
    "        data = x[i].split(\"\\n\\n\", 1)\n",
    "        email_content = ''\n",
    "        meta = sorted(data[0].split(\"\\n\"))\n",
    "        for k in meta:\n",
    "            z = np.array(k.split(\":\", 1))\n",
    "            meta_title = z[0].capitalize().replace('-', '_')\n",
    "            if meta_title in list(original):\n",
    "                try:\n",
    "                    original.at[i, meta_title] = z[1]\n",
    "                except ValueError:\n",
    "                    original.at[i, z[0]] = np.NaN\n",
    "        original.at[i, 'Content'] = data[1]\n",
    "    return original"
   ]
  },
  {
   "cell_type": "code",
   "execution_count": 7,
   "metadata": {},
   "outputs": [
    {
     "data": {
      "text/plain": [
       "Path                 13997\n",
       "From                 13997\n",
       "Subject              13997\n",
       "Date                 13997\n",
       "Organization         13415\n",
       "Sender                7618\n",
       "Content              13997\n",
       "Lines                13953\n",
       "Nntp_posting_host     5974\n",
       "Message_id           13997\n",
       "Reply_to              2102\n",
       "References            8750\n",
       "dtype: int64"
      ]
     },
     "execution_count": 7,
     "metadata": {},
     "output_type": "execute_result"
    }
   ],
   "source": [
    "train_x = create_dataframe(x_train)\n",
    "train_x.count()"
   ]
  },
  {
   "cell_type": "code",
   "execution_count": 8,
   "metadata": {},
   "outputs": [
    {
     "data": {
      "text/plain": [
       "Path                 6000\n",
       "From                 6000\n",
       "Subject              6000\n",
       "Date                 6000\n",
       "Organization         5731\n",
       "Sender               3254\n",
       "Content              6000\n",
       "Lines                5984\n",
       "Nntp_posting_host    2601\n",
       "Message_id           6000\n",
       "Reply_to              923\n",
       "References           3758\n",
       "dtype: int64"
      ]
     },
     "execution_count": 8,
     "metadata": {},
     "output_type": "execute_result"
    }
   ],
   "source": [
    "test_x = create_dataframe(x_test)\n",
    "test_x.count()"
   ]
  },
  {
   "cell_type": "markdown",
   "metadata": {},
   "source": [
    "Saving to csv"
   ]
  },
  {
   "cell_type": "code",
   "execution_count": 9,
   "metadata": {
    "collapsed": true
   },
   "outputs": [],
   "source": [
    "df_y_train = pd.DataFrame(y_train, columns = ['categories'])\n",
    "df_y_test = pd.DataFrame(y_test, columns = ['categories'])"
   ]
  },
  {
   "cell_type": "code",
   "execution_count": null,
   "metadata": {},
   "outputs": [],
   "source": [
    "train_x.to_csv('train_x.csv')\n",
    "test_x.to_csv('test_x.csv')\n",
    "df_y_train.to_csv('y_train.csv')\n",
    "df_y_test.to_csv('y_test.csv')"
   ]
  },
  {
   "cell_type": "markdown",
   "metadata": {},
   "source": [
    "## Import\n",
    "Importing the csv files"
   ]
  },
  {
   "cell_type": "code",
   "execution_count": null,
   "metadata": {},
   "outputs": [],
   "source": [
    "df_train_x = pd.read_csv('train_x.csv')\n",
    "df_test_x = pd.read_csv('test_x.csv')\n",
    "df_train_y = pd.read_csv('y_train.csv')\n",
    "df_test_y = pd.read_csv('y_test.csv')"
   ]
  },
  {
   "cell_type": "code",
   "execution_count": null,
   "metadata": {},
   "outputs": [],
   "source": [
    "df_train_x.loc[14]"
   ]
  },
  {
   "cell_type": "markdown",
   "metadata": {},
   "source": [
    "## Emails\n",
    "Extract email address from From and Sender column. From and Sender names were not considered as not much info can be gotten. \n",
    "Flag whether the document is from an educational institution by checking the domain for .edu\n",
    "Extra: extract domain, country etc"
   ]
  },
  {
   "cell_type": "code",
   "execution_count": 10,
   "metadata": {
    "collapsed": true
   },
   "outputs": [],
   "source": [
    "def process_emails(original):\n",
    "    # Extracting the email addresses from From column\n",
    "    original['Email_from'] = original.From.map(lambda x : re.search(r'[\\w\\.-]+@[\\w\\.-]+', x).group(0) \n",
    "                                               if re.search(r'[\\w\\.-]+@[\\w\\.-]+', x) is not None \n",
    "                                               else np.NaN)\n",
    "\n",
    "    # Extracting the email addresses from Sender column\n",
    "    original['Email_sender'] = original.Sender.map(lambda x : np.NaN \n",
    "                                                   if pd.isnull(x) \n",
    "                                                   else re.search(r'[\\w\\.-]+@[\\w\\.-]+', x).group(0) \n",
    "                                                   if re.search(r'[\\w\\.-]+@[\\w\\.-]+', x) is not None \n",
    "                                                   else np.NaN)\n",
    "\n",
    "    # flag as educational organisation if the email address has .edu domain\n",
    "    original['Edu_org'] = original.Email_from.map(lambda x : 1 if isinstance(x, basestring) and x[len(x) - 3:].find('edu') is not -1 \n",
    "                                                  else 0)\n",
    "    return original"
   ]
  },
  {
   "cell_type": "code",
   "execution_count": 11,
   "metadata": {
    "scrolled": true
   },
   "outputs": [
    {
     "data": {
      "text/html": [
       "<div>\n",
       "<style>\n",
       "    .dataframe thead tr:only-child th {\n",
       "        text-align: right;\n",
       "    }\n",
       "\n",
       "    .dataframe thead th {\n",
       "        text-align: left;\n",
       "    }\n",
       "\n",
       "    .dataframe tbody tr th {\n",
       "        vertical-align: top;\n",
       "    }\n",
       "</style>\n",
       "<table border=\"1\" class=\"dataframe\">\n",
       "  <thead>\n",
       "    <tr style=\"text-align: right;\">\n",
       "      <th></th>\n",
       "      <th>Path</th>\n",
       "      <th>From</th>\n",
       "      <th>Subject</th>\n",
       "      <th>Date</th>\n",
       "      <th>Organization</th>\n",
       "      <th>Sender</th>\n",
       "      <th>Content</th>\n",
       "      <th>Lines</th>\n",
       "      <th>Nntp_posting_host</th>\n",
       "      <th>Message_id</th>\n",
       "      <th>Reply_to</th>\n",
       "      <th>References</th>\n",
       "      <th>Email_from</th>\n",
       "      <th>Email_sender</th>\n",
       "      <th>Edu_org</th>\n",
       "    </tr>\n",
       "  </thead>\n",
       "  <tbody>\n",
       "    <tr>\n",
       "      <th>0</th>\n",
       "      <td>cantaloupe.srv.cs.cmu.edu!magnesium.club.cc.c...</td>\n",
       "      <td>livesey@solntze.wpd.sgi.com (Jon Livesey)</td>\n",
       "      <td>Re: Yet more Rushdie [Re: ISLAMIC LAW]</td>\n",
       "      <td>23 Apr 1993 21:02:00 GMT</td>\n",
       "      <td>sgi</td>\n",
       "      <td>NaN</td>\n",
       "      <td>In article &lt;116533@bu.edu&gt;, jaeger@buphy.bu.ed...</td>\n",
       "      <td>27</td>\n",
       "      <td>solntze.wpd.sgi.com</td>\n",
       "      <td>&lt;1r9lg8$92u@fido.asd.sgi.com&gt;</td>\n",
       "      <td>NaN</td>\n",
       "      <td>&lt;1qla0g$afp@fido.asd.sgi.com&gt; &lt;115793@bu.edu&gt;...</td>\n",
       "      <td>livesey@solntze.wpd.sgi.com</td>\n",
       "      <td>NaN</td>\n",
       "      <td>0</td>\n",
       "    </tr>\n",
       "    <tr>\n",
       "      <th>1</th>\n",
       "      <td>cantaloupe.srv.cs.cmu.edu!magnesium.club.cc.c...</td>\n",
       "      <td>halat@pooh.bears (Jim Halat)</td>\n",
       "      <td>Re: After 2000 years, can we say that Christi...</td>\n",
       "      <td>23 Apr 93 18:50:18 GMT</td>\n",
       "      <td>NaN</td>\n",
       "      <td>news@bear.com</td>\n",
       "      <td>In article &lt;markp.735230393@elvis.wri.com&gt;, ma...</td>\n",
       "      <td>25</td>\n",
       "      <td>NaN</td>\n",
       "      <td>&lt;30185@ursa.bear.com&gt;</td>\n",
       "      <td>halat@pooh.bears (Jim Halat)</td>\n",
       "      <td>&lt;30114@ursa.bear.com# &lt;1qie61$fkt@horus.ap.mc...</td>\n",
       "      <td>halat@pooh.bears</td>\n",
       "      <td>news@bear.com</td>\n",
       "      <td>0</td>\n",
       "    </tr>\n",
       "    <tr>\n",
       "      <th>2</th>\n",
       "      <td>cantaloupe.srv.cs.cmu.edu!magnesium.club.cc.c...</td>\n",
       "      <td>sham@cs.arizona.edu (Shamim Zvonko Mohamed)</td>\n",
       "      <td>Re: Death Penalty / Gulf War (long)</td>\n",
       "      <td>21 Apr 93 20:33:53 GMT</td>\n",
       "      <td>U of Arizona CS Dept, Tucson</td>\n",
       "      <td>NaN</td>\n",
       "      <td>This is the most unmitigated bilge I've seen i...</td>\n",
       "      <td>62</td>\n",
       "      <td>NaN</td>\n",
       "      <td>&lt;37501@optima.cs.arizona.edu&gt;</td>\n",
       "      <td>NaN</td>\n",
       "      <td>&lt;930420.105805.0x8.rusnews.w165w@mantis.co.uk&gt;</td>\n",
       "      <td>sham@cs.arizona.edu</td>\n",
       "      <td>NaN</td>\n",
       "      <td>1</td>\n",
       "    </tr>\n",
       "    <tr>\n",
       "      <th>3</th>\n",
       "      <td>cantaloupe.srv.cs.cmu.edu!crabapple.srv.cs.cm...</td>\n",
       "      <td>dewey@risc.sps.mot.com (Dewey Henize)</td>\n",
       "      <td>Re: sci.skeptic.religion (Was: Why ALT.atheism?)</td>\n",
       "      <td>13 Apr 1993 18:43:48 -0500</td>\n",
       "      <td>Motorola, Inc. -- Austin,TX</td>\n",
       "      <td>NaN</td>\n",
       "      <td>In article &lt;93103.071613J5J@psuvm.psu.edu&gt; Joh...</td>\n",
       "      <td>33</td>\n",
       "      <td>thug.sps.mot.com</td>\n",
       "      <td>&lt;1qfj7kINNked@thug.sps.mot.com&gt;</td>\n",
       "      <td>NaN</td>\n",
       "      <td>&lt;1993Apr13.040149.25394@cs.ucla.edu&gt; &lt;1993Apr...</td>\n",
       "      <td>dewey@risc.sps.mot.com</td>\n",
       "      <td>NaN</td>\n",
       "      <td>0</td>\n",
       "    </tr>\n",
       "    <tr>\n",
       "      <th>4</th>\n",
       "      <td>cantaloupe.srv.cs.cmu.edu!crabapple.srv.cs.cm...</td>\n",
       "      <td>mathew &lt;mathew@mantis.co.uk&gt;</td>\n",
       "      <td>Re: After 2000 years, can we say that Christi...</td>\n",
       "      <td>Wed, 21 Apr 1993 10:25:25 +0100</td>\n",
       "      <td>Mantis Consultants, Cambridge. UK.</td>\n",
       "      <td>NaN</td>\n",
       "      <td>frank@D012S658.uucp (Frank O'Dwyer) writes:\\n&gt;...</td>\n",
       "      <td>21</td>\n",
       "      <td>NaN</td>\n",
       "      <td>&lt;930421.102525.9Y9.rusnews.w165w@mantis.co.uk&gt;</td>\n",
       "      <td>NaN</td>\n",
       "      <td>&lt;1qtsmc$39j@horus.ap.mchp.sni.de&gt; &lt;930420.100...</td>\n",
       "      <td>mathew@mantis.co.uk</td>\n",
       "      <td>NaN</td>\n",
       "      <td>0</td>\n",
       "    </tr>\n",
       "  </tbody>\n",
       "</table>\n",
       "</div>"
      ],
      "text/plain": [
       "                                                Path  \\\n",
       "0   cantaloupe.srv.cs.cmu.edu!magnesium.club.cc.c...   \n",
       "1   cantaloupe.srv.cs.cmu.edu!magnesium.club.cc.c...   \n",
       "2   cantaloupe.srv.cs.cmu.edu!magnesium.club.cc.c...   \n",
       "3   cantaloupe.srv.cs.cmu.edu!crabapple.srv.cs.cm...   \n",
       "4   cantaloupe.srv.cs.cmu.edu!crabapple.srv.cs.cm...   \n",
       "\n",
       "                                           From  \\\n",
       "0     livesey@solntze.wpd.sgi.com (Jon Livesey)   \n",
       "1                  halat@pooh.bears (Jim Halat)   \n",
       "2   sham@cs.arizona.edu (Shamim Zvonko Mohamed)   \n",
       "3         dewey@risc.sps.mot.com (Dewey Henize)   \n",
       "4                  mathew <mathew@mantis.co.uk>   \n",
       "\n",
       "                                             Subject  \\\n",
       "0             Re: Yet more Rushdie [Re: ISLAMIC LAW]   \n",
       "1   Re: After 2000 years, can we say that Christi...   \n",
       "2                Re: Death Penalty / Gulf War (long)   \n",
       "3   Re: sci.skeptic.religion (Was: Why ALT.atheism?)   \n",
       "4   Re: After 2000 years, can we say that Christi...   \n",
       "\n",
       "                               Date                         Organization  \\\n",
       "0          23 Apr 1993 21:02:00 GMT                                  sgi   \n",
       "1            23 Apr 93 18:50:18 GMT                                  NaN   \n",
       "2            21 Apr 93 20:33:53 GMT         U of Arizona CS Dept, Tucson   \n",
       "3        13 Apr 1993 18:43:48 -0500          Motorola, Inc. -- Austin,TX   \n",
       "4   Wed, 21 Apr 1993 10:25:25 +0100   Mantis Consultants, Cambridge. UK.   \n",
       "\n",
       "           Sender                                            Content Lines  \\\n",
       "0             NaN  In article <116533@bu.edu>, jaeger@buphy.bu.ed...    27   \n",
       "1   news@bear.com  In article <markp.735230393@elvis.wri.com>, ma...    25   \n",
       "2             NaN  This is the most unmitigated bilge I've seen i...    62   \n",
       "3             NaN  In article <93103.071613J5J@psuvm.psu.edu> Joh...    33   \n",
       "4             NaN  frank@D012S658.uucp (Frank O'Dwyer) writes:\\n>...    21   \n",
       "\n",
       "      Nntp_posting_host                                       Message_id  \\\n",
       "0   solntze.wpd.sgi.com                    <1r9lg8$92u@fido.asd.sgi.com>   \n",
       "1                   NaN                            <30185@ursa.bear.com>   \n",
       "2                   NaN                    <37501@optima.cs.arizona.edu>   \n",
       "3      thug.sps.mot.com                  <1qfj7kINNked@thug.sps.mot.com>   \n",
       "4                   NaN   <930421.102525.9Y9.rusnews.w165w@mantis.co.uk>   \n",
       "\n",
       "                        Reply_to  \\\n",
       "0                            NaN   \n",
       "1   halat@pooh.bears (Jim Halat)   \n",
       "2                            NaN   \n",
       "3                            NaN   \n",
       "4                            NaN   \n",
       "\n",
       "                                          References  \\\n",
       "0   <1qla0g$afp@fido.asd.sgi.com> <115793@bu.edu>...   \n",
       "1   <30114@ursa.bear.com# <1qie61$fkt@horus.ap.mc...   \n",
       "2    <930420.105805.0x8.rusnews.w165w@mantis.co.uk>    \n",
       "3   <1993Apr13.040149.25394@cs.ucla.edu> <1993Apr...   \n",
       "4   <1qtsmc$39j@horus.ap.mchp.sni.de> <930420.100...   \n",
       "\n",
       "                    Email_from   Email_sender  Edu_org  \n",
       "0  livesey@solntze.wpd.sgi.com            NaN        0  \n",
       "1             halat@pooh.bears  news@bear.com        0  \n",
       "2          sham@cs.arizona.edu            NaN        1  \n",
       "3       dewey@risc.sps.mot.com            NaN        0  \n",
       "4          mathew@mantis.co.uk            NaN        0  "
      ]
     },
     "execution_count": 11,
     "metadata": {},
     "output_type": "execute_result"
    }
   ],
   "source": [
    "train_x = process_emails(train_x)\n",
    "train_x.head()"
   ]
  },
  {
   "cell_type": "markdown",
   "metadata": {},
   "source": [
    "## Subject\n",
    "For Subject, remove Re: (maybe indicate that its a reply message), throw to content"
   ]
  },
  {
   "cell_type": "code",
   "execution_count": 12,
   "metadata": {
    "collapsed": true
   },
   "outputs": [],
   "source": [
    "def process_subject(original):\n",
    "    # Process the subject to remove Re:\n",
    "    original['Subject_processed'] = original.Subject.map(lambda x : x[x.find(\"FAQ:\") + 5:] \n",
    "                                                         if x.find(\"FAQ:\") is not -1 \n",
    "                                                         else x[x.find(\"Re:\") + 4:] if x.find(\"Re:\") is not -1 and x.find(\"Re\", 5) is -1\n",
    "                                                         else x[x.find(\"Re:\") + 4:x.find(\"Re\", 5)] if x.find(\"Re:\") is not -1\n",
    "                                                         else x)\n",
    "\n",
    "    # Reply_msg = 1 if the document is a reply message, otherwise 0\n",
    "    original['Reply_msg'] = original.Subject.map(lambda x : 1 \n",
    "                                                 if x.find(\"Re:\") == 1 \n",
    "                                                 else 0)\n",
    "\n",
    "    # Adds the processed subject to Content column\n",
    "    original['Content'] = original.Content + \" \" + original.Subject_processed\n",
    "\n",
    "    # Removes Subject_processed column as they are appended to content column\n",
    "    del original['Subject_processed']\n",
    "    return original"
   ]
  },
  {
   "cell_type": "code",
   "execution_count": 13,
   "metadata": {},
   "outputs": [
    {
     "data": {
      "text/html": [
       "<div>\n",
       "<style>\n",
       "    .dataframe thead tr:only-child th {\n",
       "        text-align: right;\n",
       "    }\n",
       "\n",
       "    .dataframe thead th {\n",
       "        text-align: left;\n",
       "    }\n",
       "\n",
       "    .dataframe tbody tr th {\n",
       "        vertical-align: top;\n",
       "    }\n",
       "</style>\n",
       "<table border=\"1\" class=\"dataframe\">\n",
       "  <thead>\n",
       "    <tr style=\"text-align: right;\">\n",
       "      <th></th>\n",
       "      <th>Path</th>\n",
       "      <th>From</th>\n",
       "      <th>Subject</th>\n",
       "      <th>Date</th>\n",
       "      <th>Organization</th>\n",
       "      <th>Sender</th>\n",
       "      <th>Content</th>\n",
       "      <th>Lines</th>\n",
       "      <th>Nntp_posting_host</th>\n",
       "      <th>Message_id</th>\n",
       "      <th>Reply_to</th>\n",
       "      <th>References</th>\n",
       "      <th>Email_from</th>\n",
       "      <th>Email_sender</th>\n",
       "      <th>Edu_org</th>\n",
       "      <th>Reply_msg</th>\n",
       "    </tr>\n",
       "  </thead>\n",
       "  <tbody>\n",
       "    <tr>\n",
       "      <th>0</th>\n",
       "      <td>cantaloupe.srv.cs.cmu.edu!magnesium.club.cc.c...</td>\n",
       "      <td>livesey@solntze.wpd.sgi.com (Jon Livesey)</td>\n",
       "      <td>Re: Yet more Rushdie [Re: ISLAMIC LAW]</td>\n",
       "      <td>23 Apr 1993 21:02:00 GMT</td>\n",
       "      <td>sgi</td>\n",
       "      <td>NaN</td>\n",
       "      <td>In article &lt;116533@bu.edu&gt;, jaeger@buphy.bu.ed...</td>\n",
       "      <td>27</td>\n",
       "      <td>solntze.wpd.sgi.com</td>\n",
       "      <td>&lt;1r9lg8$92u@fido.asd.sgi.com&gt;</td>\n",
       "      <td>NaN</td>\n",
       "      <td>&lt;1qla0g$afp@fido.asd.sgi.com&gt; &lt;115793@bu.edu&gt;...</td>\n",
       "      <td>livesey@solntze.wpd.sgi.com</td>\n",
       "      <td>NaN</td>\n",
       "      <td>0</td>\n",
       "      <td>1</td>\n",
       "    </tr>\n",
       "    <tr>\n",
       "      <th>1</th>\n",
       "      <td>cantaloupe.srv.cs.cmu.edu!magnesium.club.cc.c...</td>\n",
       "      <td>halat@pooh.bears (Jim Halat)</td>\n",
       "      <td>Re: After 2000 years, can we say that Christi...</td>\n",
       "      <td>23 Apr 93 18:50:18 GMT</td>\n",
       "      <td>NaN</td>\n",
       "      <td>news@bear.com</td>\n",
       "      <td>In article &lt;markp.735230393@elvis.wri.com&gt;, ma...</td>\n",
       "      <td>25</td>\n",
       "      <td>NaN</td>\n",
       "      <td>&lt;30185@ursa.bear.com&gt;</td>\n",
       "      <td>halat@pooh.bears (Jim Halat)</td>\n",
       "      <td>&lt;30114@ursa.bear.com# &lt;1qie61$fkt@horus.ap.mc...</td>\n",
       "      <td>halat@pooh.bears</td>\n",
       "      <td>news@bear.com</td>\n",
       "      <td>0</td>\n",
       "      <td>1</td>\n",
       "    </tr>\n",
       "    <tr>\n",
       "      <th>2</th>\n",
       "      <td>cantaloupe.srv.cs.cmu.edu!magnesium.club.cc.c...</td>\n",
       "      <td>sham@cs.arizona.edu (Shamim Zvonko Mohamed)</td>\n",
       "      <td>Re: Death Penalty / Gulf War (long)</td>\n",
       "      <td>21 Apr 93 20:33:53 GMT</td>\n",
       "      <td>U of Arizona CS Dept, Tucson</td>\n",
       "      <td>NaN</td>\n",
       "      <td>This is the most unmitigated bilge I've seen i...</td>\n",
       "      <td>62</td>\n",
       "      <td>NaN</td>\n",
       "      <td>&lt;37501@optima.cs.arizona.edu&gt;</td>\n",
       "      <td>NaN</td>\n",
       "      <td>&lt;930420.105805.0x8.rusnews.w165w@mantis.co.uk&gt;</td>\n",
       "      <td>sham@cs.arizona.edu</td>\n",
       "      <td>NaN</td>\n",
       "      <td>1</td>\n",
       "      <td>1</td>\n",
       "    </tr>\n",
       "    <tr>\n",
       "      <th>3</th>\n",
       "      <td>cantaloupe.srv.cs.cmu.edu!crabapple.srv.cs.cm...</td>\n",
       "      <td>dewey@risc.sps.mot.com (Dewey Henize)</td>\n",
       "      <td>Re: sci.skeptic.religion (Was: Why ALT.atheism?)</td>\n",
       "      <td>13 Apr 1993 18:43:48 -0500</td>\n",
       "      <td>Motorola, Inc. -- Austin,TX</td>\n",
       "      <td>NaN</td>\n",
       "      <td>In article &lt;93103.071613J5J@psuvm.psu.edu&gt; Joh...</td>\n",
       "      <td>33</td>\n",
       "      <td>thug.sps.mot.com</td>\n",
       "      <td>&lt;1qfj7kINNked@thug.sps.mot.com&gt;</td>\n",
       "      <td>NaN</td>\n",
       "      <td>&lt;1993Apr13.040149.25394@cs.ucla.edu&gt; &lt;1993Apr...</td>\n",
       "      <td>dewey@risc.sps.mot.com</td>\n",
       "      <td>NaN</td>\n",
       "      <td>0</td>\n",
       "      <td>1</td>\n",
       "    </tr>\n",
       "    <tr>\n",
       "      <th>4</th>\n",
       "      <td>cantaloupe.srv.cs.cmu.edu!crabapple.srv.cs.cm...</td>\n",
       "      <td>mathew &lt;mathew@mantis.co.uk&gt;</td>\n",
       "      <td>Re: After 2000 years, can we say that Christi...</td>\n",
       "      <td>Wed, 21 Apr 1993 10:25:25 +0100</td>\n",
       "      <td>Mantis Consultants, Cambridge. UK.</td>\n",
       "      <td>NaN</td>\n",
       "      <td>frank@D012S658.uucp (Frank O'Dwyer) writes:\\n&gt;...</td>\n",
       "      <td>21</td>\n",
       "      <td>NaN</td>\n",
       "      <td>&lt;930421.102525.9Y9.rusnews.w165w@mantis.co.uk&gt;</td>\n",
       "      <td>NaN</td>\n",
       "      <td>&lt;1qtsmc$39j@horus.ap.mchp.sni.de&gt; &lt;930420.100...</td>\n",
       "      <td>mathew@mantis.co.uk</td>\n",
       "      <td>NaN</td>\n",
       "      <td>0</td>\n",
       "      <td>1</td>\n",
       "    </tr>\n",
       "  </tbody>\n",
       "</table>\n",
       "</div>"
      ],
      "text/plain": [
       "                                                Path  \\\n",
       "0   cantaloupe.srv.cs.cmu.edu!magnesium.club.cc.c...   \n",
       "1   cantaloupe.srv.cs.cmu.edu!magnesium.club.cc.c...   \n",
       "2   cantaloupe.srv.cs.cmu.edu!magnesium.club.cc.c...   \n",
       "3   cantaloupe.srv.cs.cmu.edu!crabapple.srv.cs.cm...   \n",
       "4   cantaloupe.srv.cs.cmu.edu!crabapple.srv.cs.cm...   \n",
       "\n",
       "                                           From  \\\n",
       "0     livesey@solntze.wpd.sgi.com (Jon Livesey)   \n",
       "1                  halat@pooh.bears (Jim Halat)   \n",
       "2   sham@cs.arizona.edu (Shamim Zvonko Mohamed)   \n",
       "3         dewey@risc.sps.mot.com (Dewey Henize)   \n",
       "4                  mathew <mathew@mantis.co.uk>   \n",
       "\n",
       "                                             Subject  \\\n",
       "0             Re: Yet more Rushdie [Re: ISLAMIC LAW]   \n",
       "1   Re: After 2000 years, can we say that Christi...   \n",
       "2                Re: Death Penalty / Gulf War (long)   \n",
       "3   Re: sci.skeptic.religion (Was: Why ALT.atheism?)   \n",
       "4   Re: After 2000 years, can we say that Christi...   \n",
       "\n",
       "                               Date                         Organization  \\\n",
       "0          23 Apr 1993 21:02:00 GMT                                  sgi   \n",
       "1            23 Apr 93 18:50:18 GMT                                  NaN   \n",
       "2            21 Apr 93 20:33:53 GMT         U of Arizona CS Dept, Tucson   \n",
       "3        13 Apr 1993 18:43:48 -0500          Motorola, Inc. -- Austin,TX   \n",
       "4   Wed, 21 Apr 1993 10:25:25 +0100   Mantis Consultants, Cambridge. UK.   \n",
       "\n",
       "           Sender                                            Content Lines  \\\n",
       "0             NaN  In article <116533@bu.edu>, jaeger@buphy.bu.ed...    27   \n",
       "1   news@bear.com  In article <markp.735230393@elvis.wri.com>, ma...    25   \n",
       "2             NaN  This is the most unmitigated bilge I've seen i...    62   \n",
       "3             NaN  In article <93103.071613J5J@psuvm.psu.edu> Joh...    33   \n",
       "4             NaN  frank@D012S658.uucp (Frank O'Dwyer) writes:\\n>...    21   \n",
       "\n",
       "      Nntp_posting_host                                       Message_id  \\\n",
       "0   solntze.wpd.sgi.com                    <1r9lg8$92u@fido.asd.sgi.com>   \n",
       "1                   NaN                            <30185@ursa.bear.com>   \n",
       "2                   NaN                    <37501@optima.cs.arizona.edu>   \n",
       "3      thug.sps.mot.com                  <1qfj7kINNked@thug.sps.mot.com>   \n",
       "4                   NaN   <930421.102525.9Y9.rusnews.w165w@mantis.co.uk>   \n",
       "\n",
       "                        Reply_to  \\\n",
       "0                            NaN   \n",
       "1   halat@pooh.bears (Jim Halat)   \n",
       "2                            NaN   \n",
       "3                            NaN   \n",
       "4                            NaN   \n",
       "\n",
       "                                          References  \\\n",
       "0   <1qla0g$afp@fido.asd.sgi.com> <115793@bu.edu>...   \n",
       "1   <30114@ursa.bear.com# <1qie61$fkt@horus.ap.mc...   \n",
       "2    <930420.105805.0x8.rusnews.w165w@mantis.co.uk>    \n",
       "3   <1993Apr13.040149.25394@cs.ucla.edu> <1993Apr...   \n",
       "4   <1qtsmc$39j@horus.ap.mchp.sni.de> <930420.100...   \n",
       "\n",
       "                    Email_from   Email_sender  Edu_org  Reply_msg  \n",
       "0  livesey@solntze.wpd.sgi.com            NaN        0          1  \n",
       "1             halat@pooh.bears  news@bear.com        0          1  \n",
       "2          sham@cs.arizona.edu            NaN        1          1  \n",
       "3       dewey@risc.sps.mot.com            NaN        0          1  \n",
       "4          mathew@mantis.co.uk            NaN        0          1  "
      ]
     },
     "execution_count": 13,
     "metadata": {},
     "output_type": "execute_result"
    }
   ],
   "source": [
    "train_x = process_subject(train_x)\n",
    "train_x.head()"
   ]
  },
  {
   "cell_type": "markdown",
   "metadata": {},
   "source": [
    "## Date\n",
    "For Date, extract month and year (year seems to be all in 1993)"
   ]
  },
  {
   "cell_type": "code",
   "execution_count": 14,
   "metadata": {
    "collapsed": true
   },
   "outputs": [],
   "source": [
    "def process_date(original):\n",
    "    # Extracting the Month from the Date column\n",
    "    month_dict = ['jan', 'feb', 'mar', 'apr', 'may', 'jun', 'jul', 'aug', 'sep', 'oct', 'nov', 'dec']\n",
    "    original['Month'] = original.Date.map(lambda y : ''.join(filter(lambda x: x.lower() in month_dict, y.split())))\n",
    "\n",
    "    # Extracting the Year from the Date column\n",
    "    original['Year'] = original.Date.map(lambda x : ''.join([x[x.lower().find(i):].split(' ')[1] \n",
    "                                                             for i in month_dict \n",
    "                                                             if x.lower().find(i) is not -1]))\n",
    "    original['Year'] = original.Year.map(lambda x : x[2:] \n",
    "                                         if len(x) is 4 \n",
    "                                         else x)\n",
    "    return original"
   ]
  },
  {
   "cell_type": "code",
   "execution_count": 15,
   "metadata": {},
   "outputs": [
    {
     "data": {
      "text/html": [
       "<div>\n",
       "<style>\n",
       "    .dataframe thead tr:only-child th {\n",
       "        text-align: right;\n",
       "    }\n",
       "\n",
       "    .dataframe thead th {\n",
       "        text-align: left;\n",
       "    }\n",
       "\n",
       "    .dataframe tbody tr th {\n",
       "        vertical-align: top;\n",
       "    }\n",
       "</style>\n",
       "<table border=\"1\" class=\"dataframe\">\n",
       "  <thead>\n",
       "    <tr style=\"text-align: right;\">\n",
       "      <th></th>\n",
       "      <th>Path</th>\n",
       "      <th>From</th>\n",
       "      <th>Subject</th>\n",
       "      <th>Date</th>\n",
       "      <th>Organization</th>\n",
       "      <th>Sender</th>\n",
       "      <th>Content</th>\n",
       "      <th>Lines</th>\n",
       "      <th>Nntp_posting_host</th>\n",
       "      <th>Message_id</th>\n",
       "      <th>Reply_to</th>\n",
       "      <th>References</th>\n",
       "      <th>Email_from</th>\n",
       "      <th>Email_sender</th>\n",
       "      <th>Edu_org</th>\n",
       "      <th>Reply_msg</th>\n",
       "      <th>Month</th>\n",
       "      <th>Year</th>\n",
       "    </tr>\n",
       "  </thead>\n",
       "  <tbody>\n",
       "    <tr>\n",
       "      <th>0</th>\n",
       "      <td>cantaloupe.srv.cs.cmu.edu!magnesium.club.cc.c...</td>\n",
       "      <td>livesey@solntze.wpd.sgi.com (Jon Livesey)</td>\n",
       "      <td>Re: Yet more Rushdie [Re: ISLAMIC LAW]</td>\n",
       "      <td>23 Apr 1993 21:02:00 GMT</td>\n",
       "      <td>sgi</td>\n",
       "      <td>NaN</td>\n",
       "      <td>In article &lt;116533@bu.edu&gt;, jaeger@buphy.bu.ed...</td>\n",
       "      <td>27</td>\n",
       "      <td>solntze.wpd.sgi.com</td>\n",
       "      <td>&lt;1r9lg8$92u@fido.asd.sgi.com&gt;</td>\n",
       "      <td>NaN</td>\n",
       "      <td>&lt;1qla0g$afp@fido.asd.sgi.com&gt; &lt;115793@bu.edu&gt;...</td>\n",
       "      <td>livesey@solntze.wpd.sgi.com</td>\n",
       "      <td>NaN</td>\n",
       "      <td>0</td>\n",
       "      <td>1</td>\n",
       "      <td>Apr</td>\n",
       "      <td>93</td>\n",
       "    </tr>\n",
       "    <tr>\n",
       "      <th>1</th>\n",
       "      <td>cantaloupe.srv.cs.cmu.edu!magnesium.club.cc.c...</td>\n",
       "      <td>halat@pooh.bears (Jim Halat)</td>\n",
       "      <td>Re: After 2000 years, can we say that Christi...</td>\n",
       "      <td>23 Apr 93 18:50:18 GMT</td>\n",
       "      <td>NaN</td>\n",
       "      <td>news@bear.com</td>\n",
       "      <td>In article &lt;markp.735230393@elvis.wri.com&gt;, ma...</td>\n",
       "      <td>25</td>\n",
       "      <td>NaN</td>\n",
       "      <td>&lt;30185@ursa.bear.com&gt;</td>\n",
       "      <td>halat@pooh.bears (Jim Halat)</td>\n",
       "      <td>&lt;30114@ursa.bear.com# &lt;1qie61$fkt@horus.ap.mc...</td>\n",
       "      <td>halat@pooh.bears</td>\n",
       "      <td>news@bear.com</td>\n",
       "      <td>0</td>\n",
       "      <td>1</td>\n",
       "      <td>Apr</td>\n",
       "      <td>93</td>\n",
       "    </tr>\n",
       "    <tr>\n",
       "      <th>2</th>\n",
       "      <td>cantaloupe.srv.cs.cmu.edu!magnesium.club.cc.c...</td>\n",
       "      <td>sham@cs.arizona.edu (Shamim Zvonko Mohamed)</td>\n",
       "      <td>Re: Death Penalty / Gulf War (long)</td>\n",
       "      <td>21 Apr 93 20:33:53 GMT</td>\n",
       "      <td>U of Arizona CS Dept, Tucson</td>\n",
       "      <td>NaN</td>\n",
       "      <td>This is the most unmitigated bilge I've seen i...</td>\n",
       "      <td>62</td>\n",
       "      <td>NaN</td>\n",
       "      <td>&lt;37501@optima.cs.arizona.edu&gt;</td>\n",
       "      <td>NaN</td>\n",
       "      <td>&lt;930420.105805.0x8.rusnews.w165w@mantis.co.uk&gt;</td>\n",
       "      <td>sham@cs.arizona.edu</td>\n",
       "      <td>NaN</td>\n",
       "      <td>1</td>\n",
       "      <td>1</td>\n",
       "      <td>Apr</td>\n",
       "      <td>93</td>\n",
       "    </tr>\n",
       "    <tr>\n",
       "      <th>3</th>\n",
       "      <td>cantaloupe.srv.cs.cmu.edu!crabapple.srv.cs.cm...</td>\n",
       "      <td>dewey@risc.sps.mot.com (Dewey Henize)</td>\n",
       "      <td>Re: sci.skeptic.religion (Was: Why ALT.atheism?)</td>\n",
       "      <td>13 Apr 1993 18:43:48 -0500</td>\n",
       "      <td>Motorola, Inc. -- Austin,TX</td>\n",
       "      <td>NaN</td>\n",
       "      <td>In article &lt;93103.071613J5J@psuvm.psu.edu&gt; Joh...</td>\n",
       "      <td>33</td>\n",
       "      <td>thug.sps.mot.com</td>\n",
       "      <td>&lt;1qfj7kINNked@thug.sps.mot.com&gt;</td>\n",
       "      <td>NaN</td>\n",
       "      <td>&lt;1993Apr13.040149.25394@cs.ucla.edu&gt; &lt;1993Apr...</td>\n",
       "      <td>dewey@risc.sps.mot.com</td>\n",
       "      <td>NaN</td>\n",
       "      <td>0</td>\n",
       "      <td>1</td>\n",
       "      <td>Apr</td>\n",
       "      <td>93</td>\n",
       "    </tr>\n",
       "    <tr>\n",
       "      <th>4</th>\n",
       "      <td>cantaloupe.srv.cs.cmu.edu!crabapple.srv.cs.cm...</td>\n",
       "      <td>mathew &lt;mathew@mantis.co.uk&gt;</td>\n",
       "      <td>Re: After 2000 years, can we say that Christi...</td>\n",
       "      <td>Wed, 21 Apr 1993 10:25:25 +0100</td>\n",
       "      <td>Mantis Consultants, Cambridge. UK.</td>\n",
       "      <td>NaN</td>\n",
       "      <td>frank@D012S658.uucp (Frank O'Dwyer) writes:\\n&gt;...</td>\n",
       "      <td>21</td>\n",
       "      <td>NaN</td>\n",
       "      <td>&lt;930421.102525.9Y9.rusnews.w165w@mantis.co.uk&gt;</td>\n",
       "      <td>NaN</td>\n",
       "      <td>&lt;1qtsmc$39j@horus.ap.mchp.sni.de&gt; &lt;930420.100...</td>\n",
       "      <td>mathew@mantis.co.uk</td>\n",
       "      <td>NaN</td>\n",
       "      <td>0</td>\n",
       "      <td>1</td>\n",
       "      <td>Apr</td>\n",
       "      <td>93</td>\n",
       "    </tr>\n",
       "  </tbody>\n",
       "</table>\n",
       "</div>"
      ],
      "text/plain": [
       "                                                Path  \\\n",
       "0   cantaloupe.srv.cs.cmu.edu!magnesium.club.cc.c...   \n",
       "1   cantaloupe.srv.cs.cmu.edu!magnesium.club.cc.c...   \n",
       "2   cantaloupe.srv.cs.cmu.edu!magnesium.club.cc.c...   \n",
       "3   cantaloupe.srv.cs.cmu.edu!crabapple.srv.cs.cm...   \n",
       "4   cantaloupe.srv.cs.cmu.edu!crabapple.srv.cs.cm...   \n",
       "\n",
       "                                           From  \\\n",
       "0     livesey@solntze.wpd.sgi.com (Jon Livesey)   \n",
       "1                  halat@pooh.bears (Jim Halat)   \n",
       "2   sham@cs.arizona.edu (Shamim Zvonko Mohamed)   \n",
       "3         dewey@risc.sps.mot.com (Dewey Henize)   \n",
       "4                  mathew <mathew@mantis.co.uk>   \n",
       "\n",
       "                                             Subject  \\\n",
       "0             Re: Yet more Rushdie [Re: ISLAMIC LAW]   \n",
       "1   Re: After 2000 years, can we say that Christi...   \n",
       "2                Re: Death Penalty / Gulf War (long)   \n",
       "3   Re: sci.skeptic.religion (Was: Why ALT.atheism?)   \n",
       "4   Re: After 2000 years, can we say that Christi...   \n",
       "\n",
       "                               Date                         Organization  \\\n",
       "0          23 Apr 1993 21:02:00 GMT                                  sgi   \n",
       "1            23 Apr 93 18:50:18 GMT                                  NaN   \n",
       "2            21 Apr 93 20:33:53 GMT         U of Arizona CS Dept, Tucson   \n",
       "3        13 Apr 1993 18:43:48 -0500          Motorola, Inc. -- Austin,TX   \n",
       "4   Wed, 21 Apr 1993 10:25:25 +0100   Mantis Consultants, Cambridge. UK.   \n",
       "\n",
       "           Sender                                            Content Lines  \\\n",
       "0             NaN  In article <116533@bu.edu>, jaeger@buphy.bu.ed...    27   \n",
       "1   news@bear.com  In article <markp.735230393@elvis.wri.com>, ma...    25   \n",
       "2             NaN  This is the most unmitigated bilge I've seen i...    62   \n",
       "3             NaN  In article <93103.071613J5J@psuvm.psu.edu> Joh...    33   \n",
       "4             NaN  frank@D012S658.uucp (Frank O'Dwyer) writes:\\n>...    21   \n",
       "\n",
       "      Nntp_posting_host                                       Message_id  \\\n",
       "0   solntze.wpd.sgi.com                    <1r9lg8$92u@fido.asd.sgi.com>   \n",
       "1                   NaN                            <30185@ursa.bear.com>   \n",
       "2                   NaN                    <37501@optima.cs.arizona.edu>   \n",
       "3      thug.sps.mot.com                  <1qfj7kINNked@thug.sps.mot.com>   \n",
       "4                   NaN   <930421.102525.9Y9.rusnews.w165w@mantis.co.uk>   \n",
       "\n",
       "                        Reply_to  \\\n",
       "0                            NaN   \n",
       "1   halat@pooh.bears (Jim Halat)   \n",
       "2                            NaN   \n",
       "3                            NaN   \n",
       "4                            NaN   \n",
       "\n",
       "                                          References  \\\n",
       "0   <1qla0g$afp@fido.asd.sgi.com> <115793@bu.edu>...   \n",
       "1   <30114@ursa.bear.com# <1qie61$fkt@horus.ap.mc...   \n",
       "2    <930420.105805.0x8.rusnews.w165w@mantis.co.uk>    \n",
       "3   <1993Apr13.040149.25394@cs.ucla.edu> <1993Apr...   \n",
       "4   <1qtsmc$39j@horus.ap.mchp.sni.de> <930420.100...   \n",
       "\n",
       "                    Email_from   Email_sender  Edu_org  Reply_msg Month Year  \n",
       "0  livesey@solntze.wpd.sgi.com            NaN        0          1   Apr   93  \n",
       "1             halat@pooh.bears  news@bear.com        0          1   Apr   93  \n",
       "2          sham@cs.arizona.edu            NaN        1          1   Apr   93  \n",
       "3       dewey@risc.sps.mot.com            NaN        0          1   Apr   93  \n",
       "4          mathew@mantis.co.uk            NaN        0          1   Apr   93  "
      ]
     },
     "execution_count": 15,
     "metadata": {},
     "output_type": "execute_result"
    }
   ],
   "source": [
    "train_x = process_date(train_x)\n",
    "train_x.head()"
   ]
  },
  {
   "cell_type": "markdown",
   "metadata": {},
   "source": [
    "Checking the columns of original dataframe"
   ]
  },
  {
   "cell_type": "code",
   "execution_count": 16,
   "metadata": {},
   "outputs": [
    {
     "data": {
      "text/plain": [
       "['Path',\n",
       " 'From',\n",
       " 'Subject',\n",
       " 'Date',\n",
       " 'Organization',\n",
       " 'Sender',\n",
       " 'Content',\n",
       " 'Lines',\n",
       " 'Nntp_posting_host',\n",
       " 'Message_id',\n",
       " 'Reply_to',\n",
       " 'References',\n",
       " 'Email_from',\n",
       " 'Email_sender',\n",
       " 'Edu_org',\n",
       " 'Reply_msg',\n",
       " 'Month',\n",
       " 'Year']"
      ]
     },
     "execution_count": 16,
     "metadata": {},
     "output_type": "execute_result"
    }
   ],
   "source": [
    "list(train_x)"
   ]
  },
  {
   "cell_type": "markdown",
   "metadata": {},
   "source": [
    "The following shows that some columns have missing values, such as Organisation, Sender, Lines, Email_from, and Email_sender (might need to remove email_from and email_sender and subject)"
   ]
  },
  {
   "cell_type": "code",
   "execution_count": 17,
   "metadata": {},
   "outputs": [
    {
     "data": {
      "text/plain": [
       "Path                 13997\n",
       "From                 13997\n",
       "Subject              13997\n",
       "Date                 13997\n",
       "Organization         13415\n",
       "Sender                7618\n",
       "Content              13997\n",
       "Lines                13953\n",
       "Nntp_posting_host     5974\n",
       "Message_id           13997\n",
       "Reply_to              2102\n",
       "References            8750\n",
       "Email_from           13750\n",
       "Email_sender          7431\n",
       "Edu_org              13997\n",
       "Reply_msg            13997\n",
       "Month                13997\n",
       "Year                 13997\n",
       "dtype: int64"
      ]
     },
     "execution_count": 17,
     "metadata": {},
     "output_type": "execute_result"
    }
   ],
   "source": [
    "train_x.count()"
   ]
  },
  {
   "cell_type": "markdown",
   "metadata": {},
   "source": [
    "Sanity check, when using full dataset, if all years are in 93, remove the column"
   ]
  },
  {
   "cell_type": "code",
   "execution_count": 18,
   "metadata": {},
   "outputs": [
    {
     "data": {
      "text/plain": [
       "Year\n",
       "92        2\n",
       "93    13995\n",
       "Name: Content, dtype: int64"
      ]
     },
     "execution_count": 18,
     "metadata": {},
     "output_type": "execute_result"
    }
   ],
   "source": [
    "train_x.groupby('Year').count()['Content']"
   ]
  },
  {
   "cell_type": "markdown",
   "metadata": {},
   "source": [
    "After checking, all years (except two cases) are in 1993 so year column is removed."
   ]
  },
  {
   "cell_type": "code",
   "execution_count": 19,
   "metadata": {},
   "outputs": [
    {
     "name": "stdout",
     "output_type": "stream",
     "text": [
      "['Path', 'From', 'Subject', 'Date', 'Organization', 'Sender', 'Content', 'Lines', 'Nntp_posting_host', 'Message_id', 'Reply_to', 'References', 'Email_from', 'Email_sender', 'Edu_org', 'Reply_msg', 'Month']\n"
     ]
    }
   ],
   "source": [
    "del train_x['Year']\n",
    "print list(train_x)"
   ]
  },
  {
   "cell_type": "markdown",
   "metadata": {},
   "source": [
    "Checking the Month Column, we see that there is one entry which is empty. Further checks shows that it is because the month is spelt as April instead of the usual Apr, therefore the discrepancy."
   ]
  },
  {
   "cell_type": "code",
   "execution_count": 20,
   "metadata": {},
   "outputs": [
    {
     "data": {
      "text/plain": [
       "Month\n",
       "           1\n",
       "APR       20\n",
       "Apr    12836\n",
       "Feb        2\n",
       "Jun        2\n",
       "MAY        3\n",
       "Mar       17\n",
       "May     1116\n",
       "Name: Content, dtype: int64"
      ]
     },
     "execution_count": 20,
     "metadata": {},
     "output_type": "execute_result"
    }
   ],
   "source": [
    "train_x.groupby('Month').count()['Content']"
   ]
  },
  {
   "cell_type": "code",
   "execution_count": 21,
   "metadata": {},
   "outputs": [
    {
     "name": "stdout",
     "output_type": "stream",
     "text": [
      " Wednesday, 14 April 1993 12:14:23 MST\n"
     ]
    },
    {
     "data": {
      "text/plain": [
       "Month\n",
       "APR       20\n",
       "Apr    12837\n",
       "Feb        2\n",
       "Jun        2\n",
       "MAY        3\n",
       "Mar       17\n",
       "May     1116\n",
       "Name: Content, dtype: int64"
      ]
     },
     "execution_count": 21,
     "metadata": {},
     "output_type": "execute_result"
    }
   ],
   "source": [
    "emp = ''\n",
    "for i in range(len(train_x.Month)):\n",
    "    if train_x.Month[i] == '':\n",
    "        emp = i\n",
    "print train_x.Date[emp]\n",
    "train_x.at[emp, 'Month'] = 'Apr'\n",
    "train_x.groupby('Month').count()['Content']"
   ]
  },
  {
   "cell_type": "markdown",
   "metadata": {},
   "source": [
    "## Educational Organisation"
   ]
  },
  {
   "cell_type": "code",
   "execution_count": 22,
   "metadata": {},
   "outputs": [
    {
     "name": "stdout",
     "output_type": "stream",
     "text": [
      "Edu_org\n",
      "0    8966\n",
      "1    5031\n",
      "Name: Content, dtype: int64\n"
     ]
    },
    {
     "data": {
      "image/png": "[encoded data removed]",
      "text/plain": [
       "<matplotlib.figure.Figure at 0x1142ad68>"
      ]
     },
     "metadata": {},
     "output_type": "display_data"
    }
   ],
   "source": [
    "print train_x.groupby('Edu_org').count()['Content']\n",
    "ax = seaborn.countplot(x='Edu_org', data=train_x)\n",
    "ax.set(title = 'Count of Educational Organisations', xlabel = 'Educational Organisation', xticklabels = [\"Yes\", 'No'])\n",
    "plt.show()"
   ]
  },
  {
   "cell_type": "code",
   "execution_count": 23,
   "metadata": {},
   "outputs": [
    {
     "name": "stdout",
     "output_type": "stream",
     "text": [
      "Reply_msg\n",
      "0    4737\n",
      "1    9260\n",
      "Name: Content, dtype: int64\n"
     ]
    },
    {
     "data": {
      "image/png": "[encoded data removed]",
      "text/plain": [
       "<matplotlib.figure.Figure at 0x1930ca58>"
      ]
     },
     "metadata": {},
     "output_type": "display_data"
    }
   ],
   "source": [
    "print train_x.groupby('Reply_msg').count()['Content']\n",
    "ax = seaborn.countplot(x='Reply_msg', data=train_x)\n",
    "ax.set(title = 'Count of Documents that are replies', xlabel = 'Reply Documents', xticklabels = [\"Yes\", 'No'])\n",
    "plt.show()"
   ]
  },
  {
   "cell_type": "code",
   "execution_count": 115,
   "metadata": {},
   "outputs": [
    {
     "data": {
      "image/png": "[encoded data removed]",
      "text/plain": [
       "<matplotlib.figure.Figure at 0x6a025198>"
      ]
     },
     "metadata": {},
     "output_type": "display_data"
    }
   ],
   "source": [
    "\n",
    "plt.figure(figsize=(15,8))\n",
    "ax = seaborn.countplot(x='Reply_msg', hue = y_train, data=train_x)"
   ]
  },
  {
   "cell_type": "markdown",
   "metadata": {},
   "source": [
    "## Cleaning, preprocessing, modelling on Content"
   ]
  },
  {
   "cell_type": "code",
   "execution_count": 24,
   "metadata": {
    "collapsed": true
   },
   "outputs": [],
   "source": [
    "nlp = spacy.load('en')"
   ]
  },
  {
   "cell_type": "code",
   "execution_count": 25,
   "metadata": {
    "collapsed": true
   },
   "outputs": [],
   "source": [
    "def clean_text(document):\n",
    "    # Removes emails\n",
    "    document = re.sub(r'[\\w\\.-]+@[\\w\\.-]+', ' ', document)\n",
    "    \n",
    "    # Removes URLs\n",
    "    document = re.sub(r'^https?:\\/\\/.*[\\r\\n]*', ' ', document)\n",
    "    \n",
    "    # Removes punctuations\n",
    "    document = document.translate(None, string.punctuation)\n",
    "    \n",
    "    # Change to lowercase\n",
    "    document = document.lower()\n",
    "    \n",
    "    # Removes newline characters\n",
    "    document = ' '.join(document.split('\\n'))\n",
    "    \n",
    "    # Removes ASCII\n",
    "    document = re.sub(r'[^\\x00-\\x7F]+',' ', document)\n",
    "    \n",
    "    # Removes numbers\n",
    "    document = document.translate(None, digits)\n",
    "    \n",
    "    # Replace multiple spaces with one space\n",
    "    document = ' '.join(document.split())\n",
    "    #document = nlp(unicode(document))\n",
    "    \n",
    "    return document"
   ]
  },
  {
   "cell_type": "code",
   "execution_count": 26,
   "metadata": {
    "collapsed": true
   },
   "outputs": [],
   "source": [
    "parser = English()"
   ]
  },
  {
   "cell_type": "code",
   "execution_count": 27,
   "metadata": {
    "collapsed": true
   },
   "outputs": [],
   "source": [
    "def spacy_tokenizer(document):\n",
    "    document = parser(unicode(document))\n",
    "    # Removes stopwords\n",
    "    document = [tok for tok in document if (str(tok) not in stopwords)]\n",
    "    return document"
   ]
  },
  {
   "cell_type": "code",
   "execution_count": 28,
   "metadata": {},
   "outputs": [],
   "source": [
    "train_x_content = train_x.Content.map(lambda x : clean_text(x))\n",
    "#train_x_content = train_x_content.map(lambda x : spacy_tokenizer(x))"
   ]
  },
  {
   "cell_type": "code",
   "execution_count": 29,
   "metadata": {
    "collapsed": true
   },
   "outputs": [],
   "source": [
    "test_x_content = test_x.Content.map(lambda x : clean_text(x))\n",
    "#test_x_content = test_x_content.map(lambda x : spacy_tokenizer(x))"
   ]
  },
  {
   "cell_type": "markdown",
   "metadata": {},
   "source": [
    "## Vectorizing\n",
    "Transforming into DTM"
   ]
  },
  {
   "cell_type": "code",
   "execution_count": 77,
   "metadata": {},
   "outputs": [],
   "source": [
    "count_vect = CountVectorizer()\n",
    "linear_svc = LinearSVC(random_state = 1)\n",
    "nb = MultinomialNB()\n",
    "pipe_linearsvc = Pipeline([('count_vect', count_vect), ('linear_svc', linear_svc)])\n",
    "pipe_nb = Pipeline([('count_vect', count_vect), ('nb', nb)])"
   ]
  },
  {
   "cell_type": "markdown",
   "metadata": {},
   "source": [
    "## Stemming"
   ]
  },
  {
   "cell_type": "code",
   "execution_count": 31,
   "metadata": {
    "collapsed": true
   },
   "outputs": [],
   "source": [
    "porter_stemmer = PorterStemmer()\n",
    "train_x_stem = train_x_content.map(lambda x : ' '.join([porter_stemmer.stem(str(i)) for i in x.split()]))\n",
    "test_x_stem = test_x_content.map(lambda x : ' '.join([porter_stemmer.stem(str(i)) for i in x.split()]))"
   ]
  },
  {
   "cell_type": "markdown",
   "metadata": {},
   "source": [
    "Linear SVC"
   ]
  },
  {
   "cell_type": "code",
   "execution_count": 78,
   "metadata": {
    "scrolled": false
   },
   "outputs": [
    {
     "name": "stdout",
     "output_type": "stream",
     "text": [
      "Accuracy: 0.762666666667\n"
     ]
    }
   ],
   "source": [
    "pipe_linearsvc.fit(train_x_stem, y_train)\n",
    "pred = pipe_linearsvc.predict(test_x_stem)\n",
    "print \"Accuracy:\", accuracy_score(y_test, pred)"
   ]
  },
  {
   "cell_type": "markdown",
   "metadata": {},
   "source": [
    "Multinomial Naive Bayes"
   ]
  },
  {
   "cell_type": "code",
   "execution_count": 79,
   "metadata": {},
   "outputs": [
    {
     "name": "stdout",
     "output_type": "stream",
     "text": [
      "Accuracy: 0.764\n"
     ]
    }
   ],
   "source": [
    "pipe_nb.fit(np.array(train_x_stem), y_train)\n",
    "pred = pipe_nb.predict(test_x_stem)\n",
    "print \"Accuracy:\", accuracy_score(y_test, pred)"
   ]
  },
  {
   "cell_type": "markdown",
   "metadata": {},
   "source": [
    "## Lemmatizing"
   ]
  },
  {
   "cell_type": "markdown",
   "metadata": {},
   "source": [
    "Linear SVC"
   ]
  },
  {
   "cell_type": "code",
   "execution_count": 45,
   "metadata": {
    "collapsed": true
   },
   "outputs": [],
   "source": [
    "wordnet_lemmatizer = WordNetLemmatizer()\n",
    "train_x_lem = train_x_content.map(lambda x : ' '.join([wordnet_lemmatizer.lemmatize(str(i)) for i in x.split()]))\n",
    "test_x_lem = test_x_content.map(lambda x : ' '.join([wordnet_lemmatizer.lemmatize(str(i)) for i in x.split()]))"
   ]
  },
  {
   "cell_type": "code",
   "execution_count": 80,
   "metadata": {},
   "outputs": [
    {
     "name": "stdout",
     "output_type": "stream",
     "text": [
      "Accuracy: 0.767833333333\n"
     ]
    }
   ],
   "source": [
    "pipe_linearsvc.fit(train_x_lem, y_train)\n",
    "pred = pipe_linearsvc.predict(test_x_lem)\n",
    "print \"Accuracy:\", accuracy_score(y_test, pred)"
   ]
  },
  {
   "cell_type": "markdown",
   "metadata": {},
   "source": [
    "Multinomial Naive Bayes"
   ]
  },
  {
   "cell_type": "code",
   "execution_count": 81,
   "metadata": {},
   "outputs": [
    {
     "name": "stdout",
     "output_type": "stream",
     "text": [
      "Accuracy: 0.768166666667\n"
     ]
    }
   ],
   "source": [
    "pipe_nb.fit(np.array(train_x_lem), y_train)\n",
    "pred = pipe_nb.predict(test_x_lem)\n",
    "print \"Accuracy:\", accuracy_score(y_test, pred)"
   ]
  },
  {
   "cell_type": "markdown",
   "metadata": {},
   "source": [
    "A look at the count of the feature names when the content portion has been through lemmatizing and stemming shows that the number of words are:\n",
    "\n",
    "| Stemming | Lemmatizing |\n",
    "|----------|-------------|\n",
    "|  93242   |  108063     |  \n",
    "These are much higher than the number of documents which is not optimal for some models, therefore some way of reducing the terms is needed."
   ]
  },
  {
   "cell_type": "code",
   "execution_count": 82,
   "metadata": {},
   "outputs": [
    {
     "name": "stdout",
     "output_type": "stream",
     "text": [
      "93242\n",
      "108063\n"
     ]
    }
   ],
   "source": [
    "count_vect.fit(train_x_stem)\n",
    "print len(count_vect.get_feature_names())\n",
    "count_vect.fit(train_x_lem)\n",
    "print len(count_vect.get_feature_names())"
   ]
  },
  {
   "cell_type": "markdown",
   "metadata": {},
   "source": [
    "Ignoring terms with document frequency lower than 10"
   ]
  },
  {
   "cell_type": "code",
   "execution_count": 83,
   "metadata": {},
   "outputs": [
    {
     "name": "stdout",
     "output_type": "stream",
     "text": [
      "10156\n",
      "12555\n"
     ]
    }
   ],
   "source": [
    "count_vect = CountVectorizer(min_df = 10)\n",
    "count_vect.fit(train_x_stem)\n",
    "print len(count_vect.get_feature_names())\n",
    "count_vect.fit(train_x_lem)\n",
    "print len(count_vect.get_feature_names())"
   ]
  },
  {
   "cell_type": "code",
   "execution_count": 87,
   "metadata": {},
   "outputs": [
    {
     "name": "stdout",
     "output_type": "stream",
     "text": [
      "Accuracy: 0.738666666667\n"
     ]
    }
   ],
   "source": [
    "pipe_linearsvc = Pipeline([('count_vect', count_vect), ('linear_svc', linear_svc)])\n",
    "pipe_linearsvc.fit(train_x_stem, y_train)\n",
    "pred = pipe_linearsvc.predict(test_x_stem)\n",
    "print \"Accuracy:\", accuracy_score(y_test, pred)"
   ]
  },
  {
   "cell_type": "code",
   "execution_count": 88,
   "metadata": {},
   "outputs": [
    {
     "name": "stdout",
     "output_type": "stream",
     "text": [
      "Accuracy: 0.746666666667\n"
     ]
    }
   ],
   "source": [
    "pipe_linearsvc.fit(train_x_lem, y_train)\n",
    "pred = pipe_linearsvc.predict(test_x_lem)\n",
    "print \"Accuracy:\", accuracy_score(y_test, pred)"
   ]
  },
  {
   "cell_type": "code",
   "execution_count": 90,
   "metadata": {},
   "outputs": [
    {
     "name": "stdout",
     "output_type": "stream",
     "text": [
      "Accuracy: 0.793333333333\n"
     ]
    }
   ],
   "source": [
    "pipe_nb = Pipeline([('count_vect', count_vect), ('nb', nb)])\n",
    "pipe_nb.fit(train_x_stem, y_train)\n",
    "pred = pipe_nb.predict(test_x_stem)\n",
    "print \"Accuracy:\", accuracy_score(y_test, pred)"
   ]
  },
  {
   "cell_type": "code",
   "execution_count": 91,
   "metadata": {},
   "outputs": [
    {
     "name": "stdout",
     "output_type": "stream",
     "text": [
      "Accuracy: 0.796166666667\n"
     ]
    }
   ],
   "source": [
    "pipe_nb = Pipeline([('count_vect', count_vect), ('nb', nb)])\n",
    "pipe_nb.fit(train_x_lem, y_train)\n",
    "pred = pipe_nb.predict(test_x_lem)\n",
    "print \"Accuracy:\", accuracy_score(y_test, pred)"
   ]
  },
  {
   "cell_type": "markdown",
   "metadata": {},
   "source": [
    "## TF-IDF"
   ]
  },
  {
   "cell_type": "code",
   "execution_count": 105,
   "metadata": {},
   "outputs": [
    {
     "name": "stdout",
     "output_type": "stream",
     "text": [
      "10156\n",
      "12555\n"
     ]
    }
   ],
   "source": [
    "tfidf_vect = TfidfVectorizer(min_df = 10)\n",
    "tfidf_vect.fit(train_x_stem)\n",
    "print len(tfidf_vect.get_feature_names())\n",
    "tfidf_vect.fit(train_x_lem)\n",
    "print len(tfidf_vect.get_feature_names())"
   ]
  },
  {
   "cell_type": "code",
   "execution_count": 106,
   "metadata": {},
   "outputs": [
    {
     "name": "stdout",
     "output_type": "stream",
     "text": [
      "Accuracy: 0.831666666667\n",
      "Train Accuracy: 0.975994856041\n"
     ]
    }
   ],
   "source": [
    "pipe_linearsvc = Pipeline([('count_vect', tfidf_vect), ('linear_svc', linear_svc)])\n",
    "pipe_linearsvc.fit(train_x_stem, y_train)\n",
    "pred = pipe_linearsvc.predict(test_x_stem)\n",
    "pred_train = pipe_linearsvc.predict(train_x_stem)\n",
    "print \"Accuracy:\", accuracy_score(y_test, pred)\n",
    "print \"Train Accuracy:\", accuracy_score(y_train, pred_train)"
   ]
  },
  {
   "cell_type": "code",
   "execution_count": 99,
   "metadata": {},
   "outputs": [
    {
     "name": "stdout",
     "output_type": "stream",
     "text": [
      "Accuracy: 0.835333333333\n"
     ]
    }
   ],
   "source": [
    "pipe_linearsvc.fit(train_x_lem, y_train)\n",
    "pred = pipe_linearsvc.predict(test_x_lem)\n",
    "print \"Accuracy:\", accuracy_score(y_test, pred)"
   ]
  },
  {
   "cell_type": "code",
   "execution_count": 100,
   "metadata": {},
   "outputs": [
    {
     "name": "stdout",
     "output_type": "stream",
     "text": [
      "Accuracy: 0.794\n"
     ]
    }
   ],
   "source": [
    "pipe_nb = Pipeline([('count_vect', tfidf_vect), ('nb', nb)])\n",
    "pipe_nb.fit(train_x_stem, y_train)\n",
    "pred = pipe_nb.predict(test_x_stem)\n",
    "print \"Accuracy:\", accuracy_score(y_test, pred)"
   ]
  },
  {
   "cell_type": "code",
   "execution_count": 101,
   "metadata": {},
   "outputs": [
    {
     "name": "stdout",
     "output_type": "stream",
     "text": [
      "Accuracy: 0.7975\n"
     ]
    }
   ],
   "source": [
    "pipe_nb.fit(train_x_lem, y_train)\n",
    "pred = pipe_nb.predict(test_x_lem)\n",
    "print \"Accuracy:\", accuracy_score(y_test, pred)"
   ]
  },
  {
   "cell_type": "code",
   "execution_count": null,
   "metadata": {
    "collapsed": true
   },
   "outputs": [],
   "source": []
  }
 ],
 "metadata": {
  "kernelspec": {
   "display_name": "Python 2",
   "language": "python",
   "name": "python2"
  },
  "language_info": {
   "codemirror_mode": {
    "name": "ipython",
    "version": 2
   },
   "file_extension": ".py",
   "mimetype": "text/x-python",
   "name": "python",
   "nbconvert_exporter": "python",
   "pygments_lexer": "ipython2",
   "version": "2.7.13"
  }
 },
 "nbformat": 4,
 "nbformat_minor": 2
}
