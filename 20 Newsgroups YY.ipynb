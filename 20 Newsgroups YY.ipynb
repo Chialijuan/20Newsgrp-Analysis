{
 "cells": [
  {
   "cell_type": "markdown",
   "metadata": {},
   "source": [
    "## 20 Newsgroups"
   ]
  },
  {
   "cell_type": "code",
   "execution_count": 1,
   "metadata": {
    "collapsed": true
   },
   "outputs": [],
   "source": [
    "import matplotlib\n",
    "import seaborn\n",
    "import numpy as np\n",
    "from sklearn import datasets\n",
    "import tarfile\n",
    "import re\n",
    "import os\n",
    "import pandas as pd"
   ]
  },
  {
   "cell_type": "markdown",
   "metadata": {},
   "source": [
    "Getting category names, i.e. folder names of 20 newsgroups folder"
   ]
  },
  {
   "cell_type": "code",
   "execution_count": 2,
   "metadata": {},
   "outputs": [
    {
     "name": "stdout",
     "output_type": "stream",
     "text": [
      "['alt.atheism' 'comp.graphics' 'comp.os.ms-windows.misc'\n",
      " 'comp.sys.ibm.pc.hardware' 'comp.sys.mac.hardware' 'comp.windows.x'\n",
      " 'misc.forsale' 'rec.autos' 'rec.motorcycles' 'rec.sport.baseball'\n",
      " 'rec.sport.hockey' 'sci.crypt' 'sci.electronics' 'sci.med' 'sci.space'\n",
      " 'soc.religion.christian' 'talk.politics.guns' 'talk.politics.mideast'\n",
      " 'talk.politics.misc' 'talk.religion.misc']\n"
     ]
    }
   ],
   "source": [
    "path = \"20_newsgroups\"\n",
    "for root, dirs, files in os.walk(path, topdown=False):\n",
    "    newsgroups = np.array(dirs)\n",
    "print newsgroups"
   ]
  },
  {
   "cell_type": "markdown",
   "metadata": {},
   "source": [
    "Reading files from first folder. Just use a for loop to read in from more folders."
   ]
  },
  {
   "cell_type": "code",
   "execution_count": 3,
   "metadata": {},
   "outputs": [],
   "source": [
    "path = \"20_newsgroups\" + \"/\" + newsgroups[0]\n",
    "x = []\n",
    "for root, dirs, files in os.walk(path):\n",
    "    for name in files:\n",
    "        f = open(path + \"/\" + name)\n",
    "        x.append(f.read())\n",
    "#print x[1]"
   ]
  },
  {
   "cell_type": "markdown",
   "metadata": {},
   "source": [
    "Obtain metadatas From, Subject, Date, Organization, Sender from the headers of each file. Obtain Content from the body of each file and place in the original dataframe."
   ]
  },
  {
   "cell_type": "code",
   "execution_count": 4,
   "metadata": {},
   "outputs": [],
   "source": [
    "# Creating the dataframe and assigning columns\n",
    "original = pd.DataFrame()\n",
    "original = original.assign(From = [])\n",
    "original = original.assign(Subject = [])\n",
    "original = original.assign(Date = [])\n",
    "original = original.assign(Organization = [])\n",
    "original = original.assign(Sender = [])\n",
    "original = original.assign(Content = [])\n",
    "original['From'] = original['From'].astype(str)\n",
    "original['Subject'] = original['Subject'].astype(str)\n",
    "original['Date'] = original['Date'].astype(str)\n",
    "original['Organization'] = original['Organization'].astype(str)\n",
    "original['Sender'] = original['Sender'].astype(str)\n",
    "original['Content'] = original['Content'].astype(str)\n",
    "#print original.dtypes\n",
    "\n",
    "# Placing the metadatas and content in the respective cells of the dataframe\n",
    "for i in range(len(x)):\n",
    "    data = x[i].split(\"\\n\\n\", 1)\n",
    "    email_content = ''\n",
    "    meta = sorted(data[0].split(\"\\n\"))\n",
    "    for k in meta:\n",
    "        y = np.array(k.split(\":\", 1))\n",
    "        if list(original).__contains__(y[0]):\n",
    "            original.at[i, y[0]] = y[1]\n",
    "    original.at[i, 'Content'] = data[1]"
   ]
  },
  {
   "cell_type": "markdown",
   "metadata": {},
   "source": [
    "## Emails\n",
    "Extract email address from From and Sender column. From and Sender names were not considered as not much info can be gotten. \n",
    "Flag whether the document is from an educational institution by checking the domain for .edu\n",
    "Extra: extract domain, country etc"
   ]
  },
  {
   "cell_type": "code",
   "execution_count": 5,
   "metadata": {
    "scrolled": true
   },
   "outputs": [
    {
     "name": "stdout",
     "output_type": "stream",
     "text": [
      "0            mathew@mantis.co.uk\n",
      "1            mathew@mantis.co.uk\n",
      "2    I3150101@dbstu1.rz.tu-bs.de\n",
      "3            mathew@mantis.co.uk\n",
      "4           strom@Watson.Ibm.Com\n",
      "Name: Email_from, dtype: object\n",
      "0                         NaN\n",
      "1                         NaN\n",
      "2    postnntp@ibr.cs.tu-bs.de\n",
      "3                         NaN\n",
      "4                         NaN\n",
      "Name: Email_sender, dtype: object\n"
     ]
    }
   ],
   "source": [
    "# Extracting the email addresses from From column\n",
    "original['Email_from'] = original.From.map(lambda x : re.search(r'[\\w\\.-]+@[\\w\\.-]+', x).group(0) if re.search(r'[\\w\\.-]+@[\\w\\.-]+', x) is not None else np.NaN)\n",
    "print original['Email_from'].head()\n",
    "\n",
    "# Extracting the email addresses from Sender column\n",
    "original['Email_sender'] = original.Sender.map(lambda x : np.NaN if pd.isnull(x) else re.search(r'[\\w\\.-]+@[\\w\\.-]+', x).group(0) if re.search(r'[\\w\\.-]+@[\\w\\.-]+', x) is not None else np.NaN)\n",
    "print original['Email_sender'].head()\n",
    "\n",
    "# flag as educational organisation if the email address has .edu domain\n",
    "original.Edu_org = original.Email_from.map(lambda x : 1 if isinstance(x, basestring) and x[len(x) - 3:].find('edu') is not -1 else 0)"
   ]
  },
  {
   "cell_type": "markdown",
   "metadata": {},
   "source": [
    "## Subject\n",
    "For Subject, remove Re: (maybe indicate that its a reply message), throw to content"
   ]
  },
  {
   "cell_type": "code",
   "execution_count": 13,
   "metadata": {},
   "outputs": [],
   "source": [
    "# Process the subject to remove Re:\n",
    "original['Subject_processed'] = original.Subject.map(lambda x : x[x.find(\"FAQ:\") + 5:] if x.find(\"FAQ:\") is not -1 \n",
    "                                                     else x[x.find(\"Re:\") + 4:] if x.find(\"Re:\") is not -1 and x.find(\"Re\", 5) is -1\n",
    "                                                     else x[x.find(\"Re:\") + 4:x.find(\"Re\", 5)] if x.find(\"Re:\") is not -1\n",
    "                                                     else x)\n",
    "\n",
    "# Reply_msg = 1 if the document is a reply message, otherwise 0\n",
    "original['Reply_msg'] = original.Subject.map(lambda x : 1 if x.find(\"Re:\") == 1 else 0)\n",
    "\n",
    "# Adds the processed subject to Content column\n",
    "original.Content = original.Content + \" \" + original.Subject_processed\n",
    "\n",
    "# Removes Subject_processed column as they are appended to content column\n",
    "del original['Subject_processed']"
   ]
  },
  {
   "cell_type": "markdown",
   "metadata": {},
   "source": [
    "## Date\n",
    "For Date, extract month and year (year seems to be all in 1993)"
   ]
  },
  {
   "cell_type": "code",
   "execution_count": 8,
   "metadata": {},
   "outputs": [],
   "source": [
    "# Extracting the Month from the Date column\n",
    "month_dict = ['Jan', 'Feb', 'Mar', 'Apr', 'May', 'Jun', 'Jul', 'Aug', 'Sep', 'Oct', 'Nov', 'Dec']\n",
    "original.Month = original.Date.map(lambda y : ''.join(filter(lambda x: x in month_dict, y.split())))\n",
    "\n",
    "# Extracting the Year from the Date column\n",
    "original.Year = original.Date.map(lambda x : x.split()[3] if len(x.split()) is 6 else x.split()[2])\n",
    "original.Year = original.Year.map(lambda x : x[2:] if len(x) is 4 else x)"
   ]
  },
  {
   "cell_type": "markdown",
   "metadata": {},
   "source": [
    "Checking the columns of original dataframe"
   ]
  },
  {
   "cell_type": "code",
   "execution_count": 14,
   "metadata": {},
   "outputs": [
    {
     "data": {
      "text/plain": [
       "['From',\n",
       " 'Subject',\n",
       " 'Date',\n",
       " 'Organization',\n",
       " 'Sender',\n",
       " 'Content',\n",
       " 'Email_from',\n",
       " 'Email_sender',\n",
       " 'Reply_msg']"
      ]
     },
     "execution_count": 14,
     "metadata": {},
     "output_type": "execute_result"
    }
   ],
   "source": [
    "list(original)"
   ]
  },
  {
   "cell_type": "markdown",
   "metadata": {},
   "source": [
    "The following shows that some columns have missing values, such as Organisation, Sender, Email_from, and Email_sender"
   ]
  },
  {
   "cell_type": "code",
   "execution_count": 16,
   "metadata": {},
   "outputs": [
    {
     "data": {
      "text/plain": [
       "From            1000\n",
       "Subject         1000\n",
       "Date            1000\n",
       "Organization     946\n",
       "Sender           457\n",
       "Content         1000\n",
       "Email_from       978\n",
       "Email_sender     454\n",
       "Reply_msg       1000\n",
       "dtype: int64"
      ]
     },
     "execution_count": 16,
     "metadata": {},
     "output_type": "execute_result"
    }
   ],
   "source": [
    "original.count()"
   ]
  },
  {
   "cell_type": "code",
   "execution_count": null,
   "metadata": {
    "collapsed": true
   },
   "outputs": [],
   "source": []
  }
 ],
 "metadata": {
  "kernelspec": {
   "display_name": "Python 2",
   "language": "python",
   "name": "python2"
  },
  "language_info": {
   "codemirror_mode": {
    "name": "ipython",
    "version": 2
   },
   "file_extension": ".py",
   "mimetype": "text/x-python",
   "name": "python",
   "nbconvert_exporter": "python",
   "pygments_lexer": "ipython2",
   "version": "2.7.13"
  }
 },
 "nbformat": 4,
 "nbformat_minor": 2
}
