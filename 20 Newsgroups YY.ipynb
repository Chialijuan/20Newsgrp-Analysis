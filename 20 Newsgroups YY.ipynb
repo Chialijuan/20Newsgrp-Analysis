{
 "cells": [
  {
   "cell_type": "code",
   "execution_count": 22,
   "metadata": {
    "collapsed": true
   },
   "outputs": [],
   "source": [
    "import matplotlib\n",
    "import seaborn\n",
    "import numpy as np\n",
    "from sklearn import datasets\n",
    "import tarfile\n",
    "import re\n",
    "import os\n",
    "import pandas as pd"
   ]
  },
  {
   "cell_type": "markdown",
   "metadata": {},
   "source": [
    "Getting category names, i.e. folder names of 20 newsgroups folder"
   ]
  },
  {
   "cell_type": "code",
   "execution_count": 4,
   "metadata": {},
   "outputs": [
    {
     "name": "stdout",
     "output_type": "stream",
     "text": [
      "['alt.atheism' 'comp.graphics' 'comp.os.ms-windows.misc'\n",
      " 'comp.sys.ibm.pc.hardware' 'comp.sys.mac.hardware' 'comp.windows.x'\n",
      " 'misc.forsale' 'rec.autos' 'rec.motorcycles' 'rec.sport.baseball'\n",
      " 'rec.sport.hockey' 'sci.crypt' 'sci.electronics' 'sci.med' 'sci.space'\n",
      " 'soc.religion.christian' 'talk.politics.guns' 'talk.politics.mideast'\n",
      " 'talk.politics.misc' 'talk.religion.misc']\n"
     ]
    }
   ],
   "source": [
    "path = \"20_newsgroups\"\n",
    "for root, dirs, files in os.walk(path, topdown=False):\n",
    "    newsgroups = np.array(dirs)\n",
    "print newsgroups"
   ]
  },
  {
   "cell_type": "markdown",
   "metadata": {},
   "source": [
    "Reading files from first folder. Just use a for loop to read in from more folders."
   ]
  },
  {
   "cell_type": "code",
   "execution_count": 173,
   "metadata": {},
   "outputs": [],
   "source": [
    "path = \"20_newsgroups\" + \"/\" + newsgroups[0]\n",
    "x = []\n",
    "for root, dirs, files in os.walk(path):\n",
    "    for name in files:\n",
    "        f = open(path + \"/\" + name)\n",
    "        x.append(f.read())\n",
    "#print x[1]"
   ]
  },
  {
   "cell_type": "markdown",
   "metadata": {},
   "source": [
    "Obtained metadatas From, Subject, Date, Organization, Sender from the headers of each file. Obtained Content from the body of each file and placed in the original dataframe."
   ]
  },
  {
   "cell_type": "code",
   "execution_count": 170,
   "metadata": {},
   "outputs": [
    {
     "name": "stdout",
     "output_type": "stream",
     "text": [
      "From            object\n",
      "Subject         object\n",
      "Date            object\n",
      "Organization    object\n",
      "Sender          object\n",
      "Content         object\n",
      "dtype: object\n"
     ]
    }
   ],
   "source": [
    "original = pd.DataFrame()\n",
    "original = original.assign(From = [])\n",
    "original = original.assign(Subject = [])\n",
    "original = original.assign(Date = [])\n",
    "original = original.assign(Organization = [])\n",
    "original = original.assign(Sender = [])\n",
    "original = original.assign(Content = [])\n",
    "original['From'] = original['From'].astype(str)\n",
    "original['Subject'] = original['Subject'].astype(str)\n",
    "original['Date'] = original['Date'].astype(str)\n",
    "original['Organization'] = original['Organization'].astype(str)\n",
    "original['Sender'] = original['Sender'].astype(str)\n",
    "original['Content'] = original['Content'].astype(str)\n",
    "print original.dtypes\n",
    "\n",
    "for i in range(len(x)):\n",
    "    data = x[i].split(\"\\n\\n\")\n",
    "    email_content = ''\n",
    "    for j in range(len(data)):\n",
    "        if j == 0:\n",
    "            meta = sorted(data[0].split(\"\\n\"))\n",
    "            for k in meta:\n",
    "                y = np.array(k.split(\":\", 1))\n",
    "                if list(original).__contains__(y[0]):\n",
    "                    original.at[i, y[0]] = y[1]\n",
    "        else:\n",
    "            email_content = email_content + \" \" + data[j]\n",
    "        original.at[i, 'Content'] = email_content"
   ]
  },
  {
   "cell_type": "code",
   "execution_count": 172,
   "metadata": {},
   "outputs": [
    {
     "name": "stdout",
     "output_type": "stream",
     "text": [
      "                                              From  \\\n",
      "0                     mathew <mathew@mantis.co.uk>   \n",
      "1                     mathew <mathew@mantis.co.uk>   \n",
      "2   I3150101@dbstu1.rz.tu-bs.de (Benedikt Rosenau)   \n",
      "3                     mathew <mathew@mantis.co.uk>   \n",
      "4                 strom@Watson.Ibm.Com (Rob Strom)   \n",
      "\n",
      "                                             Subject  \\\n",
      "0                 Alt.Atheism FAQ: Atheist Resources   \n",
      "1           Alt.Atheism FAQ: Introduction to Atheism   \n",
      "2                                  Re: Gospel Dating   \n",
      "3   Re: university violating separation of church...   \n",
      "4   Re: [soc.motss, et al.] \"Princeton axes match...   \n",
      "\n",
      "                             Date  \\\n",
      "0   Mon, 29 Mar 1993 11:57:19 GMT   \n",
      "1    Mon, 5 Apr 1993 12:22:45 GMT   \n",
      "2    Mon, 5 Apr 1993 19:08:25 GMT   \n",
      "3    Mon, 5 Apr 1993 17:58:42 GMT   \n",
      "4     Mon, 05 Apr 93 18:01:16 GMT   \n",
      "\n",
      "                                  Organization  \\\n",
      "0           Mantis Consultants, Cambridge. UK.   \n",
      "1           Mantis Consultants, Cambridge. UK.   \n",
      "2   Technical University Braunschweig, Germany   \n",
      "3           Mantis Consultants, Cambridge. UK.   \n",
      "4                                 IBM Research   \n",
      "\n",
      "                                             Sender  \\\n",
      "0                                               NaN   \n",
      "1                                               NaN   \n",
      "2   postnntp@ibr.cs.tu-bs.de (Mr. Nntp Inews Entry)   \n",
      "3                                               NaN   \n",
      "4                                   @watson.ibm.com   \n",
      "\n",
      "                                             Content  \n",
      "0   Archive-name: atheism/resources\\nAlt-atheism-...  \n",
      "1   Archive-name: atheism/introduction\\nAlt-athei...  \n",
      "2   In article <65974@mimsy.umd.edu>\\nmangoe@cs.u...  \n",
      "3   dmn@kepler.unh.edu (...until kings become phi...  \n",
      "4   In article <N4HY.93Apr5120934@harder.ccr-p.id...  \n"
     ]
    }
   ],
   "source": [
    "print original.head()"
   ]
  },
  {
   "cell_type": "markdown",
   "metadata": {},
   "source": [
    "## JunJie's Codes"
   ]
  },
  {
   "cell_type": "code",
   "execution_count": 174,
   "metadata": {},
   "outputs": [],
   "source": [
    "with tarfile.open(\"C:/Users/admin/Desktop/training/20news-19997.tar.gz\", 'r:gz') as tf:\n",
    "    # get information (metadata) about all files in the tarball\n",
    "    file_infos = [file_info for file_info in tf if file_info.isfile()]\n",
    "    \n",
    "    Extract_msg=[]    \n",
    "    \n",
    "    for i in xrange(1000):\n",
    "        # print one of them; for example, the first one\n",
    "        message = tf.extractfile(file_infos[i]).read()\n",
    "        Extract_msg.append(message)"
   ]
  },
  {
   "cell_type": "code",
   "execution_count": 12,
   "metadata": {},
   "outputs": [],
   "source": [
    "Compiled=[]\n",
    "\n",
    "for message in Extract_msg:\n",
    "\n",
    "    Content=message.split('\\n\\n')\n",
    "    Email_content=''\n",
    "    Meta_dict={}\n",
    "   \n",
    "    for index in xrange(len(Content)):\n",
    "    \n",
    "        if index == 0:\n",
    "    \n",
    "            Meta = sorted( Content[0].split('\\n'))\n",
    "            Meta_dict= { re.split(\":\\W\" ,j)[0] : \" \".join(re.split(\":\\W\" ,j)[1:]) for j in Meta }\n",
    "\n",
    "        elif len(\"\".join(re.findall('[\\-\\-==]+',Content[index])))>80:\n",
    "    \n",
    "            break\n",
    "        else:\n",
    "            Email_content= Email_content + '\\n'+ Content[index]    \n",
    "        \n",
    "    Meta_dict.update({'Content': Email_content})\n",
    "    Compiled.append(Meta_dict)"
   ]
  },
  {
   "cell_type": "code",
   "execution_count": 13,
   "metadata": {},
   "outputs": [
    {
     "data": {
      "text/plain": [
       "{'Content': \"\\nIn article <1993Apr15.225657.17804@rambo.atlanta.dg.com>, wpr@atlanta.dg.com (Bill Rawlins) writes:\\n|> \\n|>        Since you have referred to the Messiah, I assume you are referring\\n|>         to the New Testament.  Please detail your complaints or e-mail if\\n|>         you don't want to post. \\n|>        First-century Greek is well-known and\\n|>         well-understood.  Have you considered Josephus, the Jewish Historian,\\n|>         who also wrote of Jesus? \\nThis can be now assumed kin of comic books.  There are many authors and artists\\nwho write on, say, Superman.  This does not make the fictional character\\nworthy of blind sycophantic worship.  Indeed, I too could write of Jesus.  Does\\nthat make my writings sacred and me worthy of becoming a saint?  Somehow I doubt\\nit.\\n|>In addition, the four gospel accounts\\n|>         are very much in harmony.  \\n|> \\n\\n About a week ago a number of discrepancies were posted to this\\nnewsgroup which noone, NOT ONE christian dared to take up.  Perhaps the original\\nposter could re-post them for Bill...? \",\n",
       " 'Date': 'Fri, 16 Apr 93 13:37:51 GMT',\n",
       " 'From': 'eczcaw@mips.nott.ac.uk (C.Wainwright)',\n",
       " 'Lines': '37',\n",
       " 'Message-ID': '<1993Apr16.133751.397@cs.nott.ac.uk>',\n",
       " 'Newsgroups': 'alt.atheism,talk.religion.misc,talk.origins',\n",
       " 'Organization': 'Nottingham University',\n",
       " 'Path': 'cantaloupe.srv.cs.cmu.edu!das-news.harvard.edu!noc.near.net!uunet!pipex!uknet!warwick!nott-cs!mips.nott.ac.uk!eczcaw',\n",
       " 'References': '<1993Mar29.231830.2055@rambo.atlanta.dg.com> <1993Apr7.073926.9874@engage.pko.dec.com> <1993Apr10.213547.17644@rambo.atlanta.dg.com> <1993Apr11.162936.18734@zeus.franklin.edu> <1993Apr15.225657.17804@rambo.atlanta.dg.com>',\n",
       " 'Reply-To': 'eczcaw@mips.nott.ac.uk (C.Wainwright)',\n",
       " 'Sender': 'news@cs.nott.ac.uk',\n",
       " 'Subject': 'Re Albert Sabin',\n",
       " 'Xref': 'cantaloupe.srv.cs.cmu.edu alt.atheism:53367 talk.religion.misc:83778 talk.origins:40952'}"
      ]
     },
     "execution_count": 13,
     "metadata": {},
     "output_type": "execute_result"
    }
   ],
   "source": [
    "Compiled[1]"
   ]
  },
  {
   "cell_type": "code",
   "execution_count": 19,
   "metadata": {},
   "outputs": [
    {
     "name": "stdout",
     "output_type": "stream",
     "text": [
      "Xref: cantaloupe.srv.cs.cmu.edu alt.atheism:53367 talk.religion.misc:83778 talk.origins:40952\n",
      "Newsgroups: alt.atheism,talk.religion.misc,talk.origins\n",
      "Path: cantaloupe.srv.cs.cmu.edu!das-news.harvard.edu!noc.near.net!uunet!pipex!uknet!warwick!nott-cs!mips.nott.ac.uk!eczcaw\n",
      "From: eczcaw@mips.nott.ac.uk (C.Wainwright)\n",
      "Subject: Re: Albert Sabin\n",
      "Message-ID: <1993Apr16.133751.397@cs.nott.ac.uk>\n",
      "Sender: news@cs.nott.ac.uk\n",
      "Reply-To: eczcaw@mips.nott.ac.uk (C.Wainwright)\n",
      "Organization: Nottingham University\n",
      "References: <1993Mar29.231830.2055@rambo.atlanta.dg.com> <1993Apr7.073926.9874@engage.pko.dec.com> <1993Apr10.213547.17644@rambo.atlanta.dg.com> <1993Apr11.162936.18734@zeus.franklin.edu> <1993Apr15.225657.17804@rambo.atlanta.dg.com>\n",
      "Date: Fri, 16 Apr 93 13:37:51 GMT\n",
      "Lines: 37\n",
      "\n",
      "\n",
      "In article <1993Apr15.225657.17804@rambo.atlanta.dg.com>, wpr@atlanta.dg.com (Bill Rawlins) writes:\n",
      "\n",
      "\n",
      "|> \n",
      "|>        Since you have referred to the Messiah, I assume you are referring\n",
      "|>         to the New Testament.  Please detail your complaints or e-mail if\n",
      "|>         you don't want to post. \n",
      "|>        First-century Greek is well-known and\n",
      "|>         well-understood.  Have you considered Josephus, the Jewish Historian,\n",
      "|>         who also wrote of Jesus? \n",
      "\n",
      "\n",
      "This can be now assumed kin of comic books.  There are many authors and artists\n",
      "who write on, say, Superman.  This does not make the fictional character\n",
      "worthy of blind sycophantic worship.  Indeed, I too could write of Jesus.  Does\n",
      "that make my writings sacred and me worthy of becoming a saint?  Somehow I doubt\n",
      "it.\n",
      "\n",
      "\n",
      "|>In addition, the four gospel accounts\n",
      "|>         are very much in harmony.  \n",
      "|> \n",
      "\n",
      "\n",
      "\n",
      " About a week ago a number of discrepancies were posted to this\n",
      "newsgroup which noone, NOT ONE christian dared to take up.  Perhaps the original\n",
      "poster could re-post them for Bill...? \n",
      "\n",
      "\n",
      "         \n",
      "|>                ==========================================================\n",
      "|>               //  Bill Rawlins            <wpr@atlanta.dg.com>        //\n",
      "|>              //                          \"I speak for myself only\"   //\n",
      "|>             ==========================================================\n",
      "\n",
      "\n",
      "-- \n",
      "+-------------------------+-----------------------------------------------+\n",
      "|  Adda Wainwright        |    Does dim atal y llanw!         8o)         |\n",
      "|  eczcaw@mips.nott.ac.uk |   8o)        Mae .sig 'ma ar werth!           |\n",
      "+-------------------------+-----------------------------------------------+\n",
      "\n",
      "\n",
      "\n",
      "\n",
      "\n"
     ]
    }
   ],
   "source": [
    "for i in range(len(Extract_msg[1].split(\"\\n\\n\"))):\n",
    "    print Extract_msg[1].split(\"\\n\\n\")[i] + \"\\n\\n\""
   ]
  },
  {
   "cell_type": "code",
   "execution_count": null,
   "metadata": {
    "collapsed": true
   },
   "outputs": [],
   "source": []
  }
 ],
 "metadata": {
  "kernelspec": {
   "display_name": "Python 2",
   "language": "python",
   "name": "python2"
  },
  "language_info": {
   "codemirror_mode": {
    "name": "ipython",
    "version": 2
   },
   "file_extension": ".py",
   "mimetype": "text/x-python",
   "name": "python",
   "nbconvert_exporter": "python",
   "pygments_lexer": "ipython2",
   "version": "2.7.13"
  }
 },
 "nbformat": 4,
 "nbformat_minor": 2
}
