{
 "cells": [
  {
   "cell_type": "markdown",
   "metadata": {},
   "source": [
    "## 20 Newsgroups"
   ]
  },
  {
   "cell_type": "code",
   "execution_count": 1,
   "metadata": {
    "collapsed": true
   },
   "outputs": [],
   "source": [
    "%matplotlib inline\n",
    "import matplotlib.pyplot as plt\n",
    "import seaborn\n",
    "import numpy as np\n",
    "from sklearn import datasets, model_selection\n",
    "import tarfile\n",
    "import re\n",
    "import os\n",
    "import pandas as pd"
   ]
  },
  {
   "cell_type": "markdown",
   "metadata": {},
   "source": [
    "Getting category names, i.e. folder names of 20 newsgroups folder"
   ]
  },
  {
   "cell_type": "code",
   "execution_count": 2,
   "metadata": {},
   "outputs": [
    {
     "name": "stdout",
     "output_type": "stream",
     "text": [
      "['alt.atheism' 'comp.graphics' 'comp.os.ms-windows.misc'\n",
      " 'comp.sys.ibm.pc.hardware' 'comp.sys.mac.hardware' 'comp.windows.x'\n",
      " 'misc.forsale' 'rec.autos' 'rec.motorcycles' 'rec.sport.baseball'\n",
      " 'rec.sport.hockey' 'sci.crypt' 'sci.electronics' 'sci.med' 'sci.space'\n",
      " 'soc.religion.christian' 'talk.politics.guns' 'talk.politics.mideast'\n",
      " 'talk.politics.misc' 'talk.religion.misc']\n"
     ]
    }
   ],
   "source": [
    "path = \"20_newsgroups\"\n",
    "for root, dirs, files in os.walk(path, topdown=False):\n",
    "    newsgroups = np.array(dirs)\n",
    "print newsgroups"
   ]
  },
  {
   "cell_type": "markdown",
   "metadata": {},
   "source": [
    "Reading files from first folder. Just use a for loop to read in from more folders."
   ]
  },
  {
   "cell_type": "code",
   "execution_count": 3,
   "metadata": {},
   "outputs": [],
   "source": [
    "x_train = []\n",
    "y_train = []\n",
    "x_test = []\n",
    "y_test = []\n",
    "for i in range(len(newsgroups)):\n",
    "    x = []\n",
    "    y=[]\n",
    "    path = \"20_newsgroups\" + \"/\" + newsgroups[i]\n",
    "    for root, dirs, files in os.walk(path):\n",
    "        for name in files:\n",
    "            f = open(path + \"/\" + name)\n",
    "            x.append(f.read())\n",
    "            y.append(newsgroups[i])\n",
    "    X_train, X_test, Y_train, Y_test = model_selection.train_test_split(x, y, test_size = 0.3, random_state = 1)\n",
    "    x_train.extend(X_train)\n",
    "    x_test.extend(X_test)\n",
    "    y_train.extend(Y_train)\n",
    "    y_test.extend(Y_test)\n",
    "#print x[1]"
   ]
  },
  {
   "cell_type": "code",
   "execution_count": 4,
   "metadata": {},
   "outputs": [
    {
     "name": "stdout",
     "output_type": "stream",
     "text": [
      "13997\n",
      "6000\n",
      "13997\n",
      "6000\n"
     ]
    }
   ],
   "source": [
    "print len(x_train)\n",
    "print len(x_test)\n",
    "print len(y_train)\n",
    "print len(y_test)"
   ]
  },
  {
   "cell_type": "code",
   "execution_count": 5,
   "metadata": {},
   "outputs": [
    {
     "name": "stdout",
     "output_type": "stream",
     "text": [
      "Counts for each category \n",
      "comp.os.ms-windows.misc     700\n",
      "comp.windows.x              700\n",
      "rec.motorcycles             700\n",
      "sci.med                     700\n",
      "talk.politics.mideast       700\n",
      "rec.sport.baseball          700\n",
      "comp.graphics               700\n",
      "comp.sys.ibm.pc.hardware    700\n",
      "rec.autos                   700\n",
      "misc.forsale                700\n",
      "sci.electronics             700\n",
      "sci.space                   700\n",
      "talk.politics.guns          700\n",
      "talk.politics.misc          700\n",
      "rec.sport.hockey            700\n",
      "comp.sys.mac.hardware       700\n",
      "sci.crypt                   700\n",
      "talk.religion.misc          700\n",
      "alt.atheism                 700\n",
      "soc.religion.christian      697\n",
      "Name: y_train, dtype: int64.\n",
      "Counts for each category \n",
      "talk.politics.guns          300\n",
      "sci.space                   300\n",
      "rec.motorcycles             300\n",
      "sci.med                     300\n",
      "talk.politics.misc          300\n",
      "talk.politics.mideast       300\n",
      "rec.sport.hockey            300\n",
      "comp.sys.mac.hardware       300\n",
      "rec.sport.baseball          300\n",
      "comp.graphics               300\n",
      "sci.crypt                   300\n",
      "talk.religion.misc          300\n",
      "comp.sys.ibm.pc.hardware    300\n",
      "alt.atheism                 300\n",
      "comp.windows.x              300\n",
      "rec.autos                   300\n",
      "misc.forsale                300\n",
      "comp.os.ms-windows.misc     300\n",
      "sci.electronics             300\n",
      "soc.religion.christian      300\n",
      "Name: y_test, dtype: int64.\n"
     ]
    }
   ],
   "source": [
    "y_train = pd.DataFrame(y_train, columns = ['y_train'])\n",
    "print 'Counts for each category \\n%s.' % y_train.y_train.value_counts()\n",
    "\n",
    "y_test = pd.DataFrame(y_test, columns = ['y_test'])\n",
    "print 'Counts for each category \\n%s.' % y_test.y_test.value_counts()"
   ]
  },
  {
   "cell_type": "markdown",
   "metadata": {},
   "source": [
    "Obtain metadatas From, Subject, Date, Organization, Sender from the headers of each file. Obtain Content from the body of each file and place in the original dataframe."
   ]
  },
  {
   "cell_type": "code",
   "execution_count": 6,
   "metadata": {},
   "outputs": [],
   "source": [
    "# Creating the dataframe and assigning columns\n",
    "def create_dataframe(x): \n",
    "    original = pd.DataFrame()\n",
    "    original = original.assign(From = [])\n",
    "    original = original.assign(Subject = [])\n",
    "    original = original.assign(Date = [])\n",
    "    original = original.assign(Organization = [])\n",
    "    original = original.assign(Sender = [])\n",
    "    original = original.assign(Content = [])\n",
    "    original = original.assign(Lines = [])\n",
    "    original['From'] = original['From'].astype(str)\n",
    "    original['Subject'] = original['Subject'].astype(str)\n",
    "    original['Date'] = original['Date'].astype(str)\n",
    "    original['Organization'] = original['Organization'].astype(str)\n",
    "    original['Sender'] = original['Sender'].astype(str)\n",
    "    original['Content'] = original['Content'].astype(str)\n",
    "    original['Lines'] = original['Lines'].astype(str)\n",
    "    #print original.dtypes\n",
    "\n",
    "    # Placing the metadatas and content in the respective cells of the dataframe\n",
    "    for i in range(len(x)):\n",
    "        data = x[i].split(\"\\n\\n\", 1)\n",
    "        email_content = ''\n",
    "        meta = sorted(data[0].split(\"\\n\"))\n",
    "        for k in meta:\n",
    "            z = np.array(k.split(\":\", 1))\n",
    "            if list(original).__contains__(z[0]):\n",
    "                try:\n",
    "                    original.at[i, z[0]] = z[1]\n",
    "                except ValueError:\n",
    "                    original.at[i, z[0]] = np.NaN\n",
    "        original.at[i, 'Content'] = data[1]\n",
    "    return original"
   ]
  },
  {
   "cell_type": "code",
   "execution_count": 7,
   "metadata": {},
   "outputs": [
    {
     "data": {
      "text/plain": [
       "From            13997\n",
       "Subject         13997\n",
       "Date            13997\n",
       "Organization    13415\n",
       "Sender           7618\n",
       "Content         13997\n",
       "Lines           13953\n",
       "dtype: int64"
      ]
     },
     "execution_count": 7,
     "metadata": {},
     "output_type": "execute_result"
    }
   ],
   "source": [
    "train_x = create_dataframe(x_train)\n",
    "train_x.count()"
   ]
  },
  {
   "cell_type": "code",
   "execution_count": 8,
   "metadata": {},
   "outputs": [
    {
     "data": {
      "text/plain": [
       "From            6000\n",
       "Subject         6000\n",
       "Date            6000\n",
       "Organization    5730\n",
       "Sender          3254\n",
       "Content         6000\n",
       "Lines           5984\n",
       "dtype: int64"
      ]
     },
     "execution_count": 8,
     "metadata": {},
     "output_type": "execute_result"
    }
   ],
   "source": [
    "test_x = create_dataframe(x_test)\n",
    "test_x.count()"
   ]
  },
  {
   "cell_type": "markdown",
   "metadata": {},
   "source": [
    "Saving to csv"
   ]
  },
  {
   "cell_type": "code",
   "execution_count": 9,
   "metadata": {
    "collapsed": true
   },
   "outputs": [],
   "source": [
    "train_x.to_csv('train_x.csv')\n",
    "test_x.to_csv('test_x.csv')\n",
    "y_train.to_csv('y_train.csv')\n",
    "y_test.to_csv('y_test.csv')"
   ]
  },
  {
   "cell_type": "markdown",
   "metadata": {},
   "source": [
    "## Emails\n",
    "Extract email address from From and Sender column. From and Sender names were not considered as not much info can be gotten. \n",
    "Flag whether the document is from an educational institution by checking the domain for .edu\n",
    "Extra: extract domain, country etc"
   ]
  },
  {
   "cell_type": "code",
   "execution_count": 10,
   "metadata": {
    "collapsed": true
   },
   "outputs": [],
   "source": [
    "def process_emails(original):\n",
    "    # Extracting the email addresses from From column\n",
    "    original['Email_from'] = original.From.map(lambda x : re.search(r'[\\w\\.-]+@[\\w\\.-]+', x).group(0) if re.search(r'[\\w\\.-]+@[\\w\\.-]+', x) is not None else np.NaN)\n",
    "\n",
    "    # Extracting the email addresses from Sender column\n",
    "    original['Email_sender'] = original.Sender.map(lambda x : np.NaN if pd.isnull(x) else re.search(r'[\\w\\.-]+@[\\w\\.-]+', x).group(0) if re.search(r'[\\w\\.-]+@[\\w\\.-]+', x) is not None else np.NaN)\n",
    "\n",
    "    # flag as educational organisation if the email address has .edu domain\n",
    "    original['Edu_org'] = original.Email_from.map(lambda x : 1 if isinstance(x, basestring) and x[len(x) - 3:].find('edu') is not -1 else 0)\n",
    "    return original"
   ]
  },
  {
   "cell_type": "code",
   "execution_count": 11,
   "metadata": {
    "scrolled": true
   },
   "outputs": [
    {
     "data": {
      "text/html": [
       "<div>\n",
       "<style>\n",
       "    .dataframe thead tr:only-child th {\n",
       "        text-align: right;\n",
       "    }\n",
       "\n",
       "    .dataframe thead th {\n",
       "        text-align: left;\n",
       "    }\n",
       "\n",
       "    .dataframe tbody tr th {\n",
       "        vertical-align: top;\n",
       "    }\n",
       "</style>\n",
       "<table border=\"1\" class=\"dataframe\">\n",
       "  <thead>\n",
       "    <tr style=\"text-align: right;\">\n",
       "      <th></th>\n",
       "      <th>From</th>\n",
       "      <th>Subject</th>\n",
       "      <th>Date</th>\n",
       "      <th>Organization</th>\n",
       "      <th>Sender</th>\n",
       "      <th>Content</th>\n",
       "      <th>Lines</th>\n",
       "      <th>Email_from</th>\n",
       "      <th>Email_sender</th>\n",
       "      <th>Edu_org</th>\n",
       "    </tr>\n",
       "  </thead>\n",
       "  <tbody>\n",
       "    <tr>\n",
       "      <th>0</th>\n",
       "      <td>livesey@solntze.wpd.sgi.com (Jon Livesey)</td>\n",
       "      <td>Re: Yet more Rushdie [Re: ISLAMIC LAW]</td>\n",
       "      <td>23 Apr 1993 21:02:00 GMT</td>\n",
       "      <td>sgi</td>\n",
       "      <td>NaN</td>\n",
       "      <td>In article &lt;116533@bu.edu&gt;, jaeger@buphy.bu.ed...</td>\n",
       "      <td>27</td>\n",
       "      <td>livesey@solntze.wpd.sgi.com</td>\n",
       "      <td>NaN</td>\n",
       "      <td>0</td>\n",
       "    </tr>\n",
       "    <tr>\n",
       "      <th>1</th>\n",
       "      <td>halat@pooh.bears (Jim Halat)</td>\n",
       "      <td>Re: After 2000 years, can we say that Christi...</td>\n",
       "      <td>23 Apr 93 18:50:18 GMT</td>\n",
       "      <td>NaN</td>\n",
       "      <td>news@bear.com</td>\n",
       "      <td>In article &lt;markp.735230393@elvis.wri.com&gt;, ma...</td>\n",
       "      <td>25</td>\n",
       "      <td>halat@pooh.bears</td>\n",
       "      <td>news@bear.com</td>\n",
       "      <td>0</td>\n",
       "    </tr>\n",
       "    <tr>\n",
       "      <th>2</th>\n",
       "      <td>sham@cs.arizona.edu (Shamim Zvonko Mohamed)</td>\n",
       "      <td>Re: Death Penalty / Gulf War (long)</td>\n",
       "      <td>21 Apr 93 20:33:53 GMT</td>\n",
       "      <td>U of Arizona CS Dept, Tucson</td>\n",
       "      <td>NaN</td>\n",
       "      <td>This is the most unmitigated bilge I've seen i...</td>\n",
       "      <td>62</td>\n",
       "      <td>sham@cs.arizona.edu</td>\n",
       "      <td>NaN</td>\n",
       "      <td>1</td>\n",
       "    </tr>\n",
       "    <tr>\n",
       "      <th>3</th>\n",
       "      <td>dewey@risc.sps.mot.com (Dewey Henize)</td>\n",
       "      <td>Re: sci.skeptic.religion (Was: Why ALT.atheism?)</td>\n",
       "      <td>13 Apr 1993 18:43:48 -0500</td>\n",
       "      <td>Motorola, Inc. -- Austin,TX</td>\n",
       "      <td>NaN</td>\n",
       "      <td>In article &lt;93103.071613J5J@psuvm.psu.edu&gt; Joh...</td>\n",
       "      <td>33</td>\n",
       "      <td>dewey@risc.sps.mot.com</td>\n",
       "      <td>NaN</td>\n",
       "      <td>0</td>\n",
       "    </tr>\n",
       "    <tr>\n",
       "      <th>4</th>\n",
       "      <td>mathew &lt;mathew@mantis.co.uk&gt;</td>\n",
       "      <td>Re: After 2000 years, can we say that Christi...</td>\n",
       "      <td>Wed, 21 Apr 1993 10:25:25 +0100</td>\n",
       "      <td>Mantis Consultants, Cambridge. UK.</td>\n",
       "      <td>NaN</td>\n",
       "      <td>frank@D012S658.uucp (Frank O'Dwyer) writes:\\n&gt;...</td>\n",
       "      <td>21</td>\n",
       "      <td>mathew@mantis.co.uk</td>\n",
       "      <td>NaN</td>\n",
       "      <td>0</td>\n",
       "    </tr>\n",
       "  </tbody>\n",
       "</table>\n",
       "</div>"
      ],
      "text/plain": [
       "                                           From  \\\n",
       "0     livesey@solntze.wpd.sgi.com (Jon Livesey)   \n",
       "1                  halat@pooh.bears (Jim Halat)   \n",
       "2   sham@cs.arizona.edu (Shamim Zvonko Mohamed)   \n",
       "3         dewey@risc.sps.mot.com (Dewey Henize)   \n",
       "4                  mathew <mathew@mantis.co.uk>   \n",
       "\n",
       "                                             Subject  \\\n",
       "0             Re: Yet more Rushdie [Re: ISLAMIC LAW]   \n",
       "1   Re: After 2000 years, can we say that Christi...   \n",
       "2                Re: Death Penalty / Gulf War (long)   \n",
       "3   Re: sci.skeptic.religion (Was: Why ALT.atheism?)   \n",
       "4   Re: After 2000 years, can we say that Christi...   \n",
       "\n",
       "                               Date                         Organization  \\\n",
       "0          23 Apr 1993 21:02:00 GMT                                  sgi   \n",
       "1            23 Apr 93 18:50:18 GMT                                  NaN   \n",
       "2            21 Apr 93 20:33:53 GMT         U of Arizona CS Dept, Tucson   \n",
       "3        13 Apr 1993 18:43:48 -0500          Motorola, Inc. -- Austin,TX   \n",
       "4   Wed, 21 Apr 1993 10:25:25 +0100   Mantis Consultants, Cambridge. UK.   \n",
       "\n",
       "           Sender                                            Content Lines  \\\n",
       "0             NaN  In article <116533@bu.edu>, jaeger@buphy.bu.ed...    27   \n",
       "1   news@bear.com  In article <markp.735230393@elvis.wri.com>, ma...    25   \n",
       "2             NaN  This is the most unmitigated bilge I've seen i...    62   \n",
       "3             NaN  In article <93103.071613J5J@psuvm.psu.edu> Joh...    33   \n",
       "4             NaN  frank@D012S658.uucp (Frank O'Dwyer) writes:\\n>...    21   \n",
       "\n",
       "                    Email_from   Email_sender  Edu_org  \n",
       "0  livesey@solntze.wpd.sgi.com            NaN        0  \n",
       "1             halat@pooh.bears  news@bear.com        0  \n",
       "2          sham@cs.arizona.edu            NaN        1  \n",
       "3       dewey@risc.sps.mot.com            NaN        0  \n",
       "4          mathew@mantis.co.uk            NaN        0  "
      ]
     },
     "execution_count": 11,
     "metadata": {},
     "output_type": "execute_result"
    }
   ],
   "source": [
    "train_x = process_emails(train_x)\n",
    "train_x.head()"
   ]
  },
  {
   "cell_type": "markdown",
   "metadata": {},
   "source": [
    "## Subject\n",
    "For Subject, remove Re: (maybe indicate that its a reply message), throw to content"
   ]
  },
  {
   "cell_type": "code",
   "execution_count": 12,
   "metadata": {
    "collapsed": true
   },
   "outputs": [],
   "source": [
    "def process_subject(original):\n",
    "    # Process the subject to remove Re:\n",
    "    original['Subject_processed'] = original.Subject.map(lambda x : x[x.find(\"FAQ:\") + 5:] if x.find(\"FAQ:\") is not -1 \n",
    "                                                         else x[x.find(\"Re:\") + 4:] if x.find(\"Re:\") is not -1 and x.find(\"Re\", 5) is -1\n",
    "                                                         else x[x.find(\"Re:\") + 4:x.find(\"Re\", 5)] if x.find(\"Re:\") is not -1\n",
    "                                                         else x)\n",
    "\n",
    "    # Reply_msg = 1 if the document is a reply message, otherwise 0\n",
    "    original['Reply_msg'] = original.Subject.map(lambda x : 1 if x.find(\"Re:\") == 1 else 0)\n",
    "\n",
    "    # Adds the processed subject to Content column\n",
    "    original['Content'] = original.Content + \" \" + original.Subject_processed\n",
    "\n",
    "    # Removes Subject_processed column as they are appended to content column\n",
    "    del original['Subject_processed']\n",
    "    return original"
   ]
  },
  {
   "cell_type": "code",
   "execution_count": 13,
   "metadata": {},
   "outputs": [
    {
     "data": {
      "text/html": [
       "<div>\n",
       "<style>\n",
       "    .dataframe thead tr:only-child th {\n",
       "        text-align: right;\n",
       "    }\n",
       "\n",
       "    .dataframe thead th {\n",
       "        text-align: left;\n",
       "    }\n",
       "\n",
       "    .dataframe tbody tr th {\n",
       "        vertical-align: top;\n",
       "    }\n",
       "</style>\n",
       "<table border=\"1\" class=\"dataframe\">\n",
       "  <thead>\n",
       "    <tr style=\"text-align: right;\">\n",
       "      <th></th>\n",
       "      <th>From</th>\n",
       "      <th>Subject</th>\n",
       "      <th>Date</th>\n",
       "      <th>Organization</th>\n",
       "      <th>Sender</th>\n",
       "      <th>Content</th>\n",
       "      <th>Lines</th>\n",
       "      <th>Email_from</th>\n",
       "      <th>Email_sender</th>\n",
       "      <th>Edu_org</th>\n",
       "      <th>Reply_msg</th>\n",
       "    </tr>\n",
       "  </thead>\n",
       "  <tbody>\n",
       "    <tr>\n",
       "      <th>0</th>\n",
       "      <td>livesey@solntze.wpd.sgi.com (Jon Livesey)</td>\n",
       "      <td>Re: Yet more Rushdie [Re: ISLAMIC LAW]</td>\n",
       "      <td>23 Apr 1993 21:02:00 GMT</td>\n",
       "      <td>sgi</td>\n",
       "      <td>NaN</td>\n",
       "      <td>In article &lt;116533@bu.edu&gt;, jaeger@buphy.bu.ed...</td>\n",
       "      <td>27</td>\n",
       "      <td>livesey@solntze.wpd.sgi.com</td>\n",
       "      <td>NaN</td>\n",
       "      <td>0</td>\n",
       "      <td>1</td>\n",
       "    </tr>\n",
       "    <tr>\n",
       "      <th>1</th>\n",
       "      <td>halat@pooh.bears (Jim Halat)</td>\n",
       "      <td>Re: After 2000 years, can we say that Christi...</td>\n",
       "      <td>23 Apr 93 18:50:18 GMT</td>\n",
       "      <td>NaN</td>\n",
       "      <td>news@bear.com</td>\n",
       "      <td>In article &lt;markp.735230393@elvis.wri.com&gt;, ma...</td>\n",
       "      <td>25</td>\n",
       "      <td>halat@pooh.bears</td>\n",
       "      <td>news@bear.com</td>\n",
       "      <td>0</td>\n",
       "      <td>1</td>\n",
       "    </tr>\n",
       "    <tr>\n",
       "      <th>2</th>\n",
       "      <td>sham@cs.arizona.edu (Shamim Zvonko Mohamed)</td>\n",
       "      <td>Re: Death Penalty / Gulf War (long)</td>\n",
       "      <td>21 Apr 93 20:33:53 GMT</td>\n",
       "      <td>U of Arizona CS Dept, Tucson</td>\n",
       "      <td>NaN</td>\n",
       "      <td>This is the most unmitigated bilge I've seen i...</td>\n",
       "      <td>62</td>\n",
       "      <td>sham@cs.arizona.edu</td>\n",
       "      <td>NaN</td>\n",
       "      <td>1</td>\n",
       "      <td>1</td>\n",
       "    </tr>\n",
       "    <tr>\n",
       "      <th>3</th>\n",
       "      <td>dewey@risc.sps.mot.com (Dewey Henize)</td>\n",
       "      <td>Re: sci.skeptic.religion (Was: Why ALT.atheism?)</td>\n",
       "      <td>13 Apr 1993 18:43:48 -0500</td>\n",
       "      <td>Motorola, Inc. -- Austin,TX</td>\n",
       "      <td>NaN</td>\n",
       "      <td>In article &lt;93103.071613J5J@psuvm.psu.edu&gt; Joh...</td>\n",
       "      <td>33</td>\n",
       "      <td>dewey@risc.sps.mot.com</td>\n",
       "      <td>NaN</td>\n",
       "      <td>0</td>\n",
       "      <td>1</td>\n",
       "    </tr>\n",
       "    <tr>\n",
       "      <th>4</th>\n",
       "      <td>mathew &lt;mathew@mantis.co.uk&gt;</td>\n",
       "      <td>Re: After 2000 years, can we say that Christi...</td>\n",
       "      <td>Wed, 21 Apr 1993 10:25:25 +0100</td>\n",
       "      <td>Mantis Consultants, Cambridge. UK.</td>\n",
       "      <td>NaN</td>\n",
       "      <td>frank@D012S658.uucp (Frank O'Dwyer) writes:\\n&gt;...</td>\n",
       "      <td>21</td>\n",
       "      <td>mathew@mantis.co.uk</td>\n",
       "      <td>NaN</td>\n",
       "      <td>0</td>\n",
       "      <td>1</td>\n",
       "    </tr>\n",
       "  </tbody>\n",
       "</table>\n",
       "</div>"
      ],
      "text/plain": [
       "                                           From  \\\n",
       "0     livesey@solntze.wpd.sgi.com (Jon Livesey)   \n",
       "1                  halat@pooh.bears (Jim Halat)   \n",
       "2   sham@cs.arizona.edu (Shamim Zvonko Mohamed)   \n",
       "3         dewey@risc.sps.mot.com (Dewey Henize)   \n",
       "4                  mathew <mathew@mantis.co.uk>   \n",
       "\n",
       "                                             Subject  \\\n",
       "0             Re: Yet more Rushdie [Re: ISLAMIC LAW]   \n",
       "1   Re: After 2000 years, can we say that Christi...   \n",
       "2                Re: Death Penalty / Gulf War (long)   \n",
       "3   Re: sci.skeptic.religion (Was: Why ALT.atheism?)   \n",
       "4   Re: After 2000 years, can we say that Christi...   \n",
       "\n",
       "                               Date                         Organization  \\\n",
       "0          23 Apr 1993 21:02:00 GMT                                  sgi   \n",
       "1            23 Apr 93 18:50:18 GMT                                  NaN   \n",
       "2            21 Apr 93 20:33:53 GMT         U of Arizona CS Dept, Tucson   \n",
       "3        13 Apr 1993 18:43:48 -0500          Motorola, Inc. -- Austin,TX   \n",
       "4   Wed, 21 Apr 1993 10:25:25 +0100   Mantis Consultants, Cambridge. UK.   \n",
       "\n",
       "           Sender                                            Content Lines  \\\n",
       "0             NaN  In article <116533@bu.edu>, jaeger@buphy.bu.ed...    27   \n",
       "1   news@bear.com  In article <markp.735230393@elvis.wri.com>, ma...    25   \n",
       "2             NaN  This is the most unmitigated bilge I've seen i...    62   \n",
       "3             NaN  In article <93103.071613J5J@psuvm.psu.edu> Joh...    33   \n",
       "4             NaN  frank@D012S658.uucp (Frank O'Dwyer) writes:\\n>...    21   \n",
       "\n",
       "                    Email_from   Email_sender  Edu_org  Reply_msg  \n",
       "0  livesey@solntze.wpd.sgi.com            NaN        0          1  \n",
       "1             halat@pooh.bears  news@bear.com        0          1  \n",
       "2          sham@cs.arizona.edu            NaN        1          1  \n",
       "3       dewey@risc.sps.mot.com            NaN        0          1  \n",
       "4          mathew@mantis.co.uk            NaN        0          1  "
      ]
     },
     "execution_count": 13,
     "metadata": {},
     "output_type": "execute_result"
    }
   ],
   "source": [
    "train_x = process_subject(train_x)\n",
    "train_x.head()"
   ]
  },
  {
   "cell_type": "markdown",
   "metadata": {},
   "source": [
    "## Date\n",
    "For Date, extract month and year (year seems to be all in 1993)"
   ]
  },
  {
   "cell_type": "code",
   "execution_count": 14,
   "metadata": {},
   "outputs": [],
   "source": [
    "def process_date(original):\n",
    "    # Extracting the Month from the Date column\n",
    "    month_dict = ['jan', 'feb', 'mar', 'apr', 'may', 'jun', 'jul', 'aug', 'sep', 'oct', 'nov', 'dec']\n",
    "    original['Month'] = original.Date.map(lambda y : ''.join(filter(lambda x: x.lower() in month_dict, y.split())))\n",
    "\n",
    "    # Extracting the Year from the Date column\n",
    "    original['Year'] = original.Date.map(lambda x : ''.join([x[x.lower().find(i):].split(' ')[1] for i in month_dict if x.lower().find(i) is not -1]))\n",
    "    original['Year'] = original.Year.map(lambda x : x[2:] if len(x) is 4 else x)\n",
    "    return original"
   ]
  },
  {
   "cell_type": "code",
   "execution_count": 15,
   "metadata": {},
   "outputs": [
    {
     "data": {
      "text/html": [
       "<div>\n",
       "<style>\n",
       "    .dataframe thead tr:only-child th {\n",
       "        text-align: right;\n",
       "    }\n",
       "\n",
       "    .dataframe thead th {\n",
       "        text-align: left;\n",
       "    }\n",
       "\n",
       "    .dataframe tbody tr th {\n",
       "        vertical-align: top;\n",
       "    }\n",
       "</style>\n",
       "<table border=\"1\" class=\"dataframe\">\n",
       "  <thead>\n",
       "    <tr style=\"text-align: right;\">\n",
       "      <th></th>\n",
       "      <th>From</th>\n",
       "      <th>Subject</th>\n",
       "      <th>Date</th>\n",
       "      <th>Organization</th>\n",
       "      <th>Sender</th>\n",
       "      <th>Content</th>\n",
       "      <th>Lines</th>\n",
       "      <th>Email_from</th>\n",
       "      <th>Email_sender</th>\n",
       "      <th>Edu_org</th>\n",
       "      <th>Reply_msg</th>\n",
       "      <th>Month</th>\n",
       "      <th>Year</th>\n",
       "    </tr>\n",
       "  </thead>\n",
       "  <tbody>\n",
       "    <tr>\n",
       "      <th>0</th>\n",
       "      <td>livesey@solntze.wpd.sgi.com (Jon Livesey)</td>\n",
       "      <td>Re: Yet more Rushdie [Re: ISLAMIC LAW]</td>\n",
       "      <td>23 Apr 1993 21:02:00 GMT</td>\n",
       "      <td>sgi</td>\n",
       "      <td>NaN</td>\n",
       "      <td>In article &lt;116533@bu.edu&gt;, jaeger@buphy.bu.ed...</td>\n",
       "      <td>27</td>\n",
       "      <td>livesey@solntze.wpd.sgi.com</td>\n",
       "      <td>NaN</td>\n",
       "      <td>0</td>\n",
       "      <td>1</td>\n",
       "      <td>Apr</td>\n",
       "      <td>93</td>\n",
       "    </tr>\n",
       "    <tr>\n",
       "      <th>1</th>\n",
       "      <td>halat@pooh.bears (Jim Halat)</td>\n",
       "      <td>Re: After 2000 years, can we say that Christi...</td>\n",
       "      <td>23 Apr 93 18:50:18 GMT</td>\n",
       "      <td>NaN</td>\n",
       "      <td>news@bear.com</td>\n",
       "      <td>In article &lt;markp.735230393@elvis.wri.com&gt;, ma...</td>\n",
       "      <td>25</td>\n",
       "      <td>halat@pooh.bears</td>\n",
       "      <td>news@bear.com</td>\n",
       "      <td>0</td>\n",
       "      <td>1</td>\n",
       "      <td>Apr</td>\n",
       "      <td>93</td>\n",
       "    </tr>\n",
       "    <tr>\n",
       "      <th>2</th>\n",
       "      <td>sham@cs.arizona.edu (Shamim Zvonko Mohamed)</td>\n",
       "      <td>Re: Death Penalty / Gulf War (long)</td>\n",
       "      <td>21 Apr 93 20:33:53 GMT</td>\n",
       "      <td>U of Arizona CS Dept, Tucson</td>\n",
       "      <td>NaN</td>\n",
       "      <td>This is the most unmitigated bilge I've seen i...</td>\n",
       "      <td>62</td>\n",
       "      <td>sham@cs.arizona.edu</td>\n",
       "      <td>NaN</td>\n",
       "      <td>1</td>\n",
       "      <td>1</td>\n",
       "      <td>Apr</td>\n",
       "      <td>93</td>\n",
       "    </tr>\n",
       "    <tr>\n",
       "      <th>3</th>\n",
       "      <td>dewey@risc.sps.mot.com (Dewey Henize)</td>\n",
       "      <td>Re: sci.skeptic.religion (Was: Why ALT.atheism?)</td>\n",
       "      <td>13 Apr 1993 18:43:48 -0500</td>\n",
       "      <td>Motorola, Inc. -- Austin,TX</td>\n",
       "      <td>NaN</td>\n",
       "      <td>In article &lt;93103.071613J5J@psuvm.psu.edu&gt; Joh...</td>\n",
       "      <td>33</td>\n",
       "      <td>dewey@risc.sps.mot.com</td>\n",
       "      <td>NaN</td>\n",
       "      <td>0</td>\n",
       "      <td>1</td>\n",
       "      <td>Apr</td>\n",
       "      <td>93</td>\n",
       "    </tr>\n",
       "    <tr>\n",
       "      <th>4</th>\n",
       "      <td>mathew &lt;mathew@mantis.co.uk&gt;</td>\n",
       "      <td>Re: After 2000 years, can we say that Christi...</td>\n",
       "      <td>Wed, 21 Apr 1993 10:25:25 +0100</td>\n",
       "      <td>Mantis Consultants, Cambridge. UK.</td>\n",
       "      <td>NaN</td>\n",
       "      <td>frank@D012S658.uucp (Frank O'Dwyer) writes:\\n&gt;...</td>\n",
       "      <td>21</td>\n",
       "      <td>mathew@mantis.co.uk</td>\n",
       "      <td>NaN</td>\n",
       "      <td>0</td>\n",
       "      <td>1</td>\n",
       "      <td>Apr</td>\n",
       "      <td>93</td>\n",
       "    </tr>\n",
       "  </tbody>\n",
       "</table>\n",
       "</div>"
      ],
      "text/plain": [
       "                                           From  \\\n",
       "0     livesey@solntze.wpd.sgi.com (Jon Livesey)   \n",
       "1                  halat@pooh.bears (Jim Halat)   \n",
       "2   sham@cs.arizona.edu (Shamim Zvonko Mohamed)   \n",
       "3         dewey@risc.sps.mot.com (Dewey Henize)   \n",
       "4                  mathew <mathew@mantis.co.uk>   \n",
       "\n",
       "                                             Subject  \\\n",
       "0             Re: Yet more Rushdie [Re: ISLAMIC LAW]   \n",
       "1   Re: After 2000 years, can we say that Christi...   \n",
       "2                Re: Death Penalty / Gulf War (long)   \n",
       "3   Re: sci.skeptic.religion (Was: Why ALT.atheism?)   \n",
       "4   Re: After 2000 years, can we say that Christi...   \n",
       "\n",
       "                               Date                         Organization  \\\n",
       "0          23 Apr 1993 21:02:00 GMT                                  sgi   \n",
       "1            23 Apr 93 18:50:18 GMT                                  NaN   \n",
       "2            21 Apr 93 20:33:53 GMT         U of Arizona CS Dept, Tucson   \n",
       "3        13 Apr 1993 18:43:48 -0500          Motorola, Inc. -- Austin,TX   \n",
       "4   Wed, 21 Apr 1993 10:25:25 +0100   Mantis Consultants, Cambridge. UK.   \n",
       "\n",
       "           Sender                                            Content Lines  \\\n",
       "0             NaN  In article <116533@bu.edu>, jaeger@buphy.bu.ed...    27   \n",
       "1   news@bear.com  In article <markp.735230393@elvis.wri.com>, ma...    25   \n",
       "2             NaN  This is the most unmitigated bilge I've seen i...    62   \n",
       "3             NaN  In article <93103.071613J5J@psuvm.psu.edu> Joh...    33   \n",
       "4             NaN  frank@D012S658.uucp (Frank O'Dwyer) writes:\\n>...    21   \n",
       "\n",
       "                    Email_from   Email_sender  Edu_org  Reply_msg Month Year  \n",
       "0  livesey@solntze.wpd.sgi.com            NaN        0          1   Apr   93  \n",
       "1             halat@pooh.bears  news@bear.com        0          1   Apr   93  \n",
       "2          sham@cs.arizona.edu            NaN        1          1   Apr   93  \n",
       "3       dewey@risc.sps.mot.com            NaN        0          1   Apr   93  \n",
       "4          mathew@mantis.co.uk            NaN        0          1   Apr   93  "
      ]
     },
     "execution_count": 15,
     "metadata": {},
     "output_type": "execute_result"
    }
   ],
   "source": [
    "train_x = process_date(train_x)\n",
    "train_x.head()"
   ]
  },
  {
   "cell_type": "markdown",
   "metadata": {},
   "source": [
    "Checking the columns of original dataframe"
   ]
  },
  {
   "cell_type": "code",
   "execution_count": 17,
   "metadata": {},
   "outputs": [
    {
     "data": {
      "text/plain": [
       "['From',\n",
       " 'Subject',\n",
       " 'Date',\n",
       " 'Organization',\n",
       " 'Sender',\n",
       " 'Content',\n",
       " 'Lines',\n",
       " 'Email_from',\n",
       " 'Email_sender',\n",
       " 'Edu_org',\n",
       " 'Reply_msg',\n",
       " 'Month',\n",
       " 'Year']"
      ]
     },
     "execution_count": 17,
     "metadata": {},
     "output_type": "execute_result"
    }
   ],
   "source": [
    "list(train_x)"
   ]
  },
  {
   "cell_type": "markdown",
   "metadata": {},
   "source": [
    "The following shows that some columns have missing values, such as Organisation, Sender, Lines, Email_from, and Email_sender (might need to remove email_from and email_sender and subject)"
   ]
  },
  {
   "cell_type": "code",
   "execution_count": 18,
   "metadata": {},
   "outputs": [
    {
     "data": {
      "text/plain": [
       "From            13997\n",
       "Subject         13997\n",
       "Date            13997\n",
       "Organization    13415\n",
       "Sender           7618\n",
       "Content         13997\n",
       "Lines           13953\n",
       "Email_from      13750\n",
       "Email_sender     7431\n",
       "Edu_org         13997\n",
       "Reply_msg       13997\n",
       "Month           13997\n",
       "Year            13997\n",
       "dtype: int64"
      ]
     },
     "execution_count": 18,
     "metadata": {},
     "output_type": "execute_result"
    }
   ],
   "source": [
    "train_x.count()"
   ]
  },
  {
   "cell_type": "markdown",
   "metadata": {},
   "source": [
    "Sanity check, when using full dataset, if all years are in 93, remove the column"
   ]
  },
  {
   "cell_type": "code",
   "execution_count": 19,
   "metadata": {},
   "outputs": [
    {
     "data": {
      "text/plain": [
       "Year\n",
       "92        2\n",
       "93    13995\n",
       "Name: Content, dtype: int64"
      ]
     },
     "execution_count": 19,
     "metadata": {},
     "output_type": "execute_result"
    }
   ],
   "source": [
    "train_x.groupby('Year').count()['Content']"
   ]
  },
  {
   "cell_type": "markdown",
   "metadata": {},
   "source": [
    "After checking, all years (except two cases) are in 1993 so year column is removed."
   ]
  },
  {
   "cell_type": "code",
   "execution_count": 20,
   "metadata": {},
   "outputs": [
    {
     "name": "stdout",
     "output_type": "stream",
     "text": [
      "['From', 'Subject', 'Date', 'Organization', 'Sender', 'Content', 'Lines', 'Email_from', 'Email_sender', 'Edu_org', 'Reply_msg', 'Month']\n"
     ]
    }
   ],
   "source": [
    "del train_x['Year']\n",
    "print list(train_x)"
   ]
  },
  {
   "cell_type": "markdown",
   "metadata": {},
   "source": [
    "Checking the Month Column, we see that there is one entry which is empty. Further checks shows that it is because the month is spelt as April instead of the usual Apr, therefore the discrepancy."
   ]
  },
  {
   "cell_type": "code",
   "execution_count": 21,
   "metadata": {},
   "outputs": [
    {
     "data": {
      "text/plain": [
       "Month\n",
       "           1\n",
       "APR       20\n",
       "Apr    12836\n",
       "Feb        2\n",
       "Jun        2\n",
       "MAY        3\n",
       "Mar       17\n",
       "May     1116\n",
       "Name: Content, dtype: int64"
      ]
     },
     "execution_count": 21,
     "metadata": {},
     "output_type": "execute_result"
    }
   ],
   "source": [
    "train_x.groupby('Month').count()['Content']"
   ]
  },
  {
   "cell_type": "code",
   "execution_count": 23,
   "metadata": {},
   "outputs": [
    {
     "name": "stdout",
     "output_type": "stream",
     "text": [
      " Wednesday, 14 April 1993 12:14:23 MST\n"
     ]
    },
    {
     "data": {
      "text/plain": [
       "Month\n",
       "APR       20\n",
       "Apr    12837\n",
       "Feb        2\n",
       "Jun        2\n",
       "MAY        3\n",
       "Mar       17\n",
       "May     1116\n",
       "Name: Content, dtype: int64"
      ]
     },
     "execution_count": 23,
     "metadata": {},
     "output_type": "execute_result"
    }
   ],
   "source": [
    "emp = ''\n",
    "for i in range(len(train_x.Month)):\n",
    "    if train_x.Month[i] == '':\n",
    "        emp = i\n",
    "print train_x.Date[emp]\n",
    "train_x.at[emp, 'Month'] = 'Apr'\n",
    "train_x.groupby('Month').count()['Content']"
   ]
  },
  {
   "cell_type": "markdown",
   "metadata": {},
   "source": [
    "## Educational Organisation"
   ]
  },
  {
   "cell_type": "code",
   "execution_count": 24,
   "metadata": {},
   "outputs": [
    {
     "name": "stdout",
     "output_type": "stream",
     "text": [
      "Edu_org\n",
      "0    8966\n",
      "1    5031\n",
      "Name: Content, dtype: int64\n"
     ]
    },
    {
     "data": {
      "image/png": "[encoded data removed]",
      "text/plain": [
       "<matplotlib.figure.Figure at 0x115987b8>"
      ]
     },
     "metadata": {},
     "output_type": "display_data"
    }
   ],
   "source": [
    "print train_x.groupby('Edu_org').count()['Content']\n",
    "ax = seaborn.countplot(x='Edu_org', data=train_x)\n",
    "ax.set(title = 'Count of Educational Organisations', xlabel = 'Educational Organisation', xticklabels = [\"Yes\", 'No'])\n",
    "plt.show()"
   ]
  },
  {
   "cell_type": "code",
   "execution_count": 25,
   "metadata": {},
   "outputs": [
    {
     "name": "stdout",
     "output_type": "stream",
     "text": [
      "Reply_msg\n",
      "0    4737\n",
      "1    9260\n",
      "Name: Content, dtype: int64\n"
     ]
    },
    {
     "data": {
      "image/png": "[encoded data removed]",
      "text/plain": [
       "<matplotlib.figure.Figure at 0x11078320>"
      ]
     },
     "metadata": {},
     "output_type": "display_data"
    }
   ],
   "source": [
    "print train_x.groupby('Reply_msg').count()['Content']\n",
    "ax = seaborn.countplot(x='Reply_msg', data=train_x)\n",
    "ax.set(title = 'Count of Documents that are replies', xlabel = 'Reply Documents', xticklabels = [\"Yes\", 'No'])\n",
    "plt.show()"
   ]
  },
  {
   "cell_type": "code",
   "execution_count": 26,
   "metadata": {},
   "outputs": [
    {
     "data": {
      "text/plain": [
       "Organization\n",
       "  Colorado Concert Sound                                            1\n",
       "  Personal Opinions Inc.                                            1\n",
       "  Silicon Graphics, Inc.  Mountain View, CA                         2\n",
       "  University of Wisconsin Academic Computing Center                 4\n",
       "  University of Wisconsin Chemistry Computing Center                1\n",
       "  Wright State University                                          10\n",
       " \"A World of Information at your Fingertips\"                        1\n",
       " \"Computervision\"                                                   2\n",
       " \"Intergraph Electronics, Mountain View, CA\"                        4\n",
       " \"Lockheed Austin Division, 6800 Burleson Rd, Austin, TX 78744      1\n",
       " \"The Private Site of Manfredo Tichauer\"                            1\n",
       " \"Well, a head on top, an arm on each side, two legs....\"           2\n",
       " 'Operation: Mindcrime'                                             2\n",
       " 'Vilse i Pannkakan'-survivors Anonymous                            1\n",
       " (N.) To be organized.  But that's not important right now.....     1\n",
       " (Natl. Institutes of Health, Bethesda, MD)                         2\n",
       " (not the opinions of) Apple Computer, Inc.                         3\n",
       " ***                                                                1\n",
       " -                                                                  2\n",
       " -*-  Whiting Corporation, Harvey, Illinois  -*-                    2\n",
       " -> ESKIMO NORTH (206) For-Ever <-                                  2\n",
       " -S-LINK-> Public Mailbox, Braunschweig, Germany                    1\n",
       " .                                                                  2\n",
       " /etc/organization                                                 11\n",
       " /home/NEARnet/ejb/.organization                                    1\n",
       " /home/franks/.organization                                         1\n",
       " /home/math/calkin/.organization                                    1\n",
       " /home/staff/hjstein/.organization                                  1\n",
       " /homes/majors/stonea/.organization                                 1\n",
       " /s/bach/b/under/schwarte/.organization                             1\n",
       "                                                                   ..\n",
       " private COHERENT system                                            3\n",
       " random design -- \"Opinions, cheaply\"                               1\n",
       " school of Mathematics UNSW                                         1\n",
       " sdf public access Unix - Dallas, TX - 214/436-3281                 1\n",
       " sdf public access Unix - Dallas, TX.                               1\n",
       " sdf public access Unix, Dallas TX 214/436-3281                     4\n",
       " sgi                                                               67\n",
       " skulls 'r us                                                       4\n",
       " stanford                                                           2\n",
       " the HP Corporate notes server                                     13\n",
       " the ModemLink Network, Long Island, New York                       2\n",
       " the Polyhedron Group                                               1\n",
       " the Syllabub Sea                                                   2\n",
       " the University of Chicago                                          1\n",
       " the best minds of a generation, destroyed by madness               1\n",
       " trunking_fixed                                                     7\n",
       " unknown                                                            1\n",
       " unus orbis orans                                                   1\n",
       " upset                                                              2\n",
       " usd                                                                2\n",
       " uswest advanced technologies                                       3\n",
       " uwcc                                                               1\n",
       " very little                                                        1\n",
       " western geophysical exploration products                           2\n",
       " what, ME???  you must be joking.                                   3\n",
       " who, me?                                                           1\n",
       " worldbank.org                                                      1\n",
       " your service                                                       9\n",
       " zuma                                                               4\n",
       " {not speaking for the } National Naval Medical Center              1\n",
       "Name: Content, Length: 3348, dtype: int64"
      ]
     },
     "execution_count": 26,
     "metadata": {},
     "output_type": "execute_result"
    }
   ],
   "source": [
    "train_x.groupby('Organization').count()['Content']"
   ]
  },
  {
   "cell_type": "code",
   "execution_count": null,
   "metadata": {
    "collapsed": true
   },
   "outputs": [],
   "source": []
  }
 ],
 "metadata": {
  "kernelspec": {
   "display_name": "Python 2",
   "language": "python",
   "name": "python2"
  },
  "language_info": {
   "codemirror_mode": {
    "name": "ipython",
    "version": 2
   },
   "file_extension": ".py",
   "mimetype": "text/x-python",
   "name": "python",
   "nbconvert_exporter": "python",
   "pygments_lexer": "ipython2",
   "version": "2.7.13"
  }
 },
 "nbformat": 4,
 "nbformat_minor": 2
}
