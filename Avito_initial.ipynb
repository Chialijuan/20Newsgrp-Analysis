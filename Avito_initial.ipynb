{
 "cells": [
  {
   "cell_type": "markdown",
   "metadata": {},
   "source": [
    "Initial test of Avito dataset. Used the following features:\n",
    "1. parentCategoryID_x\n",
    "2. price_diff : Log of the absolute difference in prices between itemID_1 and itemID_2.\n",
    "3. title_desc_xy : Title and description of itemID_1 and itemID_2 concatenated together."
   ]
  },
  {
   "cell_type": "code",
   "execution_count": 23,
   "metadata": {
    "collapsed": true
   },
   "outputs": [],
   "source": [
    "import pandas as pd\n",
    "import matplotlib.pyplot as plt\n",
    "import sqlite3\n",
    "import math\n",
    "import numpy as np\n",
    "from sklearn.feature_extraction.text import CountVectorizer, TfidfVectorizer\n",
    "from gensim.similarities.docsim import Similarity\n",
    "from sklearn.pipeline import Pipeline, FeatureUnion\n",
    "from sklearn.linear_model import LogisticRegression\n",
    "from sklearn.base import TransformerMixin\n",
    "from sklearn.metrics import accuracy_score\n",
    "from sklearn.model_selection import GridSearchCV, KFold"
   ]
  },
  {
   "cell_type": "code",
   "execution_count": 24,
   "metadata": {
    "collapsed": true
   },
   "outputs": [],
   "source": [
    "iteminfo_train = pd.read_csv('ItemInfo_train.csv')\n",
    "#iteminfo_test = pd.read_csv('ItemInfo_test.csv')"
   ]
  },
  {
   "cell_type": "code",
   "execution_count": 25,
   "metadata": {
    "collapsed": true
   },
   "outputs": [],
   "source": [
    "itempairs_train = pd.read_csv('ItemPairs_train.csv')\n",
    "#itempairs_test = pd.read_csv('ItemPairs_test.csv')"
   ]
  },
  {
   "cell_type": "code",
   "execution_count": 26,
   "metadata": {
    "collapsed": true
   },
   "outputs": [],
   "source": [
    "location = pd.read_csv('Location.csv')\n",
    "category = pd.read_csv('Category.csv')"
   ]
  },
  {
   "cell_type": "code",
   "execution_count": 27,
   "metadata": {},
   "outputs": [
    {
     "data": {
      "text/plain": [
       "itemID_1            2991396\n",
       "itemID_2            2991396\n",
       "isDuplicate         2991396\n",
       "generationMethod    2991396\n",
       "dtype: int64"
      ]
     },
     "execution_count": 27,
     "metadata": {},
     "output_type": "execute_result"
    }
   ],
   "source": [
    "itempairs_train.count()"
   ]
  },
  {
   "cell_type": "code",
   "execution_count": 28,
   "metadata": {},
   "outputs": [
    {
     "data": {
      "text/plain": [
       "itemID          3344613\n",
       "categoryID      3344613\n",
       "title           3344612\n",
       "description     3344508\n",
       "images_array    2946588\n",
       "attrsJSON       3240625\n",
       "price           3022487\n",
       "locationID      3344613\n",
       "metroID         1100795\n",
       "lat             3344613\n",
       "lon             3344613\n",
       "dtype: int64"
      ]
     },
     "execution_count": 28,
     "metadata": {},
     "output_type": "execute_result"
    }
   ],
   "source": [
    "iteminfo_train.count()"
   ]
  },
  {
   "cell_type": "code",
   "execution_count": 29,
   "metadata": {},
   "outputs": [
    {
     "data": {
      "text/plain": [
       "categoryID          51\n",
       "parentCategoryID    51\n",
       "dtype: int64"
      ]
     },
     "execution_count": 29,
     "metadata": {},
     "output_type": "execute_result"
    }
   ],
   "source": [
    "category.count()"
   ]
  },
  {
   "cell_type": "code",
   "execution_count": 30,
   "metadata": {},
   "outputs": [
    {
     "name": "stdout",
     "output_type": "stream",
     "text": [
      "Length of ItemPairs_train.csv 2991396\n",
      "Length of ItemInfo_train.csv 3344613\n",
      "Length of Location.csv 3449\n",
      "Length of Category.csv 51\n"
     ]
    }
   ],
   "source": [
    "print 'Length of ItemPairs_train.csv ' + str(len(itempairs_train))\n",
    "print 'Length of ItemInfo_train.csv ' + str(len(iteminfo_train))\n",
    "print 'Length of Location.csv ' + str(len(location))\n",
    "print 'Length of Category.csv ' + str(len(category))"
   ]
  },
  {
   "cell_type": "code",
   "execution_count": 31,
   "metadata": {
    "scrolled": true
   },
   "outputs": [
    {
     "name": "stdout",
     "output_type": "stream",
     "text": [
      "itempairs_train dataframe\n",
      "   itemID_1  itemID_2  isDuplicate  generationMethod\n",
      "0         1   4112648            1                 1\n",
      "1         3   1991275            1                 1\n",
      "2         4   1223296            0                 1\n",
      "3         7   1058851            1                 1\n",
      "4         8   2161930            1                 1\n",
      "\n",
      "\n",
      "itemInfo_train dataframe\n",
      "   itemID  categoryID                                title  \\\n",
      "0       1          81                    Продам Камаз 6520   \n",
      "1       3          14                            Yamaha r6   \n",
      "2       4          84                       iPhone 3gs 8gb   \n",
      "3       7          84  Xiaomi Mi4 3гб RAM + 16гб ROM белый   \n",
      "4       8          39                       Лыжные ботинки   \n",
      "\n",
      "                                         description  \\\n",
      "0                          Продам Камаз 6520 20 тонн   \n",
      "1                                    Весь в тюнинге.   \n",
      "2  Телефон в хорошем состоянии, трещин и сколов н...   \n",
      "3  Отличный подарок на новый год от \"китайской ap...   \n",
      "4      Лыжные ботинки в хорошем состоянии, 34 размер   \n",
      "\n",
      "                                  images_array  \\\n",
      "0  1064094, 5252822, 6645873, 6960145, 9230265   \n",
      "1         11919573, 14412228, 3204180, 6646877   \n",
      "2                            14384831, 6102021   \n",
      "3                                          NaN   \n",
      "4                            13718854, 4787310   \n",
      "\n",
      "                                           attrsJSON     price  locationID  \\\n",
      "0                        {\"Вид техники\":\"Грузовики\"}  300000.0      648140   \n",
      "1  {\"Вид техники\":\"Мотоциклы\", \"Вид мотоцикла\":\"С...  300000.0      639040   \n",
      "2                          {\"Вид телефона\":\"iPhone\"}    3500.0      640650   \n",
      "3                    {\"Вид телефона\":\"Другие марки\"}   13500.0      662210   \n",
      "4                {\"Вид товара\":\"Зимние виды спорта\"}     500.0      624360   \n",
      "\n",
      "   metroID        lat        lon  \n",
      "0      NaN  64.686946  30.815924  \n",
      "1      NaN  55.678037  37.256548  \n",
      "2      NaN  56.239398  43.460458  \n",
      "3      NaN  55.777170  37.586194  \n",
      "4      NaN  55.777170  37.586194  \n",
      "\n",
      "\n",
      "location dataframe\n",
      "   locationID  regionID\n",
      "0      621551    621550\n",
      "1      621552    621550\n",
      "2      621553    621550\n",
      "3      621554    621550\n",
      "4      621555    621550\n",
      "\n",
      "\n",
      "itemPairs_train counts\n",
      "itemID_1            2991396\n",
      "itemID_2            2991396\n",
      "isDuplicate         2991396\n",
      "generationMethod    2991396\n",
      "dtype: int64\n",
      "\n",
      "\n",
      "location counts\n",
      "locationID    3449\n",
      "regionID      3449\n",
      "dtype: int64\n",
      "\n",
      "\n",
      "iteminfo_train counts\n",
      "itemID          3344613\n",
      "categoryID      3344613\n",
      "title           3344612\n",
      "description     3344508\n",
      "images_array    2946588\n",
      "attrsJSON       3240625\n",
      "price           3022487\n",
      "locationID      3344613\n",
      "metroID         1100795\n",
      "lat             3344613\n",
      "lon             3344613\n",
      "dtype: int64\n"
     ]
    }
   ],
   "source": [
    "print 'itempairs_train dataframe'\n",
    "print itempairs_train.head()\n",
    "print '\\n\\nitemInfo_train dataframe'\n",
    "print iteminfo_train.head()\n",
    "print '\\n\\nlocation dataframe'\n",
    "print location.head()\n",
    "print '\\n\\nitemPairs_train counts'\n",
    "print itempairs_train.count()\n",
    "print '\\n\\nlocation counts'\n",
    "print location.count()\n",
    "print '\\n\\niteminfo_train counts'\n",
    "print iteminfo_train.count()"
   ]
  },
  {
   "cell_type": "code",
   "execution_count": 32,
   "metadata": {
    "collapsed": true
   },
   "outputs": [],
   "source": [
    "iteminfo_train_loc = pd.merge(pd.merge(iteminfo_train, location, how = 'left', on = 'locationID'), category, how = 'left', on = 'categoryID')\n",
    "#iteminfo_test_loc = pd.merge(pd.merge(iteminfo_test, location, how = 'left', on = 'locationID'), category, how = 'left', on = 'categoryID')"
   ]
  },
  {
   "cell_type": "code",
   "execution_count": 33,
   "metadata": {
    "collapsed": true
   },
   "outputs": [],
   "source": [
    "x = pd.merge(pd.merge(itempairs_train, iteminfo_train_loc, how = 'left', left_on = 'itemID_1', right_on = 'itemID'), \n",
    "                    iteminfo_train_loc, how = 'left', left_on = 'itemID_2', right_on = 'itemID')\n",
    "#x_test = pd.merge(pd.merge(itempairs_test, iteminfo_test_loc, how = 'left', left_on = 'itemID_1', right_on = 'itemID'), \n",
    "#                    iteminfo_test_loc, how = 'left', left_on = 'itemID_2', right_on = 'itemID')"
   ]
  },
  {
   "cell_type": "code",
   "execution_count": 34,
   "metadata": {},
   "outputs": [
    {
     "data": {
      "text/plain": [
       "itemID_1              2991396\n",
       "itemID_2              2991396\n",
       "isDuplicate           2991396\n",
       "generationMethod      2991396\n",
       "itemID_x              2991396\n",
       "categoryID_x          2991396\n",
       "title_x               2991395\n",
       "description_x         2991344\n",
       "images_array_x        2713476\n",
       "attrsJSON_x           2885530\n",
       "price_x               2707502\n",
       "locationID_x          2991396\n",
       "metroID_x             1015627\n",
       "lat_x                 2991396\n",
       "lon_x                 2991396\n",
       "regionID_x            2991396\n",
       "parentCategoryID_x    2991396\n",
       "itemID_y              2991396\n",
       "categoryID_y          2991396\n",
       "title_y               2991396\n",
       "description_y         2991335\n",
       "images_array_y        2712759\n",
       "attrsJSON_y           2885530\n",
       "price_y               2707165\n",
       "locationID_y          2991396\n",
       "metroID_y             1015224\n",
       "lat_y                 2991396\n",
       "lon_y                 2991396\n",
       "regionID_y            2991396\n",
       "parentCategoryID_y    2991396\n",
       "dtype: int64"
      ]
     },
     "execution_count": 34,
     "metadata": {},
     "output_type": "execute_result"
    }
   ],
   "source": [
    "x.count()"
   ]
  },
  {
   "cell_type": "markdown",
   "metadata": {},
   "source": [
    "## Category"
   ]
  },
  {
   "cell_type": "code",
   "execution_count": 35,
   "metadata": {},
   "outputs": [
    {
     "name": "stdout",
     "output_type": "stream",
     "text": [
      "same_cat\n",
      "True    2991396\n",
      "Name: itemID_1, dtype: int64\n"
     ]
    }
   ],
   "source": [
    "x['same_cat'] = np.where(x.categoryID_x == x.categoryID_y, True, False)\n",
    "print x.groupby('same_cat').count()['itemID_1']"
   ]
  },
  {
   "cell_type": "code",
   "execution_count": 36,
   "metadata": {},
   "outputs": [
    {
     "data": {
      "text/plain": [
       "same_par_cat\n",
       "True    2991396\n",
       "Name: itemID_1, dtype: int64"
      ]
     },
     "execution_count": 36,
     "metadata": {},
     "output_type": "execute_result"
    }
   ],
   "source": [
    "x['same_par_cat'] = np.where(x.parentCategoryID_x == x.parentCategoryID_y, True, False)\n",
    "x.groupby('same_par_cat').count()['itemID_1']"
   ]
  },
  {
   "cell_type": "markdown",
   "metadata": {},
   "source": [
    "Since both items are sampled from the same category, we can drop one of the category columns."
   ]
  },
  {
   "cell_type": "markdown",
   "metadata": {},
   "source": [
    "## Price"
   ]
  },
  {
   "cell_type": "markdown",
   "metadata": {},
   "source": [
    "Create a new variable price_diff:\n",
    "$$price\\_diff = \\log(\\lvert x.price\\_x - x.price\\_y\\rvert)$$\n",
    "where NaN values are currently left as zeros."
   ]
  },
  {
   "cell_type": "code",
   "execution_count": 37,
   "metadata": {
    "collapsed": true
   },
   "outputs": [],
   "source": [
    "x['price_diff'] = abs(x.price_x - x.price_y).map(lambda x : 0 if np.isnan(x) else 0 if x == 0 else math.log(x))\n",
    "#x_test['price_diff'] = abs(x_test.price_x - x_test.price_y).map(lambda x : 0 if np.isnan(x) else 0 if x == 0 else math.log(x))"
   ]
  },
  {
   "cell_type": "code",
   "execution_count": 38,
   "metadata": {},
   "outputs": [
    {
     "data": {
      "image/png": "[encoded data removed]",
      "text/plain": [
       "<matplotlib.figure.Figure at 0x1eb1a58d0>"
      ]
     },
     "metadata": {},
     "output_type": "display_data"
    }
   ],
   "source": [
    "figure = plt.figure(figsize=(15,6))\n",
    "plt.hist(x.price_diff, bins = 50)\n",
    "plt.show()"
   ]
  },
  {
   "cell_type": "code",
   "execution_count": 39,
   "metadata": {},
   "outputs": [
    {
     "data": {
      "image/png": "[encoded data removed]",
      "text/plain": [
       "<matplotlib.figure.Figure at 0x13b33d3c8>"
      ]
     },
     "metadata": {},
     "output_type": "display_data"
    }
   ],
   "source": [
    "figure = plt.figure(figsize=(15,6))\n",
    "plt.hist(np.array(x.price_diff)[np.where(x.price_diff != 0)], bins = 50)\n",
    "plt.show()"
   ]
  },
  {
   "cell_type": "markdown",
   "metadata": {},
   "source": [
    "## Title and Description\n",
    "Combine both columns and transform into document term matrix"
   ]
  },
  {
   "cell_type": "code",
   "execution_count": 40,
   "metadata": {
    "collapsed": true
   },
   "outputs": [],
   "source": [
    "x['title_x'] = x.title_x.map(lambda x : '' if pd.isnull(x) else x)\n",
    "x['title_y'] = x.title_y.map(lambda x : '' if pd.isnull(x) else x)\n",
    "x['description_x'] = x.description_x.map(lambda x : '' if pd.isnull(x) else x)\n",
    "x['description_y'] = x.description_y.map(lambda x : '' if pd.isnull(x) else x)\n",
    "#x_test['title_x'] = x_test.title_x.map(lambda x : '' if pd.isnull(x) else x)\n",
    "#x_test['title_y'] = x_test.title_y.map(lambda x : '' if pd.isnull(x) else x)\n",
    "#x_test['description_x'] = x_test.description_x.map(lambda x : '' if pd.isnull(x) else x)\n",
    "#x_test['description_y'] = x_test.description_\n",
    "\n",
    "x['title_desc_x'] = x.title_x + x.description_x\n",
    "x['title_desc_y'] = x.title_y + x.description_y\n",
    "#x_test['title_desc_x'] = x_test.title_x + x_test.description_x\n",
    "#x_test['title_desc_y'] = x_test.title_y + x_test.description_y\n",
    "\n",
    "x['title_desc_xy'] = x.title_desc_x + x.title_desc_y"
   ]
  },
  {
   "cell_type": "code",
   "execution_count": 41,
   "metadata": {
    "collapsed": true
   },
   "outputs": [],
   "source": [
    "del x['itemID_1']\n",
    "del x['itemID_2']\n",
    "del x['itemID_x']\n",
    "del x['itemID_y']\n",
    "del x['categoryID_x']\n",
    "del x['categoryID_y']\n",
    "del x['parentCategoryID_y']\n",
    "del x['images_array_x']\n",
    "del x['images_array_y']\n",
    "del x['attrsJSON_x']\n",
    "del x['attrsJSON_y']\n",
    "del x['price_x']\n",
    "del x['price_y']\n",
    "del x['locationID_x']\n",
    "del x['locationID_y']\n",
    "del x['metroID_x']\n",
    "del x['metroID_y']\n",
    "del x['lat_x']\n",
    "del x['lat_y']\n",
    "del x['lon_x']\n",
    "del x['lon_y']\n",
    "del x['regionID_x']\n",
    "del x['regionID_y']\n",
    "del x['same_cat']\n",
    "del x['generationMethod']\n",
    "del x['title_x']\n",
    "del x['title_y']\n",
    "del x['description_x']\n",
    "del x['description_y']\n",
    "del x['title_desc_x']\n",
    "del x['title_desc_y']"
   ]
  },
  {
   "cell_type": "code",
   "execution_count": 42,
   "metadata": {},
   "outputs": [
    {
     "data": {
      "text/plain": [
       "isDuplicate           2991396\n",
       "parentCategoryID_x    2991396\n",
       "same_par_cat          2991396\n",
       "price_diff            2991396\n",
       "title_desc_xy         2991396\n",
       "dtype: int64"
      ]
     },
     "execution_count": 42,
     "metadata": {},
     "output_type": "execute_result"
    }
   ],
   "source": [
    "x.count()"
   ]
  },
  {
   "cell_type": "code",
   "execution_count": 43,
   "metadata": {
    "collapsed": true
   },
   "outputs": [],
   "source": [
    "class parCatIDTransformer(TransformerMixin):\n",
    "\n",
    "    def transform(self, X, **transform_params):\n",
    "        return pd.DataFrame(X.parentCategoryID_x)\n",
    "\n",
    "    def fit(self, X, y=None, **fit_params):\n",
    "        return self\n",
    "    \n",
    "class priceDiffTransformer(TransformerMixin):\n",
    "\n",
    "    def transform(self, X, **transform_params):\n",
    "        return pd.DataFrame(X.price_diff, columns = ['price_diff'])\n",
    "\n",
    "    def fit(self, X, y=None, **fit_params):\n",
    "        return self\n",
    "    \n",
    "class ContentTransformer(TransformerMixin):\n",
    "\n",
    "    def transform(self, X, **transform_params):\n",
    "        return X.title_desc_xy\n",
    "\n",
    "    def fit(self, X, y=None, **fit_params):\n",
    "        return self"
   ]
  },
  {
   "cell_type": "code",
   "execution_count": 44,
   "metadata": {
    "collapsed": true
   },
   "outputs": [],
   "source": [
    "count_vect = CountVectorizer()\n",
    "log_reg = LogisticRegression()"
   ]
  },
  {
   "cell_type": "code",
   "execution_count": 45,
   "metadata": {
    "collapsed": true
   },
   "outputs": [],
   "source": [
    "pipe_log = Pipeline([\n",
    "    ('features', FeatureUnion([\n",
    "        ('pipe_cont', Pipeline([\n",
    "            ('content', ContentTransformer()),\n",
    "            ('count_vect', CountVectorizer(ngram_range = (1, 2)))\n",
    "        ])),\n",
    "        ('price_diff', priceDiffTransformer()), \n",
    "        ('parentCategoryID_x', parCatIDTransformer())\n",
    "    ])),\n",
    "    ('log_reg', log_reg)])"
   ]
  },
  {
   "cell_type": "markdown",
   "metadata": {},
   "source": [
    "K-Fold CV to check validation and train accuracy"
   ]
  },
  {
   "cell_type": "code",
   "execution_count": 46,
   "metadata": {},
   "outputs": [
    {
     "name": "stdout",
     "output_type": "stream",
     "text": [
      "Test Accuracy: 0.787405562613\n",
      "Train Accuracy: 0.812376416354\n",
      "Test Accuracy: 0.787931717476\n",
      "Train Accuracy: 0.809591841937\n",
      "Test Accuracy: 0.791264610658\n",
      "Train Accuracy: 0.810602657538\n",
      "Test Accuracy: 0.787273161853\n",
      "Train Accuracy: 0.805328782504\n",
      "Test Accuracy: 0.789910727269\n",
      "Train Accuracy: 0.806805935523\n"
     ]
    }
   ],
   "source": [
    "kf = KFold(n_splits = 5, random_state = 1)\n",
    "train_score = []\n",
    "test_score = []\n",
    "for train_index, test_index in kf.split(x):\n",
    "    x_train, x_test = x.loc[train_index, :], x.loc[test_index, :]\n",
    "    pipe_log.fit(x_train.iloc[:, x_train.columns != 'isDuplicate'], x_train.isDuplicate)\n",
    "    pred_train = pipe_log.predict(x_train)\n",
    "    pred_test = pipe_log.predict(x_test)\n",
    "    train_score.append(pred_train)\n",
    "    test_score.append(pred_test)\n",
    "    print \"Test Accuracy:\", accuracy_score(x_test.isDuplicate, pred_test)\n",
    "    print \"Train Accuracy:\", accuracy_score(x_train.isDuplicate, pred_train)"
   ]
  },
  {
   "cell_type": "code",
   "execution_count": null,
   "metadata": {
    "collapsed": true
   },
   "outputs": [],
   "source": []
  }
 ],
 "metadata": {
  "kernelspec": {
   "display_name": "Python 2",
   "language": "python",
   "name": "python2"
  },
  "language_info": {
   "codemirror_mode": {
    "name": "ipython",
    "version": 2
   },
   "file_extension": ".py",
   "mimetype": "text/x-python",
   "name": "python",
   "nbconvert_exporter": "python",
   "pygments_lexer": "ipython2",
   "version": "2.7.13"
  }
 },
 "nbformat": 4,
 "nbformat_minor": 2
}
