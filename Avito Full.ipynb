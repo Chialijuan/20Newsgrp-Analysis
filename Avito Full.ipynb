{
 "cells": [
  {
   "cell_type": "code",
   "execution_count": 1,
   "metadata": {},
   "outputs": [
    {
     "name": "stderr",
     "output_type": "stream",
     "text": [
      "C:\\Users\\admin\\Anaconda2\\lib\\site-packages\\gensim\\utils.py:865: UserWarning: detected Windows; aliasing chunkize to chunkize_serial\n",
      "  warnings.warn(\"detected Windows; aliasing chunkize to chunkize_serial\")\n",
      "Using Theano backend.\n",
      "WARNING (theano.sandbox.cuda): The cuda backend is deprecated and will be removed in the next release (v0.10).  Please switch to the gpuarray backend. You can get more information about how to switch at this URL:\n",
      " https://github.com/Theano/Theano/wiki/Converting-to-the-new-gpu-back-end%28gpuarray%29\n",
      "\n",
      "Using gpu device 0: GeForce GTX 650 Ti (CNMeM is disabled, cuDNN not available)\n"
     ]
    }
   ],
   "source": [
    "import pandas as pd\n",
    "import matplotlib.pyplot as plt\n",
    "import sqlite3\n",
    "import math\n",
    "import numpy as np\n",
    "from sklearn.feature_extraction.text import CountVectorizer, TfidfVectorizer\n",
    "from gensim.similarities.docsim import Similarity\n",
    "from sklearn.pipeline import Pipeline, FeatureUnion\n",
    "from sklearn.linear_model import LogisticRegression\n",
    "from sklearn.base import TransformerMixin\n",
    "from sklearn.metrics import accuracy_score\n",
    "from sklearn.model_selection import GridSearchCV, KFold\n",
    "from gensim.models import Word2Vec, Doc2Vec\n",
    "from bs4 import BeautifulSoup\n",
    "import re\n",
    "import nltk.data\n",
    "import string\n",
    "from gensim.models.doc2vec import TaggedDocument\n",
    "from gensim import matutils\n",
    "from sklearn.metrics.pairwise import cosine_similarity\n",
    "import csv"
   ]
  },
  {
   "cell_type": "code",
   "execution_count": 2,
   "metadata": {
    "collapsed": true
   },
   "outputs": [],
   "source": [
    "iteminfo_train = pd.read_csv('ItemInfo_train.csv')\n",
    "#iteminfo_test = pd.read_csv('ItemInfo_test.csv')"
   ]
  },
  {
   "cell_type": "code",
   "execution_count": 3,
   "metadata": {
    "collapsed": true
   },
   "outputs": [],
   "source": [
    "itempairs_train = pd.read_csv('ItemPairs_train.csv')\n",
    "#itempairs_test = pd.read_csv('ItemPairs_test.csv')"
   ]
  },
  {
   "cell_type": "code",
   "execution_count": 4,
   "metadata": {
    "collapsed": true
   },
   "outputs": [],
   "source": [
    "location = pd.read_csv('Location.csv')\n",
    "category = pd.read_csv('Category.csv')"
   ]
  },
  {
   "cell_type": "code",
   "execution_count": 5,
   "metadata": {
    "collapsed": true
   },
   "outputs": [],
   "source": [
    "iteminfo_train_loc = pd.merge(pd.merge(iteminfo_train, location, how = 'left', on = 'locationID'), category, how = 'left', on = 'categoryID')\n",
    "#iteminfo_test_loc = pd.merge(pd.merge(iteminfo_test, location, how = 'left', on = 'locationID'), category, how = 'left', on = 'categoryID')"
   ]
  },
  {
   "cell_type": "code",
   "execution_count": 6,
   "metadata": {
    "collapsed": true
   },
   "outputs": [],
   "source": [
    "x = pd.merge(pd.merge(itempairs_train, iteminfo_train_loc, how = 'left', left_on = 'itemID_1', right_on = 'itemID'), \n",
    "                    iteminfo_train_loc, how = 'left', left_on = 'itemID_2', right_on = 'itemID')\n",
    "#x_test = pd.merge(pd.merge(itempairs_test, iteminfo_test_loc, how = 'left', left_on = 'itemID_1', right_on = 'itemID'), \n",
    "#                    iteminfo_test_loc, how = 'left', left_on = 'itemID_2', right_on = 'itemID')"
   ]
  },
  {
   "cell_type": "code",
   "execution_count": 7,
   "metadata": {
    "collapsed": true
   },
   "outputs": [],
   "source": [
    "x['title_x'] = x.title_x.map(lambda x : '' if pd.isnull(x) else x)\n",
    "x['title_y'] = x.title_y.map(lambda x : '' if pd.isnull(x) else x)\n",
    "x['description_x'] = x.description_x.map(lambda x : '' if pd.isnull(x) else x)\n",
    "x['description_y'] = x.description_y.map(lambda x : '' if pd.isnull(x) else x)\n",
    "#x_test['title_x'] = x_test.title_x.map(lambda x : '' if pd.isnull(x) else x)\n",
    "#x_test['title_y'] = x_test.title_y.map(lambda x : '' if pd.isnull(x) else x)\n",
    "#x_test['description_x'] = x_test.description_x.map(lambda x : '' if pd.isnull(x) else x)\n",
    "#x_test['description_y'] = x_test.description_y.map(lambda x : '' if pd.isnull(x) else x)"
   ]
  },
  {
   "cell_type": "code",
   "execution_count": 8,
   "metadata": {},
   "outputs": [
    {
     "data": {
      "image/png": "[encoded data removed]",
      "text/plain": [
       "<matplotlib.figure.Figure at 0xde630978>"
      ]
     },
     "metadata": {},
     "output_type": "display_data"
    }
   ],
   "source": [
    "x['price_diff'] = abs(x.price_x - x.price_y).map(lambda x : 0 if np.isnan(x) else 0 if x == 0 else math.log(x))\n",
    "figure = plt.figure(figsize=(15,6))\n",
    "plt.hist(x.price_diff, bins = 50)\n",
    "plt.show()"
   ]
  },
  {
   "cell_type": "code",
   "execution_count": 9,
   "metadata": {},
   "outputs": [
    {
     "data": {
      "image/png": "[encoded data removed]",
      "text/plain": [
       "<matplotlib.figure.Figure at 0xde8c48d0>"
      ]
     },
     "metadata": {},
     "output_type": "display_data"
    }
   ],
   "source": [
    "figure = plt.figure(figsize=(15,6))\n",
    "plt.hist(np.array(x.price_diff)[np.where(x.price_diff != 0)], bins = 50)\n",
    "plt.show()"
   ]
  },
  {
   "cell_type": "markdown",
   "metadata": {},
   "source": [
    "## Images\n",
    "Finding difference in number of images between the two items"
   ]
  },
  {
   "cell_type": "code",
   "execution_count": 9,
   "metadata": {
    "collapsed": true
   },
   "outputs": [],
   "source": [
    "x['images_array_x'] =  x['images_array_x'].apply(lambda s : len(s.split()) if isinstance(s, str) else 0)\n",
    "x['images_array_y'] =  x['images_array_y'].apply(lambda s : len(s.split()) if isinstance(s, str) else 0)\n",
    "x['images_num_diff'] = x[['images_array_x', 'images_array_y']].apply(lambda s: abs(s[0] - s[1]), axis = 1)"
   ]
  },
  {
   "cell_type": "code",
   "execution_count": 19,
   "metadata": {},
   "outputs": [
    {
     "data": {
      "text/plain": [
       "images_num_diff\n",
       "0     1715706\n",
       "1      699135\n",
       "2      304168\n",
       "3      145356\n",
       "4       81630\n",
       "5       18942\n",
       "6        7471\n",
       "7        5272\n",
       "8        3632\n",
       "9        2861\n",
       "10       3299\n",
       "11        818\n",
       "12        770\n",
       "13        547\n",
       "14        448\n",
       "15        353\n",
       "16        231\n",
       "17        202\n",
       "18        152\n",
       "19        165\n",
       "20        238\n",
       "Name: itemID_1, dtype: int64"
      ]
     },
     "execution_count": 19,
     "metadata": {},
     "output_type": "execute_result"
    }
   ],
   "source": [
    "x.groupby('images_num_diff').count()['itemID_1']"
   ]
  },
  {
   "cell_type": "code",
   "execution_count": 20,
   "metadata": {},
   "outputs": [
    {
     "data": {
      "text/plain": [
       "<matplotlib.figure.Figure at 0xdf3f7940>"
      ]
     },
     "metadata": {},
     "output_type": "display_data"
    },
    {
     "data": {
      "image/png": "[encoded data removed]",
      "text/plain": [
       "<matplotlib.figure.Figure at 0x113e5466a0>"
      ]
     },
     "metadata": {},
     "output_type": "display_data"
    }
   ],
   "source": [
    "figure = plt.figure(figsize=(15,6))\n",
    "images_num_diff_counts = x.groupby('images_num_diff').count()['itemID_1']\n",
    "plt.bar(range(len(images_num_diff_counts)), images_num_diff_counts)\n",
    "plt.show()"
   ]
  },
  {
   "cell_type": "markdown",
   "metadata": {},
   "source": [
    "## Computing Similarity"
   ]
  },
  {
   "cell_type": "code",
   "execution_count": 10,
   "metadata": {
    "collapsed": true
   },
   "outputs": [],
   "source": [
    "def clean_text(document):    \n",
    "    # Removes punctuations\n",
    "    document = document.translate(None, string.punctuation)\n",
    "    \n",
    "    # Change to lowercase\n",
    "    document = document.lower()\n",
    "    \n",
    "    # Removes newline characters\n",
    "    document = ' '.join(document.split('\\n'))\n",
    "    \n",
    "    # Replace multiple spaces with one space\n",
    "    document = ' '.join(document.split())\n",
    "    #document = nlp(unicode(document))\n",
    "    \n",
    "    return document\n",
    "\n",
    "def word_vec(x, model, num_features):\n",
    "    try:\n",
    "        a = model[x]\n",
    "        b = 1\n",
    "    except KeyError:\n",
    "        a = np.zeros(num_features)\n",
    "        b = 0\n",
    "    return [a,b]\n",
    "\n",
    "def makeFeatureVec(words, model, num_features):\n",
    "    # Function to average all of the word vectors in a given\n",
    "    # paragraph\n",
    "    #\n",
    "    # Pre-initialize an empty numpy array (for speed)\n",
    "    featureVec = np.zeros((num_features,),dtype=\"float32\")\n",
    "    #\n",
    "    nwords = 0.\n",
    "    #\n",
    "    # Loop over each word in the review and, if it is in the model's\n",
    "    # vocaublary, add its feature vector to the total\n",
    "    \n",
    "    for word in words:\n",
    "        a, b = word_vec(word, model, num_features)\n",
    "        nwords = nwords + b\n",
    "        featureVec = np.add(featureVec, a)\n",
    "    # \n",
    "    # Divide the result by the number of words to get the average\n",
    "    if nwords != 0:\n",
    "        featureVec = np.divide(featureVec, nwords)\n",
    "    return featureVec"
   ]
  },
  {
   "cell_type": "code",
   "execution_count": 11,
   "metadata": {
    "scrolled": true
   },
   "outputs": [
    {
     "name": "stdout",
     "output_type": "stream",
     "text": [
      "10\n",
      "500000\n",
      "1000000\n",
      "1500000\n",
      "2000000\n"
     ]
    }
   ],
   "source": [
    "# Word2Vec\n",
    "sentences_desc_x = []\n",
    "sentences_desc_y = []\n",
    "for i in range(len(x.description_x)):\n",
    "    if i in [10, 500000, 1000000, 1500000, 2000000]:\n",
    "        print i\n",
    "    sentences_desc_x.append(clean_text(x.description_x[i]))\n",
    "    sentences_desc_y.append(clean_text(x.description_y[i]))\n",
    "pd.DataFrame(sentences_desc_x, columns = ['sentences_desc_x']).to_csv('sentences_desc_x.csv')\n",
    "pd.DataFrame(sentences_desc_y, columns = ['sentences_desc_y']).to_csv('sentences_desc_y.csv')\n",
    "del sentences_desc_x\n",
    "del sentences_desc_y"
   ]
  },
  {
   "cell_type": "code",
   "execution_count": 27,
   "metadata": {},
   "outputs": [
    {
     "name": "stdout",
     "output_type": "stream",
     "text": [
      "10\n",
      "500000\n",
      "1000000\n",
      "1500000\n",
      "2000000\n"
     ]
    }
   ],
   "source": [
    "sentences_title_x = []\n",
    "sentences_title_y = []\n",
    "for i in range(len(x.title_x)):\n",
    "    if i in [10, 500000, 1000000, 1500000, 2000000]:\n",
    "        print i\n",
    "    sentences_title_x.append(clean_text(x.title_x[i]))\n",
    "    sentences_title_y.append(clean_text(x.title_y[i]))\n",
    "pd.DataFrame(sentences_title_x, columns = ['sentences_title_x']).to_csv('sentences_title_x.csv')\n",
    "pd.DataFrame(sentences_title_y, columns = ['sentences_title_y']).to_csv('sentences_title_y.csv')\n",
    "del sentences_title_x\n",
    "del sentences_title_y"
   ]
  },
  {
   "cell_type": "code",
   "execution_count": 26,
   "metadata": {
    "collapsed": true
   },
   "outputs": [],
   "source": [
    "new_x = pd.DataFrame(np.column_stack([x.images_num_diff, x.price_diff, x.parentCategoryID_x, x.isDuplicate]), columns = ['images_num_diff', 'price_diff', 'parentCategoryID_x', 'isDuplicate'])\n",
    "new_x.to_csv('new_x.csv')\n",
    "del new_x"
   ]
  },
  {
   "cell_type": "code",
   "execution_count": 11,
   "metadata": {
    "collapsed": true
   },
   "outputs": [],
   "source": [
    "sentences_desc_x = pd.read_csv('sentences_desc_x.csv')\n",
    "sentences_desc_y = pd.read_csv('sentences_desc_y.csv')\n",
    "sentences_title_x = pd.read_csv('sentences_title_x.csv')\n",
    "sentences_title_y = pd.read_csv('sentences_title_y.csv')\n",
    "x = pd.read_csv('new_x.csv')"
   ]
  },
  {
   "cell_type": "code",
   "execution_count": 12,
   "metadata": {
    "collapsed": true
   },
   "outputs": [],
   "source": [
    "del sentences_desc_x['Unnamed: 0']\n",
    "del sentences_desc_y['Unnamed: 0']\n",
    "del sentences_title_x['Unnamed: 0']\n",
    "del sentences_title_y['Unnamed: 0']\n",
    "del x['Unnamed: 0']"
   ]
  },
  {
   "cell_type": "code",
   "execution_count": 13,
   "metadata": {},
   "outputs": [
    {
     "name": "stdout",
     "output_type": "stream",
     "text": [
      "w2v_x\n",
      "w2v_y\n",
      "w2v_x\n",
      "w2v_y\n",
      "cos_sim_x\n",
      "Test Accuracy: 0.668372668316\n",
      "Train Accuracy: 0.66837420334\n"
     ]
    },
    {
     "ename": "AttributeError",
     "evalue": "'numpy.ndarray' object has no attribute 'sentences_desc_x'",
     "output_type": "error",
     "traceback": [
      "\u001b[1;31m---------------------------------------------------------------------------\u001b[0m",
      "\u001b[1;31mAttributeError\u001b[0m                            Traceback (most recent call last)",
      "\u001b[1;32m<ipython-input-13-d5e62857508f>\u001b[0m in \u001b[0;36m<module>\u001b[1;34m()\u001b[0m\n\u001b[0;32m      5\u001b[0m \u001b[0mi\u001b[0m \u001b[1;33m=\u001b[0m \u001b[1;36m0\u001b[0m\u001b[1;33m\u001b[0m\u001b[0m\n\u001b[0;32m      6\u001b[0m \u001b[1;32mfor\u001b[0m \u001b[0mtrain_index\u001b[0m\u001b[1;33m,\u001b[0m \u001b[0mtest_index\u001b[0m \u001b[1;32min\u001b[0m \u001b[0mkf\u001b[0m\u001b[1;33m.\u001b[0m\u001b[0msplit\u001b[0m\u001b[1;33m(\u001b[0m\u001b[0mx\u001b[0m\u001b[1;33m)\u001b[0m\u001b[1;33m:\u001b[0m\u001b[1;33m\u001b[0m\u001b[0m\n\u001b[1;32m----> 7\u001b[1;33m     \u001b[0msentences_desc_x\u001b[0m \u001b[1;33m=\u001b[0m \u001b[0mnp\u001b[0m\u001b[1;33m.\u001b[0m\u001b[0marray\u001b[0m\u001b[1;33m(\u001b[0m\u001b[0msentences_desc_x\u001b[0m\u001b[1;33m.\u001b[0m\u001b[0msentences_desc_x\u001b[0m\u001b[1;33m.\u001b[0m\u001b[0mmap\u001b[0m\u001b[1;33m(\u001b[0m\u001b[1;32mlambda\u001b[0m \u001b[0mx\u001b[0m \u001b[1;33m:\u001b[0m \u001b[0mx\u001b[0m\u001b[1;33m.\u001b[0m\u001b[0msplit\u001b[0m\u001b[1;33m(\u001b[0m\u001b[1;33m)\u001b[0m \u001b[1;32mif\u001b[0m \u001b[0misinstance\u001b[0m\u001b[1;33m(\u001b[0m\u001b[0mx\u001b[0m\u001b[1;33m,\u001b[0m \u001b[0mbasestring\u001b[0m\u001b[1;33m)\u001b[0m \u001b[1;32melse\u001b[0m \u001b[0mstr\u001b[0m\u001b[1;33m(\u001b[0m\u001b[0mx\u001b[0m\u001b[1;33m)\u001b[0m\u001b[1;33m)\u001b[0m\u001b[1;33m)\u001b[0m\u001b[1;33m\u001b[0m\u001b[0m\n\u001b[0m\u001b[0;32m      8\u001b[0m     \u001b[0msentences_desc_y\u001b[0m \u001b[1;33m=\u001b[0m \u001b[0mnp\u001b[0m\u001b[1;33m.\u001b[0m\u001b[0marray\u001b[0m\u001b[1;33m(\u001b[0m\u001b[0msentences_desc_y\u001b[0m\u001b[1;33m.\u001b[0m\u001b[0msentences_desc_y\u001b[0m\u001b[1;33m.\u001b[0m\u001b[0mmap\u001b[0m\u001b[1;33m(\u001b[0m\u001b[1;32mlambda\u001b[0m \u001b[0mx\u001b[0m \u001b[1;33m:\u001b[0m \u001b[0mx\u001b[0m\u001b[1;33m.\u001b[0m\u001b[0msplit\u001b[0m\u001b[1;33m(\u001b[0m\u001b[1;33m)\u001b[0m \u001b[1;32mif\u001b[0m \u001b[0misinstance\u001b[0m\u001b[1;33m(\u001b[0m\u001b[0mx\u001b[0m\u001b[1;33m,\u001b[0m \u001b[0mbasestring\u001b[0m\u001b[1;33m)\u001b[0m \u001b[1;32melse\u001b[0m \u001b[0mstr\u001b[0m\u001b[1;33m(\u001b[0m\u001b[0mx\u001b[0m\u001b[1;33m)\u001b[0m\u001b[1;33m)\u001b[0m\u001b[1;33m)\u001b[0m\u001b[1;33m\u001b[0m\u001b[0m\n\u001b[0;32m      9\u001b[0m     \u001b[0msentences_title_x\u001b[0m \u001b[1;33m=\u001b[0m \u001b[0mnp\u001b[0m\u001b[1;33m.\u001b[0m\u001b[0marray\u001b[0m\u001b[1;33m(\u001b[0m\u001b[0msentences_title_x\u001b[0m\u001b[1;33m.\u001b[0m\u001b[0msentences_title_x\u001b[0m\u001b[1;33m.\u001b[0m\u001b[0mmap\u001b[0m\u001b[1;33m(\u001b[0m\u001b[1;32mlambda\u001b[0m \u001b[0mx\u001b[0m \u001b[1;33m:\u001b[0m \u001b[0mx\u001b[0m\u001b[1;33m.\u001b[0m\u001b[0msplit\u001b[0m\u001b[1;33m(\u001b[0m\u001b[1;33m)\u001b[0m \u001b[1;32mif\u001b[0m \u001b[0misinstance\u001b[0m\u001b[1;33m(\u001b[0m\u001b[0mx\u001b[0m\u001b[1;33m,\u001b[0m \u001b[0mbasestring\u001b[0m\u001b[1;33m)\u001b[0m \u001b[1;32melse\u001b[0m \u001b[0mstr\u001b[0m\u001b[1;33m(\u001b[0m\u001b[0mx\u001b[0m\u001b[1;33m)\u001b[0m\u001b[1;33m)\u001b[0m\u001b[1;33m)\u001b[0m\u001b[1;33m\u001b[0m\u001b[0m\n",
      "\u001b[1;31mAttributeError\u001b[0m: 'numpy.ndarray' object has no attribute 'sentences_desc_x'"
     ]
    }
   ],
   "source": [
    "kf = KFold(n_splits = 5, random_state = 1)\n",
    "train_score = []\n",
    "test_score = []\n",
    "log_reg = LogisticRegression()\n",
    "i = 0\n",
    "sentences_desc_x = np.array(sentences_desc_x.sentences_desc_x.map(lambda x : x.split() if isinstance(x, basestring) else str(x)))\n",
    "sentences_desc_y = np.array(sentences_desc_y.sentences_desc_y.map(lambda x : x.split() if isinstance(x, basestring) else str(x)))\n",
    "sentences_title_x = np.array(sentences_title_x.sentences_title_x.map(lambda x : x.split() if isinstance(x, basestring) else str(x)))\n",
    "sentences_title_y = np.array(sentences_title_y.sentences_title_y.map(lambda x : x.split() if isinstance(x, basestring) else str(x)))\n"
   ]
  },
  {
   "cell_type": "code",
   "execution_count": null,
   "metadata": {},
   "outputs": [
    {
     "name": "stdout",
     "output_type": "stream",
     "text": [
      "w2v_x\n",
      "w2v_y\n",
      "w2v_x\n",
      "w2v_y\n",
      "cos_sim_x\n",
      "Test Accuracy: 0.66829578124\n",
      "Train Accuracy: 0.668328656028\n",
      "w2v_x\n",
      "w2v_y\n",
      "w2v_x\n",
      "w2v_y\n",
      "cos_sim_x\n",
      "Test Accuracy: 0.668286869504\n",
      "Train Accuracy: 0.668633418257\n",
      "w2v_x\n",
      "w2v_y\n",
      "w2v_x\n",
      "w2v_y\n",
      "cos_sim_x\n"
     ]
    }
   ],
   "source": [
    "for train_index, test_index in kf.split(x):\n",
    "    sentences_desc_x_train = sentences_desc_x[train_index].tolist()\n",
    "    sentences_desc_y_train = sentences_desc_y[train_index].tolist()\n",
    "    sentences_desc_x_test = sentences_desc_x[test_index].tolist()\n",
    "    sentences_desc_y_test = sentences_desc_y[test_index].tolist()\n",
    "    sentences_title_x_train = sentences_title_x[train_index].tolist()\n",
    "    sentences_title_y_train = sentences_title_y[train_index].tolist()\n",
    "    sentences_title_x_test = sentences_title_x[test_index].tolist()\n",
    "    sentences_title_y_test = sentences_title_y[test_index].tolist()\n",
    "    print 'w2v_x'\n",
    "    model_desc_x = Word2Vec(sentences_desc_x_train, min_count = 1, size = 50)\n",
    "    model_desc_x.save('model_desc_x')\n",
    "    print 'w2v_y'\n",
    "    model_desc_y = Word2Vec(sentences_desc_y_train, min_count = 1, size = 50)\n",
    "    model_desc_y.save('model_desc_x')\n",
    "    print 'w2v_x'\n",
    "    model_title_x = Word2Vec(sentences_title_x_train, min_count = 1, size = 50)\n",
    "    model_title_x.save('model_desc_x')\n",
    "    print 'w2v_y'\n",
    "    model_title_y = Word2Vec(sentences_title_y_train, min_count = 1, size = 50)\n",
    "    model_title_y.save('model_desc_x')\n",
    "    print 'cos_sim_x'\n",
    "    x_train, x_test = x.loc[train_index, :], x.loc[test_index, :]\n",
    "    cos_sim_desc_train = []\n",
    "    cos_sim_desc_test = []\n",
    "    num_features = model_desc_x.wv.syn0.shape[1]\n",
    "    ofile = open('C:\\\\Users\\\\admin\\Desktop\\\\Training\\\\Avito\\\\cos_sim_desc_train.csv', 'wb')\n",
    "    writer = csv.writer(ofile)\n",
    "    writer.writerow(['cos_sim_desc_train'])\n",
    "    cos_sim_desc_train = []\n",
    "    for i in range(len(sentences_desc_x_train)):\n",
    "        cos_sim = cosine_similarity(np.array([makeFeatureVec(sentences_desc_x_train[i], model_desc_x, num_features),\n",
    "                                                        makeFeatureVec(sentences_desc_y_train[i], model_desc_y, num_features)]))[1, 0]\n",
    "        cos_sim_desc_train.append(cos_sim)\n",
    "        writer.writerow([cos_sim])\n",
    "    ofile.close()\n",
    "    ofile = open('C:\\\\Users\\\\admin\\Desktop\\\\Training\\\\Avito\\\\cos_sim_desc_test.csv', 'wb')\n",
    "    writer = csv.writer(ofile)\n",
    "    writer.writerow(['cos_sim_desc_test'])\n",
    "    for i in range(len(sentences_desc_x_test)):\n",
    "        cos_sim = cosine_similarity(np.array([makeFeatureVec(sentences_desc_x_test[i], model_desc_x, num_features),\n",
    "                                                        makeFeatureVec(sentences_desc_y_test[i], model_desc_y, num_features)]))[1, 0]\n",
    "        writer.writerow([cos_sim])\n",
    "        cos_sim_desc_test.append(cos_sim)\n",
    "    ofile.close()\n",
    "    \n",
    "    cos_sim_title_train = []\n",
    "    cos_sim_title_test = []\n",
    "    num_features = model_desc_x.wv.syn0.shape[1]\n",
    "    ofile = open('C:\\\\Users\\\\admin\\Desktop\\\\Training\\\\Avito\\\\cos_sim_title_train.csv', 'wb')\n",
    "    writer = csv.writer(ofile)\n",
    "    writer.writerow(['cos_sim_title_train'])\n",
    "    for i in range(len(sentences_title_x_train)):\n",
    "        cos_sim = cosine_similarity(np.array([makeFeatureVec(sentences_title_x_train[i], model_title_x, num_features),\n",
    "                                                        makeFeatureVec(sentences_title_y_train[i], model_title_y, num_features)]))[1, 0]\n",
    "        writer.writerow([cos_sim])\n",
    "        cos_sim_title_train.append(cos_sim)\n",
    "\n",
    "    ofile.close()\n",
    "    ofile = open('C:\\\\Users\\\\admin\\Desktop\\\\Training\\\\Avito\\\\cos_sim_title_test.csv', 'wb')\n",
    "    writer = csv.writer(ofile)\n",
    "    writer.writerow(['cos_sim_title_test'])\n",
    "    for i in range(len(sentences_desc_x_test)):\n",
    "        cos_sim = cosine_similarity(np.array([makeFeatureVec(sentences_title_x_test[i], model_title_x, num_features),\n",
    "                                                        makeFeatureVec(sentences_title_y_test[i], model_title_y, num_features)]))[1, 0]\n",
    "        writer.writerow([cos_sim])\n",
    "        cos_sim_title_test.append(cos_sim)\n",
    "    ofile.close()\n",
    "    \n",
    "    #pd.DataFrame(cos_sim_desc_train).to_csv('cos_sim_desc_train' + str(i) + '.csv')\n",
    "    #pd.DataFrame(cos_sim_desc_train).to_csv('cos_sim_desc_test' + str(i) + '.csv')\n",
    "    #pd.DataFrame(cos_sim_desc_train).to_csv('cos_sim_title_train' + str(i) + '.csv')\n",
    "    #pd.DataFrame(cos_sim_desc_train).to_csv('cos_sim_title_test' + str(i) + '.csv')\n",
    "    i = i + 1\n",
    "    train_x_full = pd.DataFrame(np.column_stack([cos_sim_desc_train, cos_sim_title_train, x_train.price_diff, x_train.images_num_diff, x_train.parentCategoryID_x]))\n",
    "    train_x_full.to_csv('train_x_full.csv')\n",
    "    test_x_full = pd.DataFrame(np.column_stack([cos_sim_desc_test, cos_sim_title_test, x_test.price_diff, x_test.images_num_diff, x_test.parentCategoryID_x]))\n",
    "    test_x_full.to_csv('test_x_full.csv')\n",
    "    log_reg.fit(train_x_full, np.array(x_train.isDuplicate))\n",
    "    pred_train = log_reg.predict(train_x_full)\n",
    "    pred_test = log_reg.predict(test_x_full)\n",
    "    train_score.append(pred_train)\n",
    "    test_score.append(pred_test)\n",
    "    print \"Test Accuracy:\", accuracy_score(x_test.isDuplicate, pred_test)\n",
    "    print \"Train Accuracy:\", accuracy_score(x_train.isDuplicate, pred_train)"
   ]
  },
  {
   "cell_type": "code",
   "execution_count": 29,
   "metadata": {
    "collapsed": true
   },
   "outputs": [],
   "source": [
    "del sentences_desc_x \n",
    "del sentences_desc_y \n",
    "del sentences_title_x \n",
    "del sentences_title_y \n",
    "del sentences_desc_x_train\n",
    "del sentences_desc_y_train\n",
    "del sentences_desc_x_test \n",
    "del sentences_desc_y_test \n",
    "del sentences_title_x_train\n",
    "del sentences_title_y_train\n",
    "del sentences_title_x_test \n",
    "del sentences_title_y_test "
   ]
  },
  {
   "cell_type": "code",
   "execution_count": 25,
   "metadata": {},
   "outputs": [
    {
     "name": "stdout",
     "output_type": "stream",
     "text": [
      "81\n"
     ]
    }
   ],
   "source": [
    "for i in range(100):\n",
    "    if cosine_similarity(np.array([makeFeatureVec(sentences_desc_x_train[i], model_title_x, num_features),\n",
    "                                                        makeFeatureVec(sentences_desc_x_train[i], model_title_y, num_features)]))[1, 0] == 0:\n",
    "        print i"
   ]
  },
  {
   "cell_type": "code",
   "execution_count": null,
   "metadata": {
    "collapsed": true
   },
   "outputs": [],
   "source": []
  }
 ],
 "metadata": {
  "kernelspec": {
   "display_name": "Python 2",
   "language": "python",
   "name": "python2"
  },
  "language_info": {
   "codemirror_mode": {
    "name": "ipython",
    "version": 2
   },
   "file_extension": ".py",
   "mimetype": "text/x-python",
   "name": "python",
   "nbconvert_exporter": "python",
   "pygments_lexer": "ipython2",
   "version": "2.7.13"
  }
 },
 "nbformat": 4,
 "nbformat_minor": 2
}
