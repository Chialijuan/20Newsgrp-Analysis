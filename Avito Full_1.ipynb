{
 "cells": [
  {
   "cell_type": "code",
   "execution_count": 10,
   "metadata": {
    "collapsed": true
   },
   "outputs": [],
   "source": [
    "import pandas as pd\n",
    "import matplotlib.pyplot as plt\n",
    "import sqlite3\n",
    "import math\n",
    "import numpy as np\n",
    "from sklearn.feature_extraction.text import CountVectorizer, TfidfVectorizer\n",
    "from gensim.similarities.docsim import Similarity\n",
    "from sklearn.pipeline import Pipeline, FeatureUnion\n",
    "from sklearn.linear_model import LogisticRegression\n",
    "from sklearn.base import TransformerMixin\n",
    "from sklearn.metrics import accuracy_score\n",
    "from sklearn.model_selection import GridSearchCV, KFold\n",
    "from gensim.models import Word2Vec, Doc2Vec\n",
    "from bs4 import BeautifulSoup\n",
    "import re\n",
    "import nltk.data\n",
    "import string\n",
    "from gensim.models.doc2vec import TaggedDocument\n",
    "from gensim.utils import simple_preprocess\n",
    "from gensim import matutils\n",
    "from sklearn.metrics.pairwise import cosine_similarity\n",
    "from gensim.models.keyedvectors import KeyedVectors"
   ]
  },
  {
   "cell_type": "code",
   "execution_count": 3,
   "metadata": {
    "collapsed": true
   },
   "outputs": [],
   "source": [
    "iteminfo_train = pd.read_csv('ItemInfo_train.csv')\n",
    "#iteminfo_test = pd.read_csv('ItemInfo_test.csv')"
   ]
  },
  {
   "cell_type": "code",
   "execution_count": 4,
   "metadata": {
    "collapsed": true
   },
   "outputs": [],
   "source": [
    "itempairs_train = pd.read_csv('ItemPairs_train.csv')\n",
    "#itempairs_test = pd.read_csv('ItemPairs_test.csv')"
   ]
  },
  {
   "cell_type": "code",
   "execution_count": 5,
   "metadata": {
    "collapsed": true
   },
   "outputs": [],
   "source": [
    "location = pd.read_csv('Location.csv')\n",
    "category = pd.read_csv('Category.csv')"
   ]
  },
  {
   "cell_type": "code",
   "execution_count": 6,
   "metadata": {
    "collapsed": true
   },
   "outputs": [],
   "source": [
    "iteminfo_train_loc = pd.merge(pd.merge(iteminfo_train, location, how = 'left', on = 'locationID'), category, how = 'left', on = 'categoryID')\n",
    "#iteminfo_test_loc = pd.merge(pd.merge(iteminfo_test, location, how = 'left', on = 'locationID'), category, how = 'left', on = 'categoryID')"
   ]
  },
  {
   "cell_type": "code",
   "execution_count": 7,
   "metadata": {
    "collapsed": true
   },
   "outputs": [],
   "source": [
    "x = pd.merge(pd.merge(itempairs_train, iteminfo_train_loc, how = 'left', left_on = 'itemID_1', right_on = 'itemID'), \n",
    "                    iteminfo_train_loc, how = 'left', left_on = 'itemID_2', right_on = 'itemID')\n",
    "#x_test = pd.merge(pd.merge(itempairs_test, iteminfo_test_loc, how = 'left', left_on = 'itemID_1', right_on = 'itemID'), \n",
    "#                    iteminfo_test_loc, how = 'left', left_on = 'itemID_2', right_on = 'itemID')"
   ]
  },
  {
   "cell_type": "code",
   "execution_count": 8,
   "metadata": {
    "collapsed": true
   },
   "outputs": [],
   "source": [
    "x['title_x'] = x.title_x.map(lambda x : '' if pd.isnull(x) else x)\n",
    "x['title_y'] = x.title_y.map(lambda x : '' if pd.isnull(x) else x)\n",
    "x['description_x'] = x.description_x.map(lambda x : '' if pd.isnull(x) else x)\n",
    "x['description_y'] = x.description_y.map(lambda x : '' if pd.isnull(x) else x)\n",
    "#x_test['title_x'] = x_test.title_x.map(lambda x : '' if pd.isnull(x) else x)\n",
    "#x_test['title_y'] = x_test.title_y.map(lambda x : '' if pd.isnull(x) else x)\n",
    "#x_test['description_x'] = x_test.description_x.map(lambda x : '' if pd.isnull(x) else x)\n",
    "#x_test['description_y'] = x_test.description_y.map(lambda x : '' if pd.isnull(x) else x)"
   ]
  },
  {
   "cell_type": "code",
   "execution_count": 8,
   "metadata": {},
   "outputs": [
    {
     "data": {
      "image/png": "[encoded data removed]",
      "text/plain": [
       "<matplotlib.figure.Figure at 0x1d3a7518>"
      ]
     },
     "metadata": {},
     "output_type": "display_data"
    }
   ],
   "source": [
    "x['price_diff'] = abs(x.price_x - x.price_y).map(lambda x : 0 if np.isnan(x) else 0 if x == 0 else math.log(x))\n",
    "figure = plt.figure(figsize=(15,6))\n",
    "plt.hist(x.price_diff, bins = 50)\n",
    "plt.show()"
   ]
  },
  {
   "cell_type": "code",
   "execution_count": null,
   "metadata": {
    "collapsed": true
   },
   "outputs": [],
   "source": [
    "figure = plt.figure(figsize=(15,6))\n",
    "plt.hist(np.array(x.price_diff)[np.where(x.price_diff != 0)], bins = 50)\n",
    "plt.show()"
   ]
  },
  {
   "cell_type": "markdown",
   "metadata": {},
   "source": [
    "## Images\n",
    "Finding difference in number of images between the two items"
   ]
  },
  {
   "cell_type": "code",
   "execution_count": 54,
   "metadata": {
    "collapsed": true
   },
   "outputs": [],
   "source": [
    "x['images_array_x'] =  x['images_array_x'].apply(lambda s : len(s.split()) if isinstance(s, str) else 0)\n",
    "x['images_array_y'] =  x['images_array_y'].apply(lambda s : len(s.split()) if isinstance(s, str) else 0)\n",
    "x['images_num_diff'] = x[['images_array_x', 'images_array_y']].apply(lambda s: abs(s[0] - s[1]), axis = 1)"
   ]
  },
  {
   "cell_type": "code",
   "execution_count": null,
   "metadata": {
    "collapsed": true
   },
   "outputs": [],
   "source": [
    "x.groupby('images_num_diff').count()['itemID_1']"
   ]
  },
  {
   "cell_type": "code",
   "execution_count": null,
   "metadata": {
    "collapsed": true
   },
   "outputs": [],
   "source": [
    "figure = plt.figure(figsize=(15,6))\n",
    "images_num_diff_counts = x.groupby('images_num_diff').count()['itemID_1']\n",
    "plt.bar(range(len(images_num_diff_counts)), images_num_diff_counts)\n",
    "plt.show()"
   ]
  },
  {
   "cell_type": "markdown",
   "metadata": {},
   "source": [
    "## Location Distance"
   ]
  },
  {
   "cell_type": "code",
   "execution_count": 51,
   "metadata": {
    "collapsed": true
   },
   "outputs": [],
   "source": [
    "x['region_dist'] = abs(x.regionID_x - x.regionID_y)"
   ]
  },
  {
   "cell_type": "code",
   "execution_count": 26,
   "metadata": {
    "collapsed": true
   },
   "outputs": [],
   "source": [
    "x['loc_dist'] = np.abs(x['lat_x']-x['lat_y']) + np.abs(x['lon_x']-x['lon_y'])"
   ]
  },
  {
   "cell_type": "markdown",
   "metadata": {},
   "source": [
    "## Computing Similarity"
   ]
  },
  {
   "cell_type": "code",
   "execution_count": 2,
   "metadata": {
    "collapsed": true
   },
   "outputs": [],
   "source": [
    "def clean_text(document):    \n",
    "    # Removes punctuations\n",
    "    document = document.translate(string.maketrans(string.punctuation, ' '*len(string.punctuation)))\n",
    "    \n",
    "    # Change to lowercase\n",
    "    document = document.lower()\n",
    "    \n",
    "    # Removes newline characters\n",
    "    document = ' '.join(document.split('\\n'))\n",
    "    \n",
    "    # Replace multiple spaces with one space\n",
    "    document = ' '.join(document.split())\n",
    "    #document = nlp(unicode(document))\n",
    "    \n",
    "    return document\n",
    "\n",
    "def word_vec(x, model, num_features):\n",
    "    try:\n",
    "        a = model[x]\n",
    "        b = 1\n",
    "    except KeyError:\n",
    "        a = np.zeros(num_features)\n",
    "        b = 0\n",
    "    return [a,b]\n",
    "\n",
    "def makeFeatureVec(words, model, num_features):\n",
    "    # Function to average all of the word vectors in a given\n",
    "    # paragraph\n",
    "    #\n",
    "    # Pre-initialize an empty numpy array (for speed)\n",
    "    featureVec = np.zeros((num_features,),dtype=\"float32\")\n",
    "    #\n",
    "    nwords = 0.\n",
    "    #\n",
    "    # Loop over each word in the review and, if it is in the model's\n",
    "    # vocaublary, add its feature vector to the total\n",
    "    \n",
    "    for word in words:\n",
    "        a, b = word_vec(word, model, num_features)\n",
    "        nwords = nwords + b\n",
    "        featureVec = np.add(featureVec, a)\n",
    "    # \n",
    "    # Divide the result by the number of words to get the average\n",
    "    if nwords != 0:\n",
    "        featureVec = np.divide(featureVec, nwords)\n",
    "    return featureVec"
   ]
  },
  {
   "cell_type": "code",
   "execution_count": 23,
   "metadata": {
    "scrolled": true
   },
   "outputs": [
    {
     "name": "stdout",
     "output_type": "stream",
     "text": [
      "10\n",
      "500000\n",
      "1000000\n",
      "1500000\n",
      "2000000\n"
     ]
    }
   ],
   "source": [
    "# Word2Vec\n",
    "sentences_desc_x = []\n",
    "sentences_desc_y = []\n",
    "for i in range(len(x.description_x)):\n",
    "    if i in [10, 500000, 1000000, 1500000, 2000000]:\n",
    "        print i\n",
    "    sentences_desc_x.append(clean_text(x.description_x[i]))\n",
    "    sentences_desc_y.append(clean_text(x.description_y[i]))\n",
    "pd.DataFrame(sentences_desc_x, columns = ['sentences_desc_x']).to_csv('sentences_desc_x.csv')\n",
    "pd.DataFrame(sentences_desc_y, columns = ['sentences_desc_y']).to_csv('sentences_desc_y.csv')\n",
    "del sentences_desc_x\n",
    "del sentences_desc_y"
   ]
  },
  {
   "cell_type": "code",
   "execution_count": 24,
   "metadata": {},
   "outputs": [
    {
     "name": "stdout",
     "output_type": "stream",
     "text": [
      "10\n",
      "500000\n",
      "1000000\n",
      "1500000\n",
      "2000000\n"
     ]
    }
   ],
   "source": [
    "sentences_title_x = []\n",
    "sentences_title_y = []\n",
    "for i in range(len(x.title_x)):\n",
    "    if i in [10, 500000, 1000000, 1500000, 2000000]:\n",
    "        print i\n",
    "    sentences_title_x.append(clean_text(x.title_x[i]))\n",
    "    sentences_title_y.append(clean_text(x.title_y[i]))\n",
    "pd.DataFrame(sentences_title_x, columns = ['sentences_title_x']).to_csv('sentences_title_x.csv')\n",
    "pd.DataFrame(sentences_title_y, columns = ['sentences_title_y']).to_csv('sentences_title_y.csv')\n",
    "del sentences_title_x\n",
    "del sentences_title_y"
   ]
  },
  {
   "cell_type": "code",
   "execution_count": 55,
   "metadata": {
    "collapsed": true
   },
   "outputs": [],
   "source": [
    "new_x = pd.DataFrame(np.column_stack([x.images_num_diff, x.price_diff, x.parentCategoryID_x, x.isDuplicate, x.loc_dist, x.region_dist]), columns = ['images_num_diff', 'price_diff', 'parentCategoryID_x', 'isDuplicate', 'loc_dist', 'region_dist'])\n",
    "new_x.to_csv('new_x.csv')\n",
    "del new_x"
   ]
  },
  {
   "cell_type": "code",
   "execution_count": 3,
   "metadata": {
    "collapsed": true
   },
   "outputs": [],
   "source": [
    "sentences_desc_x = pd.read_csv('sentences_desc_x.csv')\n",
    "sentences_desc_y = pd.read_csv('sentences_desc_y.csv')\n",
    "sentences_title_x = pd.read_csv('sentences_title_x.csv')\n",
    "sentences_title_y = pd.read_csv('sentences_title_y.csv')\n",
    "x = pd.read_csv('new_x.csv')"
   ]
  },
  {
   "cell_type": "code",
   "execution_count": 4,
   "metadata": {
    "collapsed": true
   },
   "outputs": [],
   "source": [
    "del sentences_desc_x['Unnamed: 0']\n",
    "del sentences_desc_y['Unnamed: 0']\n",
    "del sentences_title_x['Unnamed: 0']\n",
    "del sentences_title_y['Unnamed: 0']\n",
    "del x['Unnamed: 0']"
   ]
  },
  {
   "cell_type": "code",
   "execution_count": 5,
   "metadata": {
    "collapsed": true
   },
   "outputs": [],
   "source": [
    "kf = KFold(n_splits = 5, random_state = 1)\n",
    "train_score = []\n",
    "test_score = []\n",
    "log_reg = LogisticRegression()\n",
    "i = 0\n",
    "sentences_desc_x = np.array(sentences_desc_x.sentences_desc_x.map(lambda x : x.split() if isinstance(x, basestring) else str(x)))\n",
    "sentences_desc_y = np.array(sentences_desc_y.sentences_desc_y.map(lambda x : x.split() if isinstance(x, basestring) else str(x)))\n",
    "sentences_title_x = np.array(sentences_title_x.sentences_title_x.map(lambda x : x.split() if isinstance(x, basestring) else str(x)))\n",
    "sentences_title_y = np.array(sentences_title_y.sentences_title_y.map(lambda x : x.split() if isinstance(x, basestring) else str(x)))\n"
   ]
  },
  {
   "cell_type": "code",
   "execution_count": 6,
   "metadata": {
    "collapsed": true
   },
   "outputs": [],
   "source": [
    "train_index, test_index = list(kf.split(x))[0]"
   ]
  },
  {
   "cell_type": "code",
   "execution_count": 7,
   "metadata": {
    "collapsed": true
   },
   "outputs": [],
   "source": [
    "sentences_desc_x_train = sentences_desc_x[train_index]\n",
    "sentences_desc_y_train = sentences_desc_y[train_index]\n",
    "sentences_desc_x_test = sentences_desc_x[test_index]\n",
    "sentences_desc_y_test = sentences_desc_y[test_index]\n",
    "sentences_title_x_train = sentences_title_x[train_index]\n",
    "sentences_title_y_train = sentences_title_y[train_index]\n",
    "sentences_title_x_test = sentences_title_x[test_index]\n",
    "sentences_title_y_test = sentences_title_y[test_index]"
   ]
  },
  {
   "cell_type": "code",
   "execution_count": 8,
   "metadata": {
    "collapsed": true
   },
   "outputs": [],
   "source": [
    "training_corpus = np.concatenate((sentences_desc_x_train, sentences_desc_y_train, sentences_title_x_train, sentences_title_y_train))"
   ]
  },
  {
   "cell_type": "code",
   "execution_count": 9,
   "metadata": {},
   "outputs": [
    {
     "name": "stdout",
     "output_type": "stream",
     "text": [
      "Training w2v\n"
     ]
    }
   ],
   "source": [
    "print 'Training w2v'\n",
    "model = Word2Vec(training_corpus, min_count = 1, size = 50)"
   ]
  },
  {
   "cell_type": "code",
   "execution_count": 10,
   "metadata": {
    "collapsed": true
   },
   "outputs": [],
   "source": [
    "x_train, x_test = x.loc[train_index, :].reset_index(drop = True), x.loc[test_index, :].reset_index(drop = True)"
   ]
  },
  {
   "cell_type": "code",
   "execution_count": 11,
   "metadata": {
    "collapsed": true
   },
   "outputs": [],
   "source": [
    "model.save('w2v_full')"
   ]
  },
  {
   "cell_type": "code",
   "execution_count": 2,
   "metadata": {
    "collapsed": true
   },
   "outputs": [],
   "source": [
    "model = KeyedVectors.load('w2v_full')"
   ]
  },
  {
   "cell_type": "code",
   "execution_count": 13,
   "metadata": {},
   "outputs": [
    {
     "name": "stdout",
     "output_type": "stream",
     "text": [
      "computing training similarity\n",
      "10\n",
      "500000\n",
      "1000000\n",
      "1500000\n",
      "2000000\n",
      "1224282\n",
      "2393116\n",
      "0.51158489601\n"
     ]
    }
   ],
   "source": [
    "print 'computing training similarity'\n",
    "cos_sim_desc = []\n",
    "cos_sim_title = []\n",
    "trainDuplicate = []\n",
    "for i in range(len(sentences_desc_x_train)):\n",
    "    if i in [10, 500000, 1000000, 1500000, 2000000]:\n",
    "        print i\n",
    "    value_desc = model.wv.n_similarity(sentences_desc_x_train[i], sentences_desc_y_train[i])\n",
    "    value_title = model.wv.n_similarity(sentences_title_x_train[i], sentences_title_y_train[i])\n",
    "    cos_sim_desc.append(value_desc)\n",
    "    cos_sim_title.append(value_title)\n",
    "    if value_desc >= 0.5 and value_title >= 0.5:\n",
    "        if x_train.isDuplicate[i] == 1.0:\n",
    "            trainDuplicate.append(1)\n",
    "        else:\n",
    "            trainDuplicate.append(0)\n",
    "    else:\n",
    "        if x_train.isDuplicate[i] == 0.0:\n",
    "            trainDuplicate.append(1)\n",
    "        else:\n",
    "            trainDuplicate.append(0)\n",
    "print trainDuplicate.count(1)\n",
    "print len(trainDuplicate)\n",
    "print float(trainDuplicate.count(1)) / len(trainDuplicate)"
   ]
  },
  {
   "cell_type": "code",
   "execution_count": 14,
   "metadata": {
    "collapsed": true
   },
   "outputs": [],
   "source": [
    "model_vocab = set(model.wv.index2word)"
   ]
  },
  {
   "cell_type": "code",
   "execution_count": 15,
   "metadata": {
    "collapsed": true
   },
   "outputs": [],
   "source": [
    "def check_word_vec(sent, model_vocab = model_vocab):\n",
    "    final_sent = []\n",
    "    for word in sent:\n",
    "        if word in model_vocab:\n",
    "            final_sent.append(word)\n",
    "    return final_sent"
   ]
  },
  {
   "cell_type": "code",
   "execution_count": 16,
   "metadata": {},
   "outputs": [
    {
     "name": "stdout",
     "output_type": "stream",
     "text": [
      "10\n",
      "500000\n",
      "305384\n",
      "598280\n",
      "0.510436584877\n"
     ]
    }
   ],
   "source": [
    "cos_sim_desc_test = []\n",
    "cos_sim_title_test = []\n",
    "testDuplicate = []\n",
    "for i in range(len(sentences_desc_x_test)):\n",
    "    if i in [10, 500000, 1000000, 1500000, 2000000]:\n",
    "        print i\n",
    "    sentences_desc_x_testa = check_word_vec(sentences_desc_x_test[i])\n",
    "    sentences_desc_y_testa = check_word_vec(sentences_desc_y_test[i])\n",
    "    sentences_title_x_testa = check_word_vec(sentences_title_x_test[i])\n",
    "    sentences_title_y_testa = check_word_vec(sentences_title_y_test[i])\n",
    "    if len(sentences_desc_x_testa) and len(sentences_desc_y_testa):\n",
    "        value_desc = model.wv.n_similarity(sentences_desc_x_testa, sentences_desc_y_testa)\n",
    "    if len(sentences_title_x_testa) and len(sentences_title_y_testa):\n",
    "        value_title = model.wv.n_similarity(sentences_title_x_testa, sentences_title_y_testa)\n",
    "    cos_sim_desc_test.append(value_desc)\n",
    "    cos_sim_title_test.append(value_title)\n",
    "    if value_desc >= 0.5 and value_title >= 0.5:\n",
    "        if x_test.isDuplicate[i] == 1.0:\n",
    "            testDuplicate.append(1)\n",
    "        else:\n",
    "            testDuplicate.append(0)\n",
    "    else:\n",
    "        if x_test.isDuplicate[i] == 0.0:\n",
    "            testDuplicate.append(1)\n",
    "        else:\n",
    "            testDuplicate.append(0)\n",
    "print testDuplicate.count(1)\n",
    "print len(testDuplicate)\n",
    "print float(testDuplicate.count(1)) / len(testDuplicate)"
   ]
  },
  {
   "cell_type": "code",
   "execution_count": 17,
   "metadata": {
    "collapsed": true
   },
   "outputs": [],
   "source": [
    "cos_sim_desc_train_df = pd.DataFrame(cos_sim_desc, columns = ['cos_sim_desc_train'])\n",
    "cos_sim_desc_test_df = pd.DataFrame(cos_sim_desc_test, columns = ['cos_sim_desc_test'])\n",
    "cos_sim_title_train_df = pd.DataFrame(cos_sim_title, columns = ['cos_sim_title_train'])\n",
    "cos_sim_title_test_df = pd.DataFrame(cos_sim_title_test, columns = ['cos_sim_title_test'])"
   ]
  },
  {
   "cell_type": "code",
   "execution_count": 18,
   "metadata": {
    "collapsed": true
   },
   "outputs": [],
   "source": [
    "x_train = pd.concat([x_train, cos_sim_desc_train_df, cos_sim_title_train_df], axis = 1)\n",
    "x_test = pd.concat([x_test, cos_sim_desc_test_df, cos_sim_title_test_df], axis = 1)"
   ]
  },
  {
   "cell_type": "code",
   "execution_count": 19,
   "metadata": {},
   "outputs": [
    {
     "name": "stdout",
     "output_type": "stream",
     "text": [
      "Test Accuracy: 0.676868690245\n",
      "Train Accuracy: 0.676090920791\n"
     ]
    }
   ],
   "source": [
    "kf = KFold(n_splits = 5, random_state = 1)\n",
    "train_score = []\n",
    "test_score = []\n",
    "log_reg = LogisticRegression()\n",
    "log_reg.fit(x_train.iloc[:, x_train.columns != 'isDuplicate'], np.array(x_train.isDuplicate))\n",
    "pred_train = log_reg.predict(x_train.iloc[:, x_train.columns != 'isDuplicate'])\n",
    "pred_test = log_reg.predict(x_test.iloc[:, x_test.columns != 'isDuplicate'])\n",
    "train_score.append(pred_train)\n",
    "test_score.append(pred_test)\n",
    "print \"Test Accuracy:\", accuracy_score(x_test.isDuplicate, pred_test)\n",
    "print \"Train Accuracy:\", accuracy_score(x_train.isDuplicate, pred_train)"
   ]
  },
  {
   "cell_type": "code",
   "execution_count": null,
   "metadata": {
    "collapsed": true
   },
   "outputs": [],
   "source": []
  }
 ],
 "metadata": {
  "kernelspec": {
   "display_name": "Python 2",
   "language": "python",
   "name": "python2"
  },
  "language_info": {
   "codemirror_mode": {
    "name": "ipython",
    "version": 2
   },
   "file_extension": ".py",
   "mimetype": "text/x-python",
   "name": "python",
   "nbconvert_exporter": "python",
   "pygments_lexer": "ipython2",
   "version": "2.7.13"
  }
 },
 "nbformat": 4,
 "nbformat_minor": 2
}
