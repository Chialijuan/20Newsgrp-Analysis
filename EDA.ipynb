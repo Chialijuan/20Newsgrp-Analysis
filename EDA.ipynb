{
 "cells": [
  {
   "cell_type": "code",
   "execution_count": 31,
   "metadata": {
    "collapsed": true
   },
   "outputs": [],
   "source": [
    "import pandas as pd\n",
    "from email.parser import Parser\n",
    "import os"
   ]
  },
  {
   "cell_type": "code",
   "execution_count": 79,
   "metadata": {},
   "outputs": [
    {
     "name": "stdout",
     "output_type": "stream",
     "text": [
      "1000\n"
     ]
    }
   ],
   "source": [
    "fpath = '20_newsgroups/alt.athesim_test'\n",
    "messagefolder =[]\n",
    "\n",
    "for root, dirs, files in os.walk(fpath, topdown=False):\n",
    "    for name in files:\n",
    "        filename = os.path.join(root, name)\n",
    "#         print(filename)\n",
    "#     for name in dirs:\n",
    "#         print(os.path.join(root, name))\n",
    "\n",
    "        with open(filename, 'r') as f:\n",
    "            messagefolder.append(f.read())\n",
    "\n",
    "print(len(messagefolder))"
   ]
  },
  {
   "cell_type": "code",
   "execution_count": 164,
   "metadata": {},
   "outputs": [
    {
     "name": "stdout",
     "output_type": "stream",
     "text": [
      "HERE\n",
      "In article <N4HY.93Apr5120934@harder.ccr-p.ida.org>, n4hy@harder.ccr-p.ida.org (Bob McGwier) writes:|> [1] HOWEVER, I hate economic terrorism and political correctness|> worse than I hate this policy.  |> [2] A more effective approach is to stop donating|> to ANY organizating that directly or indirectly supports gay rights issues|> until they end the boycott on funding of scouts.  Can somebody reconcile the apparent contradiction between [1] and [2]?-- Rob Strom, strom@watson.ibm.com, (914) 784-7641IBM Research, 30 Saw Mill River Road, P.O. Box 704, Yorktown Heights, NY  10598\n",
      "<type 'str'>\n"
     ]
    },
    {
     "data": {
      "text/plain": [
       "<email.message.Message instance at 0x000000000BC27088>"
      ]
     },
     "execution_count": 164,
     "metadata": {},
     "output_type": "execute_result"
    }
   ],
   "source": [
    "messagefile = messagefolder[4]\n",
    "headers = Parser().parsestr(messagefile,headersonly=True)\n",
    "\n",
    "# Get email's body\n",
    "if headers.is_multipart():\n",
    "    for part in headers.get_payload(decode=True):\n",
    "        txt = part.get_payload().replace('\\n', '')\n",
    "#         print(txt)\n",
    "else:\n",
    "    print(\"HERE\")\n",
    "    txt = headers.get_payload().replace('\\n', '')\n",
    "#     print(txt)\n",
    "\n",
    "print(txt)\n",
    "print(type(txt))\n",
    "headers"
   ]
  },
  {
   "cell_type": "code",
   "execution_count": 168,
   "metadata": {},
   "outputs": [],
   "source": [
    "# headers = Parser().parse(open(messagefile, 'r'))\n",
    "# messagefile = messagefolder[4]\n",
    "def message_parser(messagefile):\n",
    "    headers = Parser().parsestr(messagefile,headersonly=True)\n",
    "\n",
    "    # Get email's body\n",
    "    if headers.is_multipart():\n",
    "        for part in headers.get_payload():\n",
    "            txt = part.get_payload()\n",
    "    else:\n",
    "        txt = headers.get_payload()\n",
    "\n",
    "    # Get email's headers\n",
    "    df = pd.DataFrame({'Path':headers['Path'],\n",
    "                      'From': headers['From'],\n",
    "                      'Newsgroups': headers['Newsgroups'],\n",
    "                      'Subject': headers['Subject'],\n",
    "                      'Date': headers['Date'],\n",
    "                      'Organization':headers['Organization'],\n",
    "                      'NNTP-Posting-Host':headers['NNTP-Posting-Host'],\n",
    "                      'References': headers['References'],\n",
    "                      'Message-ID': headers['Message-ID'],\n",
    "                      'Sender': headers['Sender'],\n",
    "                      'Body': txt.replace('\\n', '').strip(),\n",
    "                      'Lines': headers['Lines']}, index=[0])\n",
    "    return df"
   ]
  },
  {
   "cell_type": "code",
   "execution_count": 172,
   "metadata": {},
   "outputs": [
    {
     "name": "stdout",
     "output_type": "stream",
     "text": [
      "Length of df: 1000\n",
      "                                                                                                                                                                                                                                                                                                                                                                                                              Body  \\\n",
      "0  Archive-name: atheism/resourcesAlt-atheism-archive-name: resourcesLast-modified: 11 December 1992Version: 1.0                              Atheist Resources                      Addresses of Atheist Organizations                                     USAFREEDOM FROM RELIGION FOUNDATIONDarwin fish bumper stickers and assorted other atheist paraphernalia areavailable from the Freedom From Religion...   \n",
      "1  Archive-name: atheism/introductionAlt-atheism-archive-name: introductionLast-modified: 5 April 1993Version: 1.2-----BEGIN PGP SIGNED MESSAGE-----                          An Introduction to Atheism                       by mathew <mathew@mantis.co.uk>This article attempts to provide a general introduction to atheism.  Whilst Ihave tried to be as neutral as possible regarding contentious issues...   \n",
      "2  In article <65974@mimsy.umd.edu>mangoe@cs.umd.edu (Charley Wingate) writes: >>Well, John has a quite different, not necessarily more elaborated theology.>>There is some evidence that he must have known Luke, and that the content>>of Q was known to him, but not in a 'canonized' form.>>This is a new argument to me.  Could you elaborate a little?> The argument goes as follows: Q-oid quotes appear...   \n",
      "3  dmn@kepler.unh.edu (...until kings become philosophers or philosophers become kings) writes:>      Recently, RAs have been ordered (and none have resisted or cared about> it apparently) to post a religious flyer entitled _The Soul Scroll: Thoughts> on religion, spirituality, and matters of the soul_ on the inside of bathroom> stall doors. (at my school, the University of New Hampshire) It is s...   \n",
      "4  In article <N4HY.93Apr5120934@harder.ccr-p.ida.org>, n4hy@harder.ccr-p.ida.org (Bob McGwier) writes:|> [1] HOWEVER, I hate economic terrorism and political correctness|> worse than I hate this policy.  |> [2] A more effective approach is to stop donating|> to ANY organizating that directly or indirectly supports gay rights issues|> until they end the boycott on funding of scouts.  Can somebody...   \n",
      "\n",
      "                            Date  \\\n",
      "0  Mon, 29 Mar 1993 11:57:19 GMT   \n",
      "1   Mon, 5 Apr 1993 12:22:45 GMT   \n",
      "2   Mon, 5 Apr 1993 19:08:25 GMT   \n",
      "3   Mon, 5 Apr 1993 17:58:42 GMT   \n",
      "4    Mon, 05 Apr 93 18:01:16 GMT   \n",
      "\n",
      "                                             From Lines  \\\n",
      "0                    mathew <mathew@mantis.co.uk>   290   \n",
      "1                    mathew <mathew@mantis.co.uk>   646   \n",
      "2  I3150101@dbstu1.rz.tu-bs.de (Benedikt Rosenau)    93   \n",
      "3                    mathew <mathew@mantis.co.uk>    29   \n",
      "4                strom@Watson.Ibm.Com (Rob Strom)    15   \n",
      "\n",
      "                                       Message-ID NNTP-Posting-Host  \\\n",
      "0                   <19930329115719@mantis.co.uk>              None   \n",
      "1                   <19930405122245@mantis.co.uk>              None   \n",
      "2        <16BA711B3A.I3150101@dbstu1.rz.tu-bs.de>              None   \n",
      "3  <930405.175842.5d8.rusnews.w165w@mantis.co.uk>              None   \n",
      "4         <1993Apr05.180116.43346@watson.ibm.com>              None   \n",
      "\n",
      "                                                   Newsgroups  \\\n",
      "0  alt.atheism,alt.atheism.moderated,news.answers,alt.answers   \n",
      "1  alt.atheism,alt.atheism.moderated,news.answers,alt.answers   \n",
      "2                                                 alt.atheism   \n",
      "3                   alt.atheism,alt.politics.usa.constitution   \n",
      "4                          alt.atheism,soc.motss,rec.scouting   \n",
      "\n",
      "                                 Organization  \\\n",
      "0          Mantis Consultants, Cambridge. UK.   \n",
      "1          Mantis Consultants, Cambridge. UK.   \n",
      "2  Technical University Braunschweig, Germany   \n",
      "3          Mantis Consultants, Cambridge. UK.   \n",
      "4                                IBM Research   \n",
      "\n",
      "                                                                                                                                                                                                                Path  \\\n",
      "0       cantaloupe.srv.cs.cmu.edu!crabapple.srv.cs.cmu.edu!bb3.andrew.cmu.edu!news.sei.cmu.edu!cis.ohio-state.edu!magnus.acs.ohio-state.edu!usenet.ins.cwru.edu!agate!spool.mu.edu!uunet!pipex!ibmpcug!mantis!mathew   \n",
      "1                                                                 cantaloupe.srv.cs.cmu.edu!crabapple.srv.cs.cmu.edu!fs7.ece.cmu.edu!europa.eng.gtefsd.com!howland.reston.ans.net!agate!netsys!ibmpcug!mantis!mathew   \n",
      "2  cantaloupe.srv.cs.cmu.edu!crabapple.srv.cs.cmu.edu!fs7.ece.cmu.edu!europa.eng.gtefsd.com!howland.reston.ans.net!usc!sdd.hp.com!nigel.msen.com!yale.edu!ira.uka.de!news.dfn.de!tubsibr!dbstu1.rz.tu-bs.de!I3150101   \n",
      "3                                                             cantaloupe.srv.cs.cmu.edu!crabapple.srv.cs.cmu.edu!fs7.ece.cmu.edu!europa.eng.gtefsd.com!howland.reston.ans.net!wupost!uunet!pipex!ibmpcug!mantis!news   \n",
      "4            cantaloupe.srv.cs.cmu.edu!crabapple.srv.cs.cmu.edu!fs7.ece.cmu.edu!europa.eng.gtefsd.com!howland.reston.ans.net!wupost!uunet!newsgate.watson.ibm.com!yktnews.watson.ibm.com!watson!Watson.Ibm.Com!strom   \n",
      "\n",
      "                                                                                                          References  \\\n",
      "0                                                                                                               None   \n",
      "1                                                                                                               None   \n",
      "2                                                      <16BA1E197.I3150101@dbstu1.rz.tu-bs.de> <65974@mimsy.umd.edu>   \n",
      "3                                                                              <199304041750.AA17104@kepler.unh.edu>   \n",
      "4  <C47EFs.3q47@austin.ibm.com> <1993Mar22.033150.17345@cbnewsl.cb.att.com> <N4HY.93Apr5120934@harder.ccr-p.ida.org>   \n",
      "\n",
      "                                            Sender  \\\n",
      "0                                             None   \n",
      "1                                             None   \n",
      "2  postnntp@ibr.cs.tu-bs.de (Mr. Nntp Inews Entry)   \n",
      "3                                             None   \n",
      "4                                  @watson.ibm.com   \n",
      "\n",
      "                                                                  Subject  \n",
      "0                                      Alt.Atheism FAQ: Atheist Resources  \n",
      "1                                Alt.Atheism FAQ: Introduction to Atheism  \n",
      "2                                                       Re: Gospel Dating  \n",
      "3                    Re: university violating separation of church/state?  \n",
      "4  Re: [soc.motss, et al.] \"Princeton axes matching funds for Boy Scouts\"  \n"
     ]
    }
   ],
   "source": [
    "frames = []\n",
    "for file in messagefolder:\n",
    "    frames.append(message_parser(file))\n",
    "\n",
    "message_df = pd.concat(frames)\n",
    "message_df = message_df.reset_index(drop=True)\n",
    "print('Length of df: {}'.format(len(message_df)))\n",
    "print(message_df.head())"
   ]
  },
  {
   "cell_type": "code",
   "execution_count": 153,
   "metadata": {
    "collapsed": true
   },
   "outputs": [],
   "source": [
    "message_df.to_csv('message_df.csv')"
   ]
  },
  {
   "cell_type": "code",
   "execution_count": 123,
   "metadata": {},
   "outputs": [],
   "source": [
    "def print_full(x):\n",
    "    pd.set_option('display.max_rows', len(x))\n",
    "    pd.set_option('display.max_colwidth',400)\n",
    "    print(x)\n",
    "    pd.reset_option('display.max_rows')"
   ]
  },
  {
   "cell_type": "code",
   "execution_count": 171,
   "metadata": {
    "collapsed": true
   },
   "outputs": [
    {
     "name": "stdout",
     "output_type": "stream",
     "text": [
      "Archive-name: atheism/resourcesAlt-atheism-archive-name: resourcesLast-modified: 11 December 1992Version: 1.0                              Atheist Resources                      Addresses of Atheist Organizations                                     USAFREEDOM FROM RELIGION FOUNDATIONDarwin fish bumper stickers and assorted other atheist paraphernalia areavailable from the Freedom From Religion Foundation in the US.Write to:  FFRF, P.O. Box 750, Madison, WI 53701.Telephone: (608) 256-8900EVOLUTION DESIGNSEvolution Designs sell the \"Darwin fish\".  It's a fish symbol, like the onesChristians stick on their cars, but with feet and the word \"Darwin\" writteninside.  The deluxe moulded 3D plastic fish is $4.95 postpaid in the US.Write to:  Evolution Designs, 7119 Laurel Canyon #4, North Hollywood,           CA 91605.People in the San Francisco Bay area can get Darwin Fish from Lynn Gold --try mailing <figmo@netcom.com>.  For net people who go to Lynn directly, theprice is $4.95 per fish.AMERICAN ATHEIST PRESSAAP publish various atheist books -- critiques of the Bible, lists ofBiblical contradictions, and so on.  One such book is:\"The Bible Handbook\" by W.P. Ball and G.W. Foote.  American Atheist Press.372 pp.  ISBN 0-910309-26-4, 2nd edition, 1986.  Bible contradictions,absurdities, atrocities, immoralities... contains Ball, Foote: \"The BibleContradicts Itself\", AAP.  Based on the King James version of the Bible.Write to:  American Atheist Press, P.O. Box 140195, Austin, TX 78714-0195.      or:  7215 Cameron Road, Austin, TX 78752-2973.Telephone: (512) 458-1244Fax:       (512) 467-9525PROMETHEUS BOOKSSell books including Haught's \"Holy Horrors\" (see below).Write to:  700 East Amherst Street, Buffalo, New York 14215.Telephone: (716) 837-2475.An alternate address (which may be newer or older) is:Prometheus Books, 59 Glenn Drive, Buffalo, NY 14228-2197.AFRICAN-AMERICANS FOR HUMANISMAn organization promoting black secular humanism and uncovering the history ofblack freethought.  They publish a quarterly newsletter, AAH EXAMINER.Write to:  Norm R. Allen, Jr., African Americans for Humanism, P.O. Box 664,           Buffalo, NY 14226.                                United KingdomRationalist Press Association          National Secular Society88 Islington High Street               702 Holloway RoadLondon N1 8EW                          London N19 3NL071 226 7251                           071 272 1266British Humanist Association           South Place Ethical Society14 Lamb's Conduit Passage              Conway HallLondon WC1R 4RH                        Red Lion Square071 430 0908                           London WC1R 4RLfax 071 430 1271                       071 831 7723The National Secular Society publish \"The Freethinker\", a monthly magazinefounded in 1881.                                   GermanyIBKA e.V.Internationaler Bund der Konfessionslosen und AtheistenPostfach 880, D-1000 Berlin 41. Germany.IBKA publish a journal:MIZ. (Materialien und Informationen zur Zeit. PolitischesJournal der Konfessionslosesn und Atheisten. Hrsg. IBKA e.V.)MIZ-Vertrieb, Postfach 880, D-1000 Berlin 41. Germany.For atheist books, write to:IBDK, Internationaler B\"ucherdienst der KonfessionslosenPostfach 3005, D-3000 Hannover 1. Germany.Telephone: 0511/211216                               Books -- FictionTHOMAS M. DISCH\"The Santa Claus Compromise\"Short story.  The ultimate proof that Santa exists.  All characters and events are fictitious.  Any similarity to living or dead gods -- uh, well...WALTER M. MILLER, JR\"A Canticle for Leibowitz\"One gem in this post atomic doomsday novel is the monks who spent their livescopying blueprints from \"Saint Leibowitz\", filling the sheets of paper withink and leaving white lines and letters.EDGAR PANGBORN\"Davy\"Post atomic doomsday novel set in clerical states.  The church, for example,forbids that anyone \"produce, describe or use any substance containing...atoms\". PHILIP K. DICKPhilip K. Dick Dick wrote many philosophical and thought-provoking short stories and novels.  His stories are bizarre at times, but very approachable.He wrote mainly SF, but he wrote about people, truth and religion rather thantechnology.  Although he often believed that he had met some sort of God, heremained sceptical.  Amongst his novels, the following are of some relevance:\"Galactic Pot-Healer\"A fallible alien deity summons a group of Earth craftsmen and women to aremote planet to raise a giant cathedral from beneath the oceans.  When thedeity begins to demand faith from the earthers, pot-healer Joe Fernwright isunable to comply.  A polished, ironic and amusing novel.\"A Maze of Death\"Noteworthy for its description of a technology-based religion.\"VALIS\"The schizophrenic hero searches for the hidden mysteries of GnosticChristianity after reality is fired into his brain by a pink laser beam ofunknown but possibly divine origin.  He is accompanied by his dogmatic anddismissively atheist friend and assorted other odd characters.\"The Divine Invasion\"God invades Earth by making a young woman pregnant as she returns fromanother star system.  Unfortunately she is terminally ill, and must beassisted by a dead man whose brain is wired to 24-hour easy listening music.MARGARET ATWOOD\"The Handmaid's Tale\"A story based on the premise that the US Congress is mysteriouslyassassinated, and fundamentalists quickly take charge of the nation to set it\"right\" again.  The book is the diary of a woman's life as she tries to liveunder the new Christian theocracy.  Women's right to own property is revoked,and their bank accounts are closed; sinful luxuries are outlawed, and theradio is only used for readings from the Bible.  Crimes are punishedretroactively: doctors who performed legal abortions in the \"old world\" arehunted down and hanged.  Atwood's writing style is difficult to get used toat first, but the tale grows more and more chilling as it goes on.VARIOUS AUTHORS\"The Bible\"This somewhat dull and rambling work has often been criticized.  However, itis probably worth reading, if only so that you'll know what all the fuss isabout.  It exists in many different versions, so make sure you get the onetrue version.                             Books -- Non-fictionPETER DE ROSA\"Vicars of Christ\", Bantam Press, 1988Although de Rosa seems to be Christian or even Catholic this is a veryenlighting history of papal immoralities, adulteries, fallacies etc.(German translation: \"Gottes erste Diener. Die dunkle Seite des Papsttums\",Droemer-Knaur, 1989)MICHAEL MARTIN\"Atheism: A Philosophical Justification\", Temple University Press, Philadelphia, USA.A detailed and scholarly justification of atheism.  Contains an outstandingappendix defining terminology and usage in this (necessarily) tendentiousarea.  Argues both for \"negative atheism\" (i.e. the \"non-belief in theexistence of god(s)\") and also for \"positive atheism\" (\"the belief in thenon-existence of god(s)\").  Includes great refutations of the mostchallenging arguments for god; particular attention is paid to refutingcontempory theists such as Platinga and Swinburne.541 pages. ISBN 0-87722-642-3 (hardcover; paperback also available)\"The Case Against Christianity\", Temple University PressA comprehensive critique of Christianity, in which he considersthe best contemporary defences of Christianity and (ultimately)demonstrates that they are unsupportable and/or incoherent.273 pages. ISBN 0-87722-767-5JAMES TURNER\"Without God, Without Creed\", The Johns Hopkins University Press, Baltimore, MD, USASubtitled \"The Origins of Unbelief in America\".  Examines the way in whichunbelief (whether agnostic or atheistic)  became a mainstream alternativeworld-view.  Focusses on the period 1770-1900, and while considering Franceand Britain the emphasis is on American, and particularly New Englanddevelopments.  \"Neither a religious history of secularization or atheism,Without God, Without Creed is, rather, the intellectual history of the fateof a single idea, the belief that God exists.\" 316 pages. ISBN (hardcover) 0-8018-2494-X (paper) 0-8018-3407-4GEORGE SELDES (Editor)\"The great thoughts\", Ballantine Books, New York, USAA \"dictionary of quotations\" of a different kind, concentrating on statementsand writings which, explicitly or implicitly, present the person's philosophyand world-view.  Includes obscure (and often suppressed) opinions from manypeople.  For some popular observations, traces the way in which variouspeople expressed and twisted the idea over the centuries.  Quite a number ofthe quotations are derived from Cardiff's \"What Great Men Think of Religion\"and Noyes' \"Views of Religion\".490 pages. ISBN (paper) 0-345-29887-X.RICHARD SWINBURNE\"The Existence of God (Revised Edition)\", Clarendon Paperbacks, OxfordThis book is the second volume in a trilogy that began with \"The Coherence ofTheism\" (1977) and was concluded with \"Faith and Reason\" (1981).  In thiswork, Swinburne attempts to construct a series of inductive arguments for theexistence of God.  His arguments, which are somewhat tendentious and relyupon the imputation of late 20th century western Christian values andaesthetics to a God which is supposedly as simple as can be conceived, weredecisively rejected in Mackie's \"The Miracle of Theism\".  In the revisededition of \"The Existence of God\", Swinburne includes an Appendix in which hemakes a somewhat incoherent attempt to rebut Mackie.J. L. MACKIE\"The Miracle of Theism\", OxfordThis (posthumous) volume contains a comprehensive review of the principalarguments for and against the existence of God.  It ranges from the classicalphilosophical positions of Descartes, Anselm, Berkeley, Hume et al, throughthe moral arguments of Newman, Kant and Sidgwick, to the recent restatementsof the classical theses by Plantinga and Swinburne.  It also addresses thosepositions which push the concept of God beyond the realm of the rational,such as those of Kierkegaard, Kung and Philips, as well as \"replacements forGod\" such as Lelie's axiarchism.  The book is a delight to read - lessformalistic and better written than Martin's works, and refreshingly directwhen compared with the hand-waving of Swinburne.JAMES A. HAUGHT\"Holy Horrors: An Illustrated History of Religious Murder and Madness\", Prometheus BooksLooks at religious persecution from ancient times to the present day -- andnot only by Christians.Library of Congress Catalog Card Number 89-64079. 1990.NORM R. ALLEN, JR.\"African American Humanism: an Anthology\"See the listing for African Americans for Humanism above.GORDON STEIN\"An Anthology of Atheism and Rationalism\", Prometheus BooksAn anthology covering a wide range of subjects, including 'The Devil, Eviland Morality' and 'The History of Freethought'.  Comprehensive bibliography.EDMUND D. COHEN\"The Mind of The Bible-Believer\", Prometheus BooksA study of why people become Christian fundamentalists, and what effect ithas on them.                                Net ResourcesThere's a small mail-based archive server at mantis.co.uk which carriesarchives of old alt.atheism.moderated articles and assorted other files.  Formore information, send mail to archive-server@mantis.co.uk saying   help   send atheism/indexand it will mail back a reply.mathew�\n"
     ]
    }
   ],
   "source": [
    "print_full(message_df.iloc[0,0])\n"
   ]
  }
 ],
 "metadata": {
  "kernelspec": {
   "display_name": "Python 2",
   "language": "python",
   "name": "python2"
  },
  "language_info": {
   "codemirror_mode": {
    "name": "ipython",
    "version": 2
   },
   "file_extension": ".py",
   "mimetype": "text/x-python",
   "name": "python",
   "nbconvert_exporter": "python",
   "pygments_lexer": "ipython2",
   "version": "2.7.13"
  }
 },
 "nbformat": 4,
 "nbformat_minor": 2
}
